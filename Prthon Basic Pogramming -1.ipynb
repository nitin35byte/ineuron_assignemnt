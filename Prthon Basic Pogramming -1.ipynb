{
 "cells": [
  {
   "cell_type": "code",
   "execution_count": null,
   "id": "b3b5b518",
   "metadata": {},
   "outputs": [],
   "source": [
    "##1. Write a Python program to print \"Hello Python\";?"
   ]
  },
  {
   "cell_type": "code",
   "execution_count": 1,
   "id": "2cae2413",
   "metadata": {
    "scrolled": true
   },
   "outputs": [
    {
     "name": "stdout",
     "output_type": "stream",
     "text": [
      "HELLLO PYTHON\n"
     ]
    }
   ],
   "source": [
    "print(\"HELLLO PYTHON\")"
   ]
  },
  {
   "cell_type": "code",
   "execution_count": null,
   "id": "c2a26b9d",
   "metadata": {},
   "outputs": [],
   "source": [
    "##2. Write a Python program to do arithmetical operations addition and division.?"
   ]
  },
  {
   "cell_type": "code",
   "execution_count": 2,
   "id": "cdfa9fcd",
   "metadata": {
    "scrolled": true
   },
   "outputs": [
    {
     "name": "stdout",
     "output_type": "stream",
     "text": [
      "30\n"
     ]
    }
   ],
   "source": [
    "#Addition\n",
    "a = 10\n",
    "b = 20\n",
    "c = a+b\n",
    "print(c)"
   ]
  },
  {
   "cell_type": "code",
   "execution_count": 7,
   "id": "cd4525d2",
   "metadata": {
    "scrolled": false
   },
   "outputs": [
    {
     "name": "stdout",
     "output_type": "stream",
     "text": [
      "20.0\n"
     ]
    }
   ],
   "source": [
    "#Division\n",
    "a = 80\n",
    "b = 4\n",
    "c = a/b\n",
    "print(c)"
   ]
  },
  {
   "cell_type": "code",
   "execution_count": 10,
   "id": "bb00b6a9",
   "metadata": {},
   "outputs": [
    {
     "name": "stdout",
     "output_type": "stream",
     "text": [
      "20.0\n",
      "84\n"
     ]
    }
   ],
   "source": [
    "a = 80\n",
    "b = 4\n",
    "c = a/b\n",
    "d = a+b\n",
    "print(c)\n",
    "print(d)"
   ]
  },
  {
   "cell_type": "code",
   "execution_count": null,
   "id": "a5da291e",
   "metadata": {},
   "outputs": [],
   "source": [
    "##3.  Write a Python program to find the area of a triangle?"
   ]
  },
  {
   "cell_type": "code",
   "execution_count": 12,
   "id": "8306efb4",
   "metadata": {},
   "outputs": [
    {
     "name": "stdout",
     "output_type": "stream",
     "text": [
      "17500.0\n"
     ]
    }
   ],
   "source": [
    "h = 500\n",
    "b = 70\n",
    "area =h*b/2\n",
    "print(area)"
   ]
  },
  {
   "cell_type": "code",
   "execution_count": null,
   "id": "1107e2b3",
   "metadata": {},
   "outputs": [],
   "source": [
    "##4. Write a Python program to swap two variables?"
   ]
  },
  {
   "cell_type": "code",
   "execution_count": 14,
   "id": "e908197e",
   "metadata": {
    "scrolled": true
   },
   "outputs": [
    {
     "name": "stdout",
     "output_type": "stream",
     "text": [
      "The value of x after swapping: 80\n",
      "The value of y after swapping: 10\n"
     ]
    }
   ],
   "source": [
    "a = 10\n",
    "b = 80\n",
    "\n",
    "temp = a\n",
    "a = b\n",
    "b = temp\n",
    "\n",
    "print('The value of x after swapping: {}'.format(a))\n",
    "print('The value of y after swapping: {}'.format(b))\n"
   ]
  },
  {
   "cell_type": "code",
   "execution_count": null,
   "id": "f2840350",
   "metadata": {},
   "outputs": [],
   "source": [
    "##5. Write a Python program to generate a random number?"
   ]
  },
  {
   "cell_type": "code",
   "execution_count": 20,
   "id": "c397e2e6",
   "metadata": {},
   "outputs": [
    {
     "name": "stdout",
     "output_type": "stream",
     "text": [
      "28\n"
     ]
    }
   ],
   "source": [
    "import random\n",
    "print(random.randint(0 ,30))"
   ]
  },
  {
   "cell_type": "code",
   "execution_count": null,
   "id": "9fb90a35",
   "metadata": {},
   "outputs": [],
   "source": []
  }
 ],
 "metadata": {
  "kernelspec": {
   "display_name": "Python 3",
   "language": "python",
   "name": "python3"
  },
  "language_info": {
   "codemirror_mode": {
    "name": "ipython",
    "version": 3
   },
   "file_extension": ".py",
   "mimetype": "text/x-python",
   "name": "python",
   "nbconvert_exporter": "python",
   "pygments_lexer": "ipython3",
   "version": "3.8.8"
  }
 },
 "nbformat": 4,
 "nbformat_minor": 5
}
