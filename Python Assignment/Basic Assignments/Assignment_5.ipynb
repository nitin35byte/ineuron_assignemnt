{
 "cells": [
  {
   "cell_type": "markdown",
   "id": "541ecbdf",
   "metadata": {},
   "source": [
    "## Basic_python Assignment_Assignment_5"
   ]
  },
  {
   "cell_type": "markdown",
   "id": "e87ce1a4",
   "metadata": {},
   "source": [
    "#### 1. What does an empty dictionary&#39;s code look like?"
   ]
  },
  {
   "cell_type": "code",
   "execution_count": null,
   "id": "f600372c",
   "metadata": {},
   "outputs": [],
   "source": [
    "Ans. To create an empty dictionary, the dictionary should be set to {}. This is shown in the code below. So, with this code above, we create a dictionary called items which is set equal to {}. So this dictionary named items is empty."
   ]
  },
  {
   "cell_type": "code",
   "execution_count": 1,
   "id": "e347c93d",
   "metadata": {},
   "outputs": [
    {
     "data": {
      "text/plain": [
       "dict"
      ]
     },
     "execution_count": 1,
     "metadata": {},
     "output_type": "execute_result"
    }
   ],
   "source": [
    "emptyDict = {}\n",
    "type(emptyDict)"
   ]
  },
  {
   "cell_type": "markdown",
   "id": "1a0a8558",
   "metadata": {},
   "source": [
    "### 2. What is the value of a dictionary value with the key 'foo' and the value 42?"
   ]
  },
  {
   "cell_type": "markdown",
   "id": "1989325d",
   "metadata": {},
   "source": [
    "# Ans.The items stored in a dictionary are unordered, while the items in a list are ordered."
   ]
  },
  {
   "cell_type": "code",
   "execution_count": 4,
   "id": "621f95b7",
   "metadata": {},
   "outputs": [
    {
     "data": {
      "text/plain": [
       "42"
      ]
     },
     "execution_count": 4,
     "metadata": {},
     "output_type": "execute_result"
    }
   ],
   "source": [
    "dict = {'foo': 42}\n",
    "dict['foo']"
   ]
  },
  {
   "cell_type": "markdown",
   "id": "10221b84",
   "metadata": {},
   "source": [
    "### 3.What is the most significant distinction between a dictionary and a list?"
   ]
  },
  {
   "cell_type": "code",
   "execution_count": 6,
   "id": "4c399502",
   "metadata": {},
   "outputs": [],
   "source": [
    "# The dictionary is created using {} or dict()\n",
    "dict3 = {'A': 564, 'B': 8+2j}\n",
    "\n",
    "# The list is created using [] or list()\n",
    "l = [1,2,3]"
   ]
  },
  {
   "cell_type": "markdown",
   "id": "800d0f5e",
   "metadata": {},
   "source": [
    "### 4. What happens if you try to access spam['foo'] if spam is {'bar': 100}?"
   ]
  },
  {
   "cell_type": "code",
   "execution_count": 8,
   "id": "8a684b4e",
   "metadata": {},
   "outputs": [
    {
     "ename": "KeyError",
     "evalue": "'foo'",
     "output_type": "error",
     "traceback": [
      "\u001b[1;31m---------------------------------------------------------------------------\u001b[0m",
      "\u001b[1;31mKeyError\u001b[0m                                  Traceback (most recent call last)",
      "\u001b[1;32m<ipython-input-8-ffe2d226dbae>\u001b[0m in \u001b[0;36m<module>\u001b[1;34m\u001b[0m\n\u001b[0;32m      1\u001b[0m \u001b[0mspam\u001b[0m \u001b[1;33m=\u001b[0m \u001b[1;33m{\u001b[0m\u001b[1;34m'Cab'\u001b[0m\u001b[1;33m:\u001b[0m \u001b[1;36m1000\u001b[0m\u001b[1;33m}\u001b[0m\u001b[1;33m\u001b[0m\u001b[1;33m\u001b[0m\u001b[0m\n\u001b[1;32m----> 2\u001b[1;33m \u001b[0mspam\u001b[0m\u001b[1;33m[\u001b[0m\u001b[1;34m'foo'\u001b[0m\u001b[1;33m]\u001b[0m\u001b[1;33m\u001b[0m\u001b[1;33m\u001b[0m\u001b[0m\n\u001b[0m",
      "\u001b[1;31mKeyError\u001b[0m: 'foo'"
     ]
    }
   ],
   "source": [
    "spam = {'Cab': 1000}\n",
    "spam['foo']"
   ]
  },
  {
   "cell_type": "markdown",
   "id": "056b22e4",
   "metadata": {},
   "source": [
    "### 5. If a dictionary is stored in spam, \n",
    "# what is the difference between the expressions 'cat' in spam and 'cat' in spam.keys()?"
   ]
  },
  {
   "cell_type": "code",
   "execution_count": 10,
   "id": "9d662e63",
   "metadata": {},
   "outputs": [
    {
     "name": "stdout",
     "output_type": "stream",
     "text": [
      "False False\n"
     ]
    }
   ],
   "source": [
    "dict5 = {'A1': 123, 'B2': 2+3j}\n",
    "x = 'k1' in dict5\n",
    "y = 'k1' in dict5.keys()\n",
    "print(x, y)"
   ]
  },
  {
   "cell_type": "markdown",
   "id": "4cd71af0",
   "metadata": {},
   "source": [
    "### 6. If a dictionary is stored in spam,\n",
    "# what is the difference between the expressions 'cat' in spam and 'cat' in spam.values()?\n",
    "\n",
    "# Difference:\n",
    "# 'cat' in spam: This expression checks whether there is a 'cat' KEY in the dictionary\n",
    "# 'cat' in spam.values(): This will checks whether there is a value 'cat' in spam.\n"
   ]
  },
  {
   "cell_type": "code",
   "execution_count": 11,
   "id": "4b019be0",
   "metadata": {},
   "outputs": [
    {
     "name": "stdout",
     "output_type": "stream",
     "text": [
      "True False\n"
     ]
    }
   ],
   "source": [
    "spam = {'cat': 123, 'k2': 2+3j}\n",
    "a = 'cat' in spam\n",
    "b = 'cat' in spam.values()\n",
    "print(a, b)"
   ]
  },
  {
   "cell_type": "markdown",
   "id": "49636db8",
   "metadata": {},
   "source": [
    "### 7. What is a shortcut for the following code?\n",
    "# if 'color' not in spam:\n",
    "# spam['color'] = 'black'"
   ]
  },
  {
   "cell_type": "code",
   "execution_count": 12,
   "id": "cf0d550c",
   "metadata": {
    "scrolled": true
   },
   "outputs": [
    {
     "data": {
      "text/plain": [
       "{'cat': 123, 'k2': (2+3j)}"
      ]
     },
     "execution_count": 12,
     "metadata": {},
     "output_type": "execute_result"
    }
   ],
   "source": [
    "spam"
   ]
  },
  {
   "cell_type": "code",
   "execution_count": 14,
   "id": "a776115a",
   "metadata": {},
   "outputs": [
    {
     "data": {
      "text/plain": [
       "'black'"
      ]
     },
     "execution_count": 14,
     "metadata": {},
     "output_type": "execute_result"
    }
   ],
   "source": [
    "# shortcut code \n",
    "spam.setdefault('color', 'black')"
   ]
  },
  {
   "cell_type": "markdown",
   "id": "13f8c5f2",
   "metadata": {},
   "source": [
    "### 8. How do you \"pretty print\" dictionary values using which module and function?"
   ]
  },
  {
   "cell_type": "code",
   "execution_count": 15,
   "id": "a13f3236",
   "metadata": {},
   "outputs": [
    {
     "name": "stdout",
     "output_type": "stream",
     "text": [
      "{'cat': 123, 'color': 'black', 'k2': (2+3j)}\n"
     ]
    }
   ],
   "source": [
    "import pprint\n",
    "pprint.pprint(spam)"
   ]
  },
  {
   "cell_type": "code",
   "execution_count": null,
   "id": "a9ca84cc",
   "metadata": {},
   "outputs": [],
   "source": []
  }
 ],
 "metadata": {
  "kernelspec": {
   "display_name": "Python 3",
   "language": "python",
   "name": "python3"
  },
  "language_info": {
   "codemirror_mode": {
    "name": "ipython",
    "version": 3
   },
   "file_extension": ".py",
   "mimetype": "text/x-python",
   "name": "python",
   "nbconvert_exporter": "python",
   "pygments_lexer": "ipython3",
   "version": "3.8.8"
  }
 },
 "nbformat": 4,
 "nbformat_minor": 5
}
