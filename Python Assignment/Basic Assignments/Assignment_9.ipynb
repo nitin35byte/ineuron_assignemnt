{
 "cells": [
  {
   "cell_type": "markdown",
   "id": "1fe06a69",
   "metadata": {},
   "source": [
    "## Python Basic Assignment - 9"
   ]
  },
  {
   "cell_type": "markdown",
   "id": "39cf4921",
   "metadata": {},
   "source": [
    "## 1. To what does a relative path refer?"
   ]
  },
  {
   "cell_type": "code",
   "execution_count": null,
   "id": "0b87193e",
   "metadata": {},
   "outputs": [],
   "source": [
    "Ans.\n",
    "Relative paths are relative to the current working directory. When using relative path, we need to provide the absolute/complete\n",
    "path of file from the root directory, instead we can give the partial/relative path to indicate the file location."
   ]
  },
  {
   "cell_type": "markdown",
   "id": "a38ed8af",
   "metadata": {},
   "source": [
    "## 2. What does an absolute path start with your operating system?"
   ]
  },
  {
   "cell_type": "code",
   "execution_count": null,
   "id": "d54dc96f",
   "metadata": {},
   "outputs": [],
   "source": [
    "Ans. I am using Windows Operating System with Single Hard drive, so my absolute path starts with C:\\"
   ]
  },
  {
   "cell_type": "markdown",
   "id": "f8b386de",
   "metadata": {},
   "source": [
    "## 3. What do the functions os.getcwd() and os.chdir() do?"
   ]
  },
  {
   "cell_type": "code",
   "execution_count": null,
   "id": "825fc207",
   "metadata": {},
   "outputs": [],
   "source": [
    "Ans.\n",
    "os.getcwd() returns you the current working directory path\n",
    "os.chdir() is used to change the current working directory while running the program"
   ]
  },
  {
   "cell_type": "markdown",
   "id": "4b1aa993",
   "metadata": {},
   "source": [
    "## 4. What are the . and .. folders?"
   ]
  },
  {
   "cell_type": "code",
   "execution_count": null,
   "id": "ca20eb3b",
   "metadata": {},
   "outputs": [],
   "source": [
    "Ans.\n",
    ". single dot means the current folder\n",
    ".. double dot means the parent folder"
   ]
  },
  {
   "cell_type": "markdown",
   "id": "b2d3e1a9",
   "metadata": {},
   "source": [
    "## 5. In C:\\bacon\\eggs\\spam.txt, which part is the dir name, and which part is the base name?"
   ]
  },
  {
   "cell_type": "code",
   "execution_count": null,
   "id": "32936377",
   "metadata": {},
   "outputs": [],
   "source": [
    "Ans.\n",
    "C:\\bacon\\eggs is the dir name\n",
    "spam.txt is the base name"
   ]
  },
  {
   "cell_type": "markdown",
   "id": "eba7479d",
   "metadata": {},
   "source": [
    "## 6. What are the three “mode” arguments that can be passed to the open() function?"
   ]
  },
  {
   "cell_type": "code",
   "execution_count": null,
   "id": "04ee6bb6",
   "metadata": {},
   "outputs": [],
   "source": [
    "Ans.\n",
    "\n",
    "'r' for read mode\n",
    "'w' for write mode\n",
    "'a' for append mode.\n"
   ]
  },
  {
   "cell_type": "markdown",
   "id": "1a843c75",
   "metadata": {},
   "source": [
    "## 7. What happens if an existing file is opened in write mode?"
   ]
  },
  {
   "cell_type": "code",
   "execution_count": null,
   "id": "4fee2778",
   "metadata": {},
   "outputs": [],
   "source": [
    "Ans.\n",
    "If an existing file is opened in write mode, then all the existing content from the file is erased and the new content will be added.\n",
    "This might result in loss of data if you wanted to have both existing and new data to existing in the file\n"
   ]
  },
  {
   "cell_type": "markdown",
   "id": "058bd24a",
   "metadata": {},
   "source": [
    "## 8. How do you tell the difference between read() and readlines()?"
   ]
  },
  {
   "cell_type": "code",
   "execution_count": null,
   "id": "64def076",
   "metadata": {},
   "outputs": [],
   "source": [
    "Ans.\n",
    "The read() method returns the file’s entire contents as a single string value.\n",
    "The readlines() method returns a list of strings, where each string is a line from the file’s contents."
   ]
  },
  {
   "cell_type": "markdown",
   "id": "eb951c34",
   "metadata": {},
   "source": [
    "## 9. What data structure does a shelf value resemble?"
   ]
  },
  {
   "cell_type": "code",
   "execution_count": null,
   "id": "0386a65e",
   "metadata": {},
   "outputs": [],
   "source": [
    "Ans.\n",
    "A shelf value resembles a dictionary value; it has keys and values, along with keys() and values() methods that work similarly to the dictionary methods of the same names."
   ]
  }
 ],
 "metadata": {
  "kernelspec": {
   "display_name": "Python 3",
   "language": "python",
   "name": "python3"
  },
  "language_info": {
   "codemirror_mode": {
    "name": "ipython",
    "version": 3
   },
   "file_extension": ".py",
   "mimetype": "text/x-python",
   "name": "python",
   "nbconvert_exporter": "python",
   "pygments_lexer": "ipython3",
   "version": "3.8.8"
  }
 },
 "nbformat": 4,
 "nbformat_minor": 5
}
