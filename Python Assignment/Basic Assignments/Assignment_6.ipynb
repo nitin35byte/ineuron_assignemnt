{
 "cells": [
  {
   "cell_type": "markdown",
   "id": "ec1f062f",
   "metadata": {},
   "source": [
    "## Basic_python Assignment_Assignment_6"
   ]
  },
  {
   "cell_type": "markdown",
   "id": "e8891d02",
   "metadata": {},
   "source": [
    "## 1.What are escape characters, and how do you use them?"
   ]
  },
  {
   "cell_type": "code",
   "execution_count": null,
   "id": "2fcd7a49",
   "metadata": {},
   "outputs": [],
   "source": [
    "An escape character is a backslash \\ followed by the character you want to insert."
   ]
  },
  {
   "cell_type": "code",
   "execution_count": 2,
   "id": "abb1392d",
   "metadata": {},
   "outputs": [
    {
     "ename": "SyntaxError",
     "evalue": "invalid syntax (<ipython-input-2-56cdf4283a8e>, line 1)",
     "output_type": "error",
     "traceback": [
      "\u001b[1;36m  File \u001b[1;32m\"<ipython-input-2-56cdf4283a8e>\"\u001b[1;36m, line \u001b[1;32m1\u001b[0m\n\u001b[1;33m    txt = \"We are the so-called \"Vikings\" from the north.\"\u001b[0m\n\u001b[1;37m                                 ^\u001b[0m\n\u001b[1;31mSyntaxError\u001b[0m\u001b[1;31m:\u001b[0m invalid syntax\n"
     ]
    }
   ],
   "source": [
    "txt = \"We are the so-called \"Vikings\" from the north.\""
   ]
  },
  {
   "cell_type": "code",
   "execution_count": 3,
   "id": "4590fc87",
   "metadata": {},
   "outputs": [],
   "source": [
    "txt = \"We are the so-called \\\"Vikings\\\" from the north.\""
   ]
  },
  {
   "cell_type": "markdown",
   "id": "f264926f",
   "metadata": {},
   "source": [
    "## 2. What do the escape characters n and t stand for?"
   ]
  },
  {
   "cell_type": "code",
   "execution_count": null,
   "id": "9bd26571",
   "metadata": {},
   "outputs": [],
   "source": [
    "Ans.\"\\t\" is for tab space, \"\\n\" is for a newline"
   ]
  },
  {
   "cell_type": "markdown",
   "id": "48d60493",
   "metadata": {},
   "source": [
    "## 3. What is the way to include backslash characters in a string?"
   ]
  },
  {
   "cell_type": "code",
   "execution_count": 4,
   "id": "9a900435",
   "metadata": {},
   "outputs": [
    {
     "name": "stdout",
     "output_type": "stream",
     "text": [
      "i am learning FSDS \\ from  ineuron\n"
     ]
    }
   ],
   "source": [
    "print(\"i am learning FSDS \\ from  ineuron\")"
   ]
  },
  {
   "cell_type": "code",
   "execution_count": 5,
   "id": "702c7a0b",
   "metadata": {
    "scrolled": true
   },
   "outputs": [
    {
     "name": "stdout",
     "output_type": "stream",
     "text": [
      "i am learning FSDS \\ from  ineuron\n"
     ]
    }
   ],
   "source": [
    "print(\"i am learning FSDS \\\\ from  ineuron\")"
   ]
  },
  {
   "cell_type": "code",
   "execution_count": 6,
   "id": "aceb88b0",
   "metadata": {},
   "outputs": [
    {
     "name": "stdout",
     "output_type": "stream",
     "text": [
      "i am learning FSDS \\\\ from  ineuron\n"
     ]
    }
   ],
   "source": [
    "print(\"i am learning FSDS \\\\\\ from  ineuron\")"
   ]
  },
  {
   "cell_type": "code",
   "execution_count": 7,
   "id": "60782924",
   "metadata": {},
   "outputs": [
    {
     "name": "stdout",
     "output_type": "stream",
     "text": [
      "i am learning FSDS \\\\ from  ineuron\n"
     ]
    }
   ],
   "source": [
    "print(\"i am learning FSDS \\\\\\\\ from  ineuron\")"
   ]
  },
  {
   "cell_type": "markdown",
   "id": "62edbe13",
   "metadata": {},
   "source": [
    "## 4. The string \"Howl's Moving Castle\" is a correct value. Why isn't the single quote character in the word Howl's not escaped a problem?"
   ]
  },
  {
   "cell_type": "code",
   "execution_count": null,
   "id": "2a918c86",
   "metadata": {},
   "outputs": [],
   "source": [
    "### Ans.The string \"Howl's Moving Castle\" is a correct value. Why isn't the single quote character in the word Howl's not escaped a problem?"
   ]
  },
  {
   "cell_type": "markdown",
   "id": "8fdf26c0",
   "metadata": {},
   "source": [
    "## 5. How do you write a string of newlines if you don't want to use the n character?"
   ]
  },
  {
   "cell_type": "code",
   "execution_count": 11,
   "id": "50331b68",
   "metadata": {},
   "outputs": [],
   "source": [
    "string_multiline = \"\"\"This is my \n",
    "assignments \n",
    "for learning\"\"\""
   ]
  },
  {
   "cell_type": "code",
   "execution_count": 12,
   "id": "fa638fd6",
   "metadata": {},
   "outputs": [
    {
     "data": {
      "text/plain": [
       "'This is my \\nassignments \\nfor learning'"
      ]
     },
     "execution_count": 12,
     "metadata": {},
     "output_type": "execute_result"
    }
   ],
   "source": [
    "string_multiline"
   ]
  },
  {
   "cell_type": "markdown",
   "id": "c6f69520",
   "metadata": {},
   "source": [
    "## 6. What are the values of the given expressions?"
   ]
  },
  {
   "cell_type": "code",
   "execution_count": 14,
   "id": "003d886e",
   "metadata": {},
   "outputs": [
    {
     "data": {
      "text/plain": [
       "'e'"
      ]
     },
     "execution_count": 14,
     "metadata": {},
     "output_type": "execute_result"
    }
   ],
   "source": [
    "'Hello, world!'[1]"
   ]
  },
  {
   "cell_type": "code",
   "execution_count": 15,
   "id": "af4eaec4",
   "metadata": {},
   "outputs": [
    {
     "data": {
      "text/plain": [
       "'Hello'"
      ]
     },
     "execution_count": 15,
     "metadata": {},
     "output_type": "execute_result"
    }
   ],
   "source": [
    "'Hello, world!'[0:5]"
   ]
  },
  {
   "cell_type": "code",
   "execution_count": 16,
   "id": "dae05c46",
   "metadata": {},
   "outputs": [
    {
     "data": {
      "text/plain": [
       "'Hello'"
      ]
     },
     "execution_count": 16,
     "metadata": {},
     "output_type": "execute_result"
    }
   ],
   "source": [
    "'Hello, world!'[:5]"
   ]
  },
  {
   "cell_type": "code",
   "execution_count": 17,
   "id": "9a5f2556",
   "metadata": {},
   "outputs": [
    {
     "data": {
      "text/plain": [
       "'lo, world!'"
      ]
     },
     "execution_count": 17,
     "metadata": {},
     "output_type": "execute_result"
    }
   ],
   "source": [
    "'Hello, world!'[3:]"
   ]
  },
  {
   "cell_type": "markdown",
   "id": "e357ca61",
   "metadata": {},
   "source": [
    "## 7. What are the values of the following expressions?"
   ]
  },
  {
   "cell_type": "code",
   "execution_count": 18,
   "id": "a1b8428a",
   "metadata": {},
   "outputs": [
    {
     "data": {
      "text/plain": [
       "'HELLO'"
      ]
     },
     "execution_count": 18,
     "metadata": {},
     "output_type": "execute_result"
    }
   ],
   "source": [
    "'Hello'.upper()"
   ]
  },
  {
   "cell_type": "code",
   "execution_count": 19,
   "id": "f4a925bb",
   "metadata": {},
   "outputs": [
    {
     "data": {
      "text/plain": [
       "True"
      ]
     },
     "execution_count": 19,
     "metadata": {},
     "output_type": "execute_result"
    }
   ],
   "source": [
    "'Hello'.upper().isupper() "
   ]
  },
  {
   "cell_type": "code",
   "execution_count": 21,
   "id": "7ec743ea",
   "metadata": {},
   "outputs": [
    {
     "data": {
      "text/plain": [
       "'hello'"
      ]
     },
     "execution_count": 21,
     "metadata": {},
     "output_type": "execute_result"
    }
   ],
   "source": [
    "'Hello'.upper().lower()"
   ]
  },
  {
   "cell_type": "markdown",
   "id": "b00d519b",
   "metadata": {},
   "source": [
    "## 8. What are the values of the following expressions?"
   ]
  },
  {
   "cell_type": "code",
   "execution_count": 22,
   "id": "bc23e553",
   "metadata": {},
   "outputs": [
    {
     "data": {
      "text/plain": [
       "['Remember,', 'remember,', 'the', 'fifth', 'of', 'July.']"
      ]
     },
     "execution_count": 22,
     "metadata": {},
     "output_type": "execute_result"
    }
   ],
   "source": [
    "'Remember, remember, the fifth of July.'.split()"
   ]
  },
  {
   "cell_type": "code",
   "execution_count": 23,
   "id": "3c6b48a6",
   "metadata": {},
   "outputs": [
    {
     "data": {
      "text/plain": [
       "'There-can-only-one.'"
      ]
     },
     "execution_count": 23,
     "metadata": {},
     "output_type": "execute_result"
    }
   ],
   "source": [
    "'-'.join('There can only one.'.split())"
   ]
  },
  {
   "cell_type": "markdown",
   "id": "be1361a8",
   "metadata": {},
   "source": [
    "## 9. What are the methods for right-justifying, left-justifying, and centering a string?"
   ]
  },
  {
   "cell_type": "code",
   "execution_count": 25,
   "id": "afb9d759",
   "metadata": {},
   "outputs": [
    {
     "data": {
      "text/plain": [
       "'FSDS;;;;;;;'"
      ]
     },
     "execution_count": 25,
     "metadata": {},
     "output_type": "execute_result"
    }
   ],
   "source": [
    "# left justified\n",
    "str1 =\"FSDS\"\n",
    "str1.ljust(11,\";\")"
   ]
  },
  {
   "cell_type": "code",
   "execution_count": 26,
   "id": "a8327229",
   "metadata": {},
   "outputs": [
    {
     "data": {
      "text/plain": [
       "'------------------FSDS'"
      ]
     },
     "execution_count": 26,
     "metadata": {},
     "output_type": "execute_result"
    }
   ],
   "source": [
    "# right justified\n",
    "str1 =\"FSDS\"\n",
    "str1.rjust(22,\"-\")"
   ]
  },
  {
   "cell_type": "code",
   "execution_count": 27,
   "id": "209764bd",
   "metadata": {},
   "outputs": [
    {
     "data": {
      "text/plain": [
       "'******FSDS*****'"
      ]
     },
     "execution_count": 27,
     "metadata": {},
     "output_type": "execute_result"
    }
   ],
   "source": [
    "# center justified\n",
    "str1 =\"FSDS\"\n",
    "str1.center(15,'*')"
   ]
  },
  {
   "cell_type": "markdown",
   "id": "c0635024",
   "metadata": {},
   "source": [
    "## 10. What is the best way to remove whitespace characters from the start or end?"
   ]
  },
  {
   "cell_type": "code",
   "execution_count": null,
   "id": "4ef2dd01",
   "metadata": {},
   "outputs": [],
   "source": [
    "### Ans.\n",
    "lstrip() -> removes white spaces from left of the string\n",
    "rstrip() -> removes whitespaces from right of the string"
   ]
  },
  {
   "cell_type": "code",
   "execution_count": 31,
   "id": "b40791f1",
   "metadata": {},
   "outputs": [
    {
     "name": "stdout",
     "output_type": "stream",
     "text": [
      "          hello         \n",
      "hello         \n"
     ]
    }
   ],
   "source": [
    "list = \"          hello         \"\n",
    "print(list)\n",
    "print(list.lstrip())"
   ]
  },
  {
   "cell_type": "code",
   "execution_count": 32,
   "id": "bbe25327",
   "metadata": {},
   "outputs": [
    {
     "name": "stdout",
     "output_type": "stream",
     "text": [
      "hello                \n",
      "hello\n"
     ]
    }
   ],
   "source": [
    "list = \"hello                \"\n",
    "print(list)\n",
    "print(list.rstrip())"
   ]
  },
  {
   "cell_type": "code",
   "execution_count": null,
   "id": "2818547e",
   "metadata": {},
   "outputs": [],
   "source": []
  }
 ],
 "metadata": {
  "kernelspec": {
   "display_name": "Python 3",
   "language": "python",
   "name": "python3"
  },
  "language_info": {
   "codemirror_mode": {
    "name": "ipython",
    "version": 3
   },
   "file_extension": ".py",
   "mimetype": "text/x-python",
   "name": "python",
   "nbconvert_exporter": "python",
   "pygments_lexer": "ipython3",
   "version": "3.8.8"
  }
 },
 "nbformat": 4,
 "nbformat_minor": 5
}
