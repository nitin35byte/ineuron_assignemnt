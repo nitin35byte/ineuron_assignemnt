{
 "cells": [
  {
   "cell_type": "markdown",
   "id": "23666bfa",
   "metadata": {},
   "source": [
    "## Assignment_11"
   ]
  },
  {
   "cell_type": "markdown",
   "id": "a6967c2f",
   "metadata": {},
   "source": [
    "## 1.Create an assert statement that throws an AssertionError if the variable spam is a negative integer."
   ]
  },
  {
   "cell_type": "code",
   "execution_count": null,
   "id": "b915ac73",
   "metadata": {},
   "outputs": [],
   "source": [
    "Ans. assert spam >= 10"
   ]
  },
  {
   "cell_type": "markdown",
   "id": "0f735128",
   "metadata": {},
   "source": [
    "### 2. Write an assert statement that triggers an AssertionError if the variables eggs and bacon contain strings that are the same as each other, even if their cases are different (that is, 'hello' and 'hello' are considered the same, and 'goodbye' and 'GOODbye' are also considered the same).\n",
    "Ans. assert eggs.lower()!=bacon.lower()\n",
    "eggs and bacon can't be the same"
   ]
  },
  {
   "cell_type": "markdown",
   "id": "c37109ef",
   "metadata": {},
   "source": [
    "## 3. Create an assert statement that throws an AssertionError every time."
   ]
  },
  {
   "cell_type": "code",
   "execution_count": 5,
   "id": "c90d1ab8",
   "metadata": {},
   "outputs": [
    {
     "ename": "AssertionError",
     "evalue": "",
     "output_type": "error",
     "traceback": [
      "\u001b[1;31m---------------------------------------------------------------------------\u001b[0m",
      "\u001b[1;31mAssertionError\u001b[0m                            Traceback (most recent call last)",
      "\u001b[1;32m<ipython-input-5-a871fdc9ebee>\u001b[0m in \u001b[0;36m<module>\u001b[1;34m\u001b[0m\n\u001b[1;32m----> 1\u001b[1;33m \u001b[1;32massert\u001b[0m \u001b[1;32mFalse\u001b[0m\u001b[1;33m\u001b[0m\u001b[1;33m\u001b[0m\u001b[0m\n\u001b[0m",
      "\u001b[1;31mAssertionError\u001b[0m: "
     ]
    }
   ],
   "source": [
    "assert False"
   ]
  },
  {
   "cell_type": "markdown",
   "id": "a56746f2",
   "metadata": {},
   "source": [
    "## 4. What are the two lines that must be present in your software in order to call logging.debug()?\n",
    "\n",
    "Ans.\n",
    "import logging\n",
    "\n",
    "logging.basicConfig(fiename, level=logging.DEBUG)"
   ]
  },
  {
   "cell_type": "markdown",
   "id": "67c2b9f0",
   "metadata": {},
   "source": [
    "## 5. What are the two lines that your program must have in order to have logging.debug() send a logging message to a file named programLog.txt?\n",
    "Ans:\n",
    "import logging\n",
    "\n",
    "logging.basicConfig(fiename, level=logging.DEBUG)"
   ]
  },
  {
   "cell_type": "markdown",
   "id": "5cb2c331",
   "metadata": {},
   "source": [
    "## 6. What are the five levels of logging?\n",
    "Ans:\n",
    "logging.error()\n",
    "\n",
    "logging.warning()\n",
    "\n",
    "logging.info()\n",
    "\n",
    "logging.critical()\n",
    "\n",
    "logging.debug()"
   ]
  },
  {
   "cell_type": "markdown",
   "id": "9b85e279",
   "metadata": {},
   "source": [
    "## 7.What line of code would you add to your software to disable all logging messages?\n",
    "\n",
    "Ans:\n",
    "logging.disable(level)"
   ]
  },
  {
   "cell_type": "markdown",
   "id": "7956aa94",
   "metadata": {},
   "source": [
    "## 8. Why is using logging messages better than using print() to display the same message?\n",
    "Ans.Step In will dig into method calls.\n",
    "\n",
    "Step Over will just execute the line and go to the next line.\n",
    "\n",
    "Step Out Steps out of the current method and takes you to the caller method."
   ]
  },
  {
   "cell_type": "markdown",
   "id": "b77b841b",
   "metadata": {},
   "source": [
    "## 9. After you click Continue, when will the debugger stop ?\n",
    "Ans:\n",
    "when it has reached the end of a program or a breakpoint"
   ]
  },
  {
   "cell_type": "markdown",
   "id": "113b4072",
   "metadata": {},
   "source": [
    "## 10.What is the concept of a breakpoint?\n",
    "Ans:\n",
    "An intentional stopping point or pause put into program for debugging purpose."
   ]
  },
  {
   "cell_type": "code",
   "execution_count": null,
   "id": "87e37a5e",
   "metadata": {},
   "outputs": [],
   "source": []
  }
 ],
 "metadata": {
  "kernelspec": {
   "display_name": "Python 3",
   "language": "python",
   "name": "python3"
  },
  "language_info": {
   "codemirror_mode": {
    "name": "ipython",
    "version": 3
   },
   "file_extension": ".py",
   "mimetype": "text/x-python",
   "name": "python",
   "nbconvert_exporter": "python",
   "pygments_lexer": "ipython3",
   "version": "3.8.8"
  }
 },
 "nbformat": 4,
 "nbformat_minor": 5
}
