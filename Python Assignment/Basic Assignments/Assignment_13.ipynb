{
 "cells": [
  {
   "cell_type": "markdown",
   "id": "97a93b67",
   "metadata": {},
   "source": [
    "## Assignment_13"
   ]
  },
  {
   "cell_type": "markdown",
   "id": "32b83478",
   "metadata": {},
   "source": [
    "## 1. What advantages do Excel spreadsheets have over CSV spreadsheets?\n",
    "Ans.\n",
    "1. Reading large dataset is much easier in excel compared to csv, Excel provides the option for linking the data from external  sources but no such feature available in csv.\n",
    "2. CSV does not manipulate data and stores it as-is"
   ]
  },
  {
   "cell_type": "markdown",
   "id": "02c5297e",
   "metadata": {},
   "source": [
    "## 2. What do you pass to csv.reader() and csv.writer() to create reader and writer objects?\n",
    "Ans. file object ,csv.writer() "
   ]
  },
  {
   "cell_type": "markdown",
   "id": "f518a1d2",
   "metadata": {},
   "source": [
    "## 3 .What modes do File objects for reader and writer objects need to be opened in?\n",
    "Ans. 'r'(read mode) for reader objects and 'w'(write mode) for writer objects"
   ]
  },
  {
   "cell_type": "markdown",
   "id": "67d04100",
   "metadata": {},
   "source": [
    "## 4. What method takes a list argument and writes it to a CSV file?\n",
    "writerow() method of csv.writer()"
   ]
  },
  {
   "cell_type": "markdown",
   "id": "fbae2688",
   "metadata": {},
   "source": [
    "## 5. What do the keyword arguments delimiter and line terminator do?\n",
    "Ans. delimiter sets the character between cells on a row. line terminator sets the character that comes at the end of a row."
   ]
  },
  {
   "cell_type": "markdown",
   "id": "bc2ae6c4",
   "metadata": {},
   "source": [
    "## 6. What function takes a string of JSON data and returns a Python data structure?\n",
    "Ans. json.loads()\n"
   ]
  },
  {
   "cell_type": "markdown",
   "id": "173f4fb2",
   "metadata": {},
   "source": [
    "## 7. What function takes a Python data structure and returns a string of JSON data?\n",
    "Ans. json.dumps()"
   ]
  },
  {
   "cell_type": "code",
   "execution_count": null,
   "id": "1e771ed0",
   "metadata": {},
   "outputs": [],
   "source": []
  }
 ],
 "metadata": {
  "kernelspec": {
   "display_name": "Python 3",
   "language": "python",
   "name": "python3"
  },
  "language_info": {
   "codemirror_mode": {
    "name": "ipython",
    "version": 3
   },
   "file_extension": ".py",
   "mimetype": "text/x-python",
   "name": "python",
   "nbconvert_exporter": "python",
   "pygments_lexer": "ipython3",
   "version": "3.8.8"
  }
 },
 "nbformat": 4,
 "nbformat_minor": 5
}
