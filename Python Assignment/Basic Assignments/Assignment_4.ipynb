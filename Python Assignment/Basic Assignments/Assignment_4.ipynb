{
 "cells": [
  {
   "cell_type": "markdown",
   "id": "12897be0",
   "metadata": {},
   "source": [
    "## Basic_python Assignment_Assignment_4"
   ]
  },
  {
   "cell_type": "markdown",
   "id": "96537506",
   "metadata": {},
   "source": [
    "## 1. What exactly is []?\n",
    "Ans. [] is a empty list"
   ]
  },
  {
   "cell_type": "code",
   "execution_count": null,
   "id": "55a2e9c8",
   "metadata": {},
   "outputs": [],
   "source": []
  },
  {
   "cell_type": "markdown",
   "id": "0c1a3918",
   "metadata": {},
   "source": [
    "## 2.  In a list of values stored in a variable called spam, how would you assign the value 'hello' as the third value?\n",
    "(Assume [2, 4, 6, 8, 10] are in spam.)"
   ]
  },
  {
   "cell_type": "code",
   "execution_count": 11,
   "id": "6de73fb5",
   "metadata": {},
   "outputs": [
    {
     "name": "stdout",
     "output_type": "stream",
     "text": [
      "[2, 4, 6, 8, 10]\n",
      "[2, 4, 'hello', 8, 10]\n"
     ]
    }
   ],
   "source": [
    "spam =[2, 4, 6, 8, 10]\n",
    "print(spam)\n",
    "spam[2]='hello'\n",
    "print(spam)"
   ]
  },
  {
   "cell_type": "markdown",
   "id": "aa56be87",
   "metadata": {},
   "source": [
    "## Let's pretend the spam includes the list ['a', 'b', 'c', 'd'] for the next three queries."
   ]
  },
  {
   "cell_type": "code",
   "execution_count": 14,
   "id": "4df3eec7",
   "metadata": {},
   "outputs": [
    {
     "name": "stdout",
     "output_type": "stream",
     "text": [
      "['a', 'b', 'c', 'd']\n"
     ]
    }
   ],
   "source": [
    "spam = ['a', 'b', 'c', 'd']\n",
    "print(spam)"
   ]
  },
  {
   "cell_type": "markdown",
   "id": "bf414a86",
   "metadata": {},
   "source": [
    "## 3. What is the value of spam[int(int('3' * 2) / 11)]?"
   ]
  },
  {
   "cell_type": "code",
   "execution_count": 15,
   "id": "54650341",
   "metadata": {},
   "outputs": [
    {
     "data": {
      "text/plain": [
       "'d'"
      ]
     },
     "execution_count": 15,
     "metadata": {},
     "output_type": "execute_result"
    }
   ],
   "source": [
    "spam[int(int('3' * 2) / 11)]"
   ]
  },
  {
   "cell_type": "markdown",
   "id": "1ceb5032",
   "metadata": {},
   "source": [
    "## 4. What is the value of spam[-1]?"
   ]
  },
  {
   "cell_type": "code",
   "execution_count": 16,
   "id": "6a0a43b9",
   "metadata": {},
   "outputs": [
    {
     "data": {
      "text/plain": [
       "'d'"
      ]
     },
     "execution_count": 16,
     "metadata": {},
     "output_type": "execute_result"
    }
   ],
   "source": [
    "spam[-1]"
   ]
  },
  {
   "cell_type": "markdown",
   "id": "b2f2b060",
   "metadata": {},
   "source": [
    "## 5. What is the value of spam[:2]?"
   ]
  },
  {
   "cell_type": "code",
   "execution_count": 17,
   "id": "86263664",
   "metadata": {},
   "outputs": [
    {
     "data": {
      "text/plain": [
       "['a', 'b']"
      ]
     },
     "execution_count": 17,
     "metadata": {},
     "output_type": "execute_result"
    }
   ],
   "source": [
    "spam[:2]"
   ]
  },
  {
   "cell_type": "markdown",
   "id": "9c27c18c",
   "metadata": {},
   "source": [
    "## Let's pretend bacon has the list [3.14, 'cat,' 11, 'cat,' True] for the next three questions"
   ]
  },
  {
   "cell_type": "code",
   "execution_count": 20,
   "id": "8d14f9d7",
   "metadata": {},
   "outputs": [
    {
     "name": "stdout",
     "output_type": "stream",
     "text": [
      "[3.14, 'cat', 11, 'cat', True]\n"
     ]
    }
   ],
   "source": [
    "bacon = [3.14, 'cat', 11, 'cat', True]\n",
    "print(bacon)"
   ]
  },
  {
   "cell_type": "markdown",
   "id": "9723d806",
   "metadata": {},
   "source": [
    "## 6. What is the value of bacon.index('cat')?"
   ]
  },
  {
   "cell_type": "code",
   "execution_count": 22,
   "id": "405f3c00",
   "metadata": {},
   "outputs": [
    {
     "data": {
      "text/plain": [
       "1"
      ]
     },
     "execution_count": 22,
     "metadata": {},
     "output_type": "execute_result"
    }
   ],
   "source": [
    "bacon.index('cat')"
   ]
  },
  {
   "cell_type": "markdown",
   "id": "72f8eb5e",
   "metadata": {},
   "source": [
    "## 7. How does bacon.append(99) change the look of the list value in bacon?"
   ]
  },
  {
   "cell_type": "code",
   "execution_count": 26,
   "id": "8aa7c8fb",
   "metadata": {},
   "outputs": [
    {
     "name": "stdout",
     "output_type": "stream",
     "text": [
      "[3.14, 'cat', 11, 'cat', True, 99]\n"
     ]
    }
   ],
   "source": [
    "# Ans.It will append 99 at the end of list bacon\n",
    "bacon.append(99)\n",
    "print(bacon)"
   ]
  },
  {
   "cell_type": "markdown",
   "id": "a8b2cf45",
   "metadata": {},
   "source": [
    "## 8. How does bacon.remove('cat') change the look of the list in bacon?\n",
    "Ans.it will remove  tyhe first occurence of cat "
   ]
  },
  {
   "cell_type": "code",
   "execution_count": 27,
   "id": "20cc2239",
   "metadata": {},
   "outputs": [
    {
     "name": "stdout",
     "output_type": "stream",
     "text": [
      "[3.14, 11, 'cat', True, 99]\n"
     ]
    }
   ],
   "source": [
    "bacon.remove('cat')\n",
    "print(bacon)"
   ]
  },
  {
   "cell_type": "markdown",
   "id": "297937be",
   "metadata": {},
   "source": [
    "## 9. What are the list concatenation and list replication operators?\n",
    "Ans.List concatenation operator is ‘+’ while list replication operator is ‘*’"
   ]
  },
  {
   "cell_type": "markdown",
   "id": "24743029",
   "metadata": {},
   "source": [
    "## 10. What is difference between the list methods append() and insert()?\n",
    "Ans.\n",
    "1. Append method appends the given object to the end of the list always.\n",
    "2. Insert method accepts two arguments, index at which the element needs to be inserted and the object to insert."
   ]
  },
  {
   "cell_type": "markdown",
   "id": "a09ab4a5",
   "metadata": {},
   "source": [
    "## 11. What are the two methods for removing items from a list?\n",
    "Ans.we can use below two methods for removing items from a list:\n",
    "1. List.remove(object) -> Removes the first occurrence of the given object from the list\n",
    "2. List.pop(index = -1) -> Removes and returns item at the index (default is -1, the last element)"
   ]
  },
  {
   "cell_type": "markdown",
   "id": "f76bd5c9",
   "metadata": {},
   "source": [
    "## 12. Describe how list values and string values are identical.\n",
    "Ans.\n",
    "While list is a collection of values in Python, string is a collection of characters. Both list and strings are iterable in Python and a for loop can be used around a list or string object to iterate through each element in the list/string.\n",
    "\n"
   ]
  },
  {
   "cell_type": "markdown",
   "id": "110ec923",
   "metadata": {},
   "source": [
    "## 13. What's the difference between tuples and lists?\n",
    "Ans.\n",
    "Tuples are immutable where as lists in Python are mutable. So once created, the items inside a tuple cannot be changed."
   ]
  },
  {
   "cell_type": "markdown",
   "id": "b0ac934d",
   "metadata": {},
   "source": [
    "## 14. How do you type a tuple value that only contains the integer 42?"
   ]
  },
  {
   "cell_type": "code",
   "execution_count": 30,
   "id": "7932ee56",
   "metadata": {},
   "outputs": [
    {
     "name": "stdout",
     "output_type": "stream",
     "text": [
      "(42,)\n"
     ]
    }
   ],
   "source": [
    "tup = tuple([42])\n",
    "print(tup)"
   ]
  },
  {
   "cell_type": "markdown",
   "id": "85b06784",
   "metadata": {},
   "source": [
    "## 15. How do you get a list value's tuple form? How do you get a tuple value's list form?"
   ]
  },
  {
   "cell_type": "code",
   "execution_count": 31,
   "id": "6e40558d",
   "metadata": {},
   "outputs": [
    {
     "data": {
      "text/plain": [
       "list"
      ]
     },
     "execution_count": 31,
     "metadata": {},
     "output_type": "execute_result"
    }
   ],
   "source": [
    "b = tuple([42, 3, 5])\n",
    "type(b) # tuple\n",
    "c = list(b)\n",
    "type(c) # list"
   ]
  },
  {
   "cell_type": "markdown",
   "id": "b9180cee",
   "metadata": {},
   "source": [
    "## 16. Variables that \"contain\" list values are not necessarily lists themselves. Instead, what do they contain?\n",
    "They contain references to the list values"
   ]
  },
  {
   "cell_type": "code",
   "execution_count": 32,
   "id": "8fe8af66",
   "metadata": {},
   "outputs": [
    {
     "name": "stdout",
     "output_type": "stream",
     "text": [
      "[11, 22, 9]\n",
      "2523553296576\n"
     ]
    }
   ],
   "source": [
    "l1 = [11,22,9]\n",
    "print(l1)\n",
    "print(id(l1))"
   ]
  },
  {
   "cell_type": "markdown",
   "id": "c128427b",
   "metadata": {},
   "source": [
    "## 17. How do you distinguish between copy.copy() and copy.deepcopy()?\n",
    "Ans.\n",
    "1. copy() returns a shallow copy of list and deepcopy() return a deep copy of list.\n",
    "2. deepcopy: In case of deep copy, a copy of object is copied in other object. It means that any changes made to a copy of      object do not reflect in the original object.\n",
    "3. shallow copy: In case of shallow copy, a reference of object is copied in other object. It means that any changes made to a copy of object do reflect in the original object."
   ]
  },
  {
   "cell_type": "code",
   "execution_count": null,
   "id": "e6e20106",
   "metadata": {},
   "outputs": [],
   "source": []
  }
 ],
 "metadata": {
  "kernelspec": {
   "display_name": "Python 3",
   "language": "python",
   "name": "python3"
  },
  "language_info": {
   "codemirror_mode": {
    "name": "ipython",
    "version": 3
   },
   "file_extension": ".py",
   "mimetype": "text/x-python",
   "name": "python",
   "nbconvert_exporter": "python",
   "pygments_lexer": "ipython3",
   "version": "3.8.8"
  }
 },
 "nbformat": 4,
 "nbformat_minor": 5
}
