{
 "cells": [
  {
   "cell_type": "markdown",
   "id": "31f0983c",
   "metadata": {},
   "source": [
    "## Basic Python Assignment_25"
   ]
  },
  {
   "cell_type": "markdown",
   "id": "ce5ef75e",
   "metadata": {},
   "source": [
    "## 1. What is the difference between enclosing a list comprehension in square brackets and parentheses?"
   ]
  },
  {
   "cell_type": "code",
   "execution_count": null,
   "id": "9777233c",
   "metadata": {},
   "outputs": [],
   "source": [
    "Ans. the List comprehension is enclosed in square brackets [] while the Generator expression is enclosed in plain parentheses ()"
   ]
  },
  {
   "cell_type": "markdown",
   "id": "00f631ff",
   "metadata": {},
   "source": [
    "## 2. What is the relationship between generators and iterators?"
   ]
  },
  {
   "cell_type": "code",
   "execution_count": null,
   "id": "d978d5e8",
   "metadata": {},
   "outputs": [],
   "source": [
    "Ans.\n",
    "Iterators:Iterators are used mostly to iterate or convert other objects to an iterator using iter() function\n",
    "Generator:Generators are mostly used in loops to generate an iterator by returning all the values in the loop without affecting the iteration of the loop"
   ]
  },
  {
   "cell_type": "markdown",
   "id": "23107681",
   "metadata": {},
   "source": [
    "## 3. What are the signs that a function is a generator function?"
   ]
  },
  {
   "cell_type": "code",
   "execution_count": null,
   "id": "eded0085",
   "metadata": {},
   "outputs": [],
   "source": [
    "Ans. If a function contains at least one yield statement, it becomes a generator function. Both yield and return will return some value from a functio"
   ]
  },
  {
   "cell_type": "markdown",
   "id": "28910112",
   "metadata": {},
   "source": [
    "## 4. What is the purpose of a yield statement?"
   ]
  },
  {
   "cell_type": "code",
   "execution_count": null,
   "id": "3208a84a",
   "metadata": {},
   "outputs": [],
   "source": [
    "Ans. Yield is a keyword in Python that is used to return from a function without destroying the states of its local variable and when the function is called, the execution starts from the last yield statement"
   ]
  },
  {
   "cell_type": "markdown",
   "id": "0a1bf7ee",
   "metadata": {},
   "source": [
    "## 5. What is the relationship between map calls and list comprehensions? Make a comparison and contrast between the two."
   ]
  },
  {
   "cell_type": "code",
   "execution_count": null,
   "id": "85ea2d38",
   "metadata": {},
   "outputs": [],
   "source": [
    "Ans.List comprehension is more concise and easier to read as compared to map\n",
    "List comprehension are used when a list of results is required as map only returns a map object and does not return any list. Map is faster in case of calling an already defined function as no lambda is required"
   ]
  }
 ],
 "metadata": {
  "kernelspec": {
   "display_name": "Python 3",
   "language": "python",
   "name": "python3"
  },
  "language_info": {
   "codemirror_mode": {
    "name": "ipython",
    "version": 3
   },
   "file_extension": ".py",
   "mimetype": "text/x-python",
   "name": "python",
   "nbconvert_exporter": "python",
   "pygments_lexer": "ipython3",
   "version": "3.8.8"
  }
 },
 "nbformat": 4,
 "nbformat_minor": 5
}
