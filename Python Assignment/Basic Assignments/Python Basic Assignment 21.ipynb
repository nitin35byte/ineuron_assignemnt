{
 "cells": [
  {
   "cell_type": "markdown",
   "id": "933ccf28",
   "metadata": {},
   "source": [
    "## Python Basic Assignment 21"
   ]
  },
  {
   "cell_type": "markdown",
   "id": "7443e352",
   "metadata": {},
   "source": [
    "## 1. Add the current date to the text file today.txt as a string."
   ]
  },
  {
   "cell_type": "code",
   "execution_count": 8,
   "id": "d0157703",
   "metadata": {},
   "outputs": [
    {
     "name": "stdout",
     "output_type": "stream",
     "text": [
      "2022-04-01\n"
     ]
    }
   ],
   "source": [
    "from datetime import date\n",
    "\n",
    "with open('today.txt', 'w') as txt:\n",
    "    txt.write(date.today().isoformat())\n",
    "print(date.today().isoformat())"
   ]
  },
  {
   "cell_type": "markdown",
   "id": "9b825f79",
   "metadata": {},
   "source": [
    "## 2. Read the text file today.txt into the string today_string"
   ]
  },
  {
   "cell_type": "code",
   "execution_count": 10,
   "id": "9c9b1043",
   "metadata": {},
   "outputs": [
    {
     "name": "stdout",
     "output_type": "stream",
     "text": [
      "Reading text: 2022-04-01\n"
     ]
    }
   ],
   "source": [
    "today_string = \"\"\n",
    "with open('today.txt', 'r') as txt:\n",
    "    today_string = txt.readline()\n",
    "print(f\"Reading text: {today_string}\")"
   ]
  },
  {
   "cell_type": "markdown",
   "id": "774588b1",
   "metadata": {},
   "source": [
    "## 3. Parse the date from today_string."
   ]
  },
  {
   "cell_type": "code",
   "execution_count": 11,
   "id": "cd7d48e7",
   "metadata": {},
   "outputs": [
    {
     "name": "stdout",
     "output_type": "stream",
     "text": [
      "2022-04-01 00:00:00\n"
     ]
    }
   ],
   "source": [
    "from datetime import datetime\n",
    "print(datetime.strptime(today_string, '%Y-%m-%d'))"
   ]
  },
  {
   "cell_type": "markdown",
   "id": "d738a0bb",
   "metadata": {},
   "source": [
    "## 4. List the files in your current directory"
   ]
  },
  {
   "cell_type": "code",
   "execution_count": 15,
   "id": "e86e8381",
   "metadata": {},
   "outputs": [
    {
     "data": {
      "text/plain": [
       "['.ipynb_checkpoints',\n",
       " 'Assignment -3 (1).ipynb',\n",
       " 'Assignment 16.ipynb',\n",
       " 'Assignment 17.ipynb',\n",
       " 'Assignment 18.ipynb',\n",
       " 'Assignment-2.ipynb',\n",
       " 'Assignment_10.ipynb',\n",
       " 'Assignment_11.ipynb',\n",
       " 'Assignment_12.ipynb',\n",
       " 'Assignment_13.ipynb',\n",
       " 'Assignment_14.ipynb',\n",
       " 'Assignment_19.ipynb',\n",
       " 'Assignment_25.ipynb',\n",
       " 'Assignment_4.ipynb',\n",
       " 'Assignment_5.ipynb',\n",
       " 'Assignment_6.ipynb',\n",
       " 'Assignment_8.ipynb',\n",
       " 'Assignment_9.ipynb',\n",
       " 'Basic Assignment 20.ipynb',\n",
       " 'Basic Assignment_15.ipynb',\n",
       " 'book.csv',\n",
       " 'books.csv',\n",
       " 'books.db',\n",
       " 'date.today',\n",
       " 'Python Basic Assignment - 1.ipynb',\n",
       " 'Python Basic Assignment 21.ipynb',\n",
       " 'test.txt',\n",
       " 'today.txt',\n",
       " 'Untitled.ipynb',\n",
       " 'Untitled1.ipynb',\n",
       " 'Untitled2.ipynb',\n",
       " 'zoo.py',\n",
       " '__pycache__']"
      ]
     },
     "execution_count": 15,
     "metadata": {},
     "output_type": "execute_result"
    }
   ],
   "source": [
    "import os\n",
    "os.listdir('.')"
   ]
  },
  {
   "cell_type": "markdown",
   "id": "cfe843de",
   "metadata": {},
   "source": [
    "## 5. Create a list of all of the files in your parent directory (minimum five files should be available)."
   ]
  },
  {
   "cell_type": "code",
   "execution_count": 20,
   "id": "8cca3308",
   "metadata": {},
   "outputs": [
    {
     "name": "stdout",
     "output_type": "stream",
     "text": [
      "['Andvance Assignment', 'basic _assignments', 'Basic_python program assignment', 'python_advance Programming', 'SQL_Assignment', 'zoo.py']\n",
      "Number of files: 6\n"
     ]
    }
   ],
   "source": [
    "lst_files = os.listdir('..')\n",
    "print(lst_files)\n",
    "print(f\"Number of files: {len(lst_files)}\")"
   ]
  },
  {
   "cell_type": "markdown",
   "id": "4d88751b",
   "metadata": {},
   "source": [
    "## 6. Use multiprocessing to create three separate processes. Make each one wait a random number of seconds between one and five, print the current time, and then exit."
   ]
  },
  {
   "cell_type": "code",
   "execution_count": 21,
   "id": "8675b475",
   "metadata": {},
   "outputs": [
    {
     "name": "stdout",
     "output_type": "stream",
     "text": [
      "starting processes\n",
      "Process 0 will sleep for 6\n",
      "starting processes\n",
      "Process 1 will sleep for 3\n",
      "starting processes\n",
      "Process 2 will sleep for 8\n"
     ]
    }
   ],
   "source": [
    "import multiprocessing\n",
    "from datetime import datetime \n",
    "from time import sleep \n",
    "import random\n",
    "\n",
    "def now_sleep(seconds): \n",
    "    print('wait', seconds, 'seconds, time is', datetime.utcnow())\n",
    "    sleep(seconds) \n",
    "    print(\"Finished Process!\")\n",
    "\n",
    "if __name__ == '__main__':\n",
    "    for n in range(3): \n",
    "        print(\"starting processes\")\n",
    "        seconds = random.randint(1, 10) \n",
    "        print(f\"Process {n} will sleep for {seconds}\")\n",
    "        proc = multiprocessing.Process(target=now_sleep, args=(seconds,)) \n",
    "        proc.start()\n",
    "        "
   ]
  },
  {
   "cell_type": "markdown",
   "id": "d2d0a24e",
   "metadata": {},
   "source": [
    "## 7. Create a date object of your day of birth."
   ]
  },
  {
   "cell_type": "code",
   "execution_count": 22,
   "id": "cf40a180",
   "metadata": {},
   "outputs": [
    {
     "name": "stdout",
     "output_type": "stream",
     "text": [
      "1998-06-22\n"
     ]
    }
   ],
   "source": [
    "DOB = date(1998, 6, 22)\n",
    "print(DOB)"
   ]
  },
  {
   "cell_type": "markdown",
   "id": "69f9f637",
   "metadata": {},
   "source": [
    "## 8. What day of the week was your day of birth?"
   ]
  },
  {
   "cell_type": "code",
   "execution_count": 24,
   "id": "6b482a88",
   "metadata": {},
   "outputs": [
    {
     "name": "stdout",
     "output_type": "stream",
     "text": [
      "My birthday was on 1th day of the week\n"
     ]
    }
   ],
   "source": [
    "print(f\"My birthday was on {DOB.isoweekday()}th day of the week\")"
   ]
  },
  {
   "cell_type": "markdown",
   "id": "59ab7a90",
   "metadata": {},
   "source": [
    "## 9. When will you be (or when were you) 10,000 days old?"
   ]
  },
  {
   "cell_type": "code",
   "execution_count": 26,
   "id": "0389c7e8",
   "metadata": {},
   "outputs": [
    {
     "name": "stdout",
     "output_type": "stream",
     "text": [
      "2025-11-07\n"
     ]
    }
   ],
   "source": [
    "from datetime import timedelta\n",
    "\n",
    "thousand_days = DOB + timedelta(days=10000)\n",
    "print(thousand_days)"
   ]
  },
  {
   "cell_type": "code",
   "execution_count": null,
   "id": "9bb20409",
   "metadata": {},
   "outputs": [],
   "source": []
  }
 ],
 "metadata": {
  "kernelspec": {
   "display_name": "Python 3",
   "language": "python",
   "name": "python3"
  },
  "language_info": {
   "codemirror_mode": {
    "name": "ipython",
    "version": 3
   },
   "file_extension": ".py",
   "mimetype": "text/x-python",
   "name": "python",
   "nbconvert_exporter": "python",
   "pygments_lexer": "ipython3",
   "version": "3.8.8"
  }
 },
 "nbformat": 4,
 "nbformat_minor": 5
}
