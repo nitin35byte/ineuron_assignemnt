{
 "cells": [
  {
   "cell_type": "markdown",
   "id": "72e8ecd5",
   "metadata": {},
   "source": [
    "## Assignment_12"
   ]
  },
  {
   "cell_type": "markdown",
   "id": "9aedacdc",
   "metadata": {},
   "source": [
    "## 1. In what modes should the PdfFileReader() and PdfFileWriter() File objects will be opened?\n",
    "Ans.\n",
    "PdfFileReader() needs to be opened in read-binary mode.\n",
    "PdfFileWriter() should be opened in write-binary mode."
   ]
  },
  {
   "cell_type": "markdown",
   "id": "24f41057",
   "metadata": {},
   "source": [
    "## 2. From a PdfFileReader object, how do you get a Page object for page 5?\n",
    "Ans.calling the getPage() method.\n",
    "   PdfFileReader.getpage(5)"
   ]
  },
  {
   "cell_type": "markdown",
   "id": "678f1b4d",
   "metadata": {},
   "source": [
    "## 3. What PdfFileReader variable stores the number of pages in the PDF document?\n",
    "\n",
    "Ans. numPages"
   ]
  },
  {
   "cell_type": "markdown",
   "id": "d0989858",
   "metadata": {},
   "source": [
    "## 4. If a PdfFileReader object’s PDF is encrypted with the password swordfish, what must you do before you can obtain Page objects from it?\n",
    "Ans. obj.decrypt(\"swordfish\")"
   ]
  },
  {
   "cell_type": "markdown",
   "id": "7051cc51",
   "metadata": {},
   "source": [
    "## 5. What methods do you use to rotate a page?\n",
    "Ans. rotateClockwise() , rotateCounterClockwise()"
   ]
  },
  {
   "cell_type": "markdown",
   "id": "e555c77d",
   "metadata": {},
   "source": [
    "## 6. What is the difference between a Run object and a Paragraph object?\n",
    "\n",
    "Ans.paragraps object is needed to get paragraph from a document, runs object is needed whenever text style changes in a paragraph."
   ]
  },
  {
   "cell_type": "markdown",
   "id": "acea4d2f",
   "metadata": {},
   "source": [
    "## 7. How do you obtain a list of Paragraph objects for a Document object that’s stored in a variable named doc?\n",
    "Ans. doc.paragraphs"
   ]
  },
  {
   "cell_type": "markdown",
   "id": "d9c287cf",
   "metadata": {},
   "source": [
    "## 8. What type of object has bold, underline, italic, strike, and outline variables?\n",
    "Ans. runs"
   ]
  },
  {
   "cell_type": "markdown",
   "id": "84151ee6",
   "metadata": {},
   "source": [
    "## 9.What is the difference between False, True, and None for the bold variable?\n",
    "Ans. True = bold is always enabled no matter what other styles are applied to the run, False = bold is always disabled, None = defaults to whatever the run's style set to"
   ]
  },
  {
   "cell_type": "markdown",
   "id": "dffb3055",
   "metadata": {},
   "source": [
    "## 10. How do you create a Document object for a new Word document?\n",
    "import docx\n",
    "\n",
    "doc=docx.Document(.docx file name)"
   ]
  },
  {
   "cell_type": "markdown",
   "id": "1028d353",
   "metadata": {},
   "source": [
    "## 11. How do you add a paragraph with the text 'Hello, there!' to a Document object stored in a variable named doc?\n",
    "Ans. doc.add_paragraph(\"Hello, there!\")\n"
   ]
  },
  {
   "cell_type": "markdown",
   "id": "01827512",
   "metadata": {},
   "source": [
    "## 12. What integers represent the levels of headings available in Word documents?\n",
    "Ans. 0 to 4"
   ]
  },
  {
   "cell_type": "code",
   "execution_count": null,
   "id": "b2aaab28",
   "metadata": {},
   "outputs": [],
   "source": []
  }
 ],
 "metadata": {
  "kernelspec": {
   "display_name": "Python 3",
   "language": "python",
   "name": "python3"
  },
  "language_info": {
   "codemirror_mode": {
    "name": "ipython",
    "version": 3
   },
   "file_extension": ".py",
   "mimetype": "text/x-python",
   "name": "python",
   "nbconvert_exporter": "python",
   "pygments_lexer": "ipython3",
   "version": "3.8.8"
  }
 },
 "nbformat": 4,
 "nbformat_minor": 5
}
