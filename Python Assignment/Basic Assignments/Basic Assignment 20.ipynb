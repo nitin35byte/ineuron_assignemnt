{
 "cells": [
  {
   "cell_type": "markdown",
   "id": "11240bcf",
   "metadata": {},
   "source": [
    "## Python Basic Assignment 20"
   ]
  },
  {
   "cell_type": "markdown",
   "id": "433093e0",
   "metadata": {},
   "source": [
    "## 1. Set the variable test1 to the string 'This is a test of the emergency text system,' and save test1 to a file named test.txt."
   ]
  },
  {
   "cell_type": "code",
   "execution_count": 3,
   "id": "300feae4",
   "metadata": {},
   "outputs": [
    {
     "data": {
      "text/plain": [
       "43"
      ]
     },
     "execution_count": 3,
     "metadata": {},
     "output_type": "execute_result"
    }
   ],
   "source": [
    "test1 = 'This is a test of the emergency text system'\n",
    "file = open('test.txt','w')\n",
    "file.write(test1)"
   ]
  },
  {
   "cell_type": "markdown",
   "id": "1ea1990b",
   "metadata": {},
   "source": [
    " ## 2. Read the contents of the file test.txt into the variable test2. Is there a difference between test 1 and test 2?"
   ]
  },
  {
   "cell_type": "code",
   "execution_count": 8,
   "id": "00583fd2",
   "metadata": {},
   "outputs": [
    {
     "data": {
      "text/plain": [
       "''"
      ]
     },
     "execution_count": 8,
     "metadata": {},
     "output_type": "execute_result"
    }
   ],
   "source": [
    "file2 = open('test.txt','r')\n",
    "test2 = file2.readline()\n",
    "test2"
   ]
  },
  {
   "cell_type": "code",
   "execution_count": 9,
   "id": "8bf4f59c",
   "metadata": {},
   "outputs": [],
   "source": [
    "if test1 == test2:\n",
    "    print('both are same')"
   ]
  },
  {
   "cell_type": "markdown",
   "id": "17b1d331",
   "metadata": {},
   "source": [
    "## 3. Create a CSV file called books.csv by using these lines:"
   ]
  },
  {
   "cell_type": "code",
   "execution_count": 2,
   "id": "ad80e879",
   "metadata": {},
   "outputs": [
    {
     "name": "stdout",
     "output_type": "stream",
     "text": [
      "title,author,year\r\n",
      "\n",
      "The Weirdstone of Brisingamen,Alan Garner,1960\r\n",
      "\n",
      "Perdido Street Station,China Miéville,2000\r\n",
      "\n",
      "Thud!,Terry Pratchett,2005\r\n",
      "\n",
      "The Spellman Files,Lisa Lutz,2007\r\n",
      "\n",
      "Small Gods,Terry Pratchett,1992\r\n",
      "\n"
     ]
    }
   ],
   "source": [
    "import csv\n",
    "rows =[ ['title','author','year'],\n",
    "    ['The Weirdstone of Brisingamen','Alan Garner',1960],\n",
    "    ['Perdido Street Station','China Miéville',2000],\n",
    "    ['Thud!','Terry Pratchett',2005],\n",
    "    ['The Spellman Files','Lisa Lutz',2007],\n",
    "    ['Small Gods','Terry Pratchett',1992]]\n",
    "with open('books.csv','w',newline='') as file:\n",
    "    writer = csv.writer(file)\n",
    "    writer.writerows(rows)\n",
    "    \n",
    "with open('books.csv','r',newline='') as file:\n",
    "    for line in file.readlines():\n",
    "        print(line)"
   ]
  },
  {
   "cell_type": "markdown",
   "id": "cca0af20",
   "metadata": {},
   "source": [
    "## 4.  Use the sqlite3 module to create a SQLite database called books.db, and a table called books with these fields: title (text), author (text), and year (integer)."
   ]
  },
  {
   "cell_type": "code",
   "execution_count": null,
   "id": "4944212c",
   "metadata": {},
   "outputs": [],
   "source": [
    "import sqlite3\n",
    "conn = sqlite3.connect('books.db')\n",
    "c = conn.cursor()\n",
    "\n",
    "c.execute('create table books(title varchar(20),author varchar(20), year int)')\n",
    "conn.commit()"
   ]
  },
  {
   "cell_type": "markdown",
   "id": "2d7efdc5",
   "metadata": {},
   "source": [
    "## 5. Read books.csv and insert its data into the book table."
   ]
  },
  {
   "cell_type": "code",
   "execution_count": null,
   "id": "ae64bcae",
   "metadata": {},
   "outputs": [],
   "source": [
    "import pandas as pd\n",
    "\n",
    "read_books = pd.read_csv('books.csv',encoding='unicode_escape')\n",
    "read_books.to_sql('books', conn, if_exists='append', index = False)"
   ]
  },
  {
   "cell_type": "markdown",
   "id": "3f6018cb",
   "metadata": {},
   "source": [
    "## 6. Select and print the title column from the book table in alphabetical order."
   ]
  },
  {
   "cell_type": "markdown",
   "id": "c29ff7df",
   "metadata": {},
   "source": [
    "c.execute('select title from books order by title asc')\n",
    "print(c.fetchall())"
   ]
  },
  {
   "cell_type": "markdown",
   "id": "973e9b5a",
   "metadata": {},
   "source": [
    "## 7. From the book table, select and print all columns in the order of publication."
   ]
  },
  {
   "cell_type": "code",
   "execution_count": null,
   "id": "6416e146",
   "metadata": {},
   "outputs": [],
   "source": [
    "c.execute('select title, author,year from books order by year')\n",
    "\n",
    "\n",
    "df = pd.DataFrame(c.fetchall(), columns=['title','author','year'])\n",
    "df"
   ]
  },
  {
   "cell_type": "markdown",
   "id": "95cc82c0",
   "metadata": {},
   "source": [
    "## 8. Use the sqlalchemy module to connect to the sqlite3 database books.db that you just made in exercise 6"
   ]
  },
  {
   "cell_type": "code",
   "execution_count": null,
   "id": "c4f68f20",
   "metadata": {},
   "outputs": [],
   "source": [
    "import sqlalchemy\n",
    "engine = sqlalchemy.create_engine(\"sqlite:///books.db\")\n",
    "rows = engine.execute('select * from books')\n",
    "for i in rows:\n",
    "    print(i)"
   ]
  },
  {
   "cell_type": "markdown",
   "id": "eb50b234",
   "metadata": {},
   "source": [
    "## 9. Install the Redis server and the Python redis library (pip install redis) on your computer. Create a Redis hash called test with the fields count (1) and name ('Fester Bestertester'). Print all the fields for test."
   ]
  },
  {
   "cell_type": "code",
   "execution_count": null,
   "id": "3dff8206",
   "metadata": {},
   "outputs": [],
   "source": [
    "import redis\n",
    "conn = redis.Redis()\n",
    "conn.delete('test')\n",
    "conn.hmset('test', {'count': 1, 'name': 'Fester Bestertester'})\n",
    "conn.hgetall('test')"
   ]
  },
  {
   "cell_type": "markdown",
   "id": "bf2408b7",
   "metadata": {},
   "source": [
    "## 10. Increment the count field of test and print it."
   ]
  },
  {
   "cell_type": "code",
   "execution_count": null,
   "id": "400afa4a",
   "metadata": {},
   "outputs": [],
   "source": [
    "conn.hincrby('test','count', 3)"
   ]
  }
 ],
 "metadata": {
  "kernelspec": {
   "display_name": "Python 3",
   "language": "python",
   "name": "python3"
  },
  "language_info": {
   "codemirror_mode": {
    "name": "ipython",
    "version": 3
   },
   "file_extension": ".py",
   "mimetype": "text/x-python",
   "name": "python",
   "nbconvert_exporter": "python",
   "pygments_lexer": "ipython3",
   "version": "3.8.8"
  }
 },
 "nbformat": 4,
 "nbformat_minor": 5
}
