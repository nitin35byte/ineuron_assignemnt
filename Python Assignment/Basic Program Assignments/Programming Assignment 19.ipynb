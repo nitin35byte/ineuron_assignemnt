{
 "cells": [
  {
   "cell_type": "markdown",
   "id": "44bc82c5",
   "metadata": {},
   "source": [
    "## Python Basic Programming Assignment 19"
   ]
  },
  {
   "cell_type": "markdown",
   "id": "0832f9ef",
   "metadata": {},
   "source": [
    "## 1.  Create a function that takes a string and returns a string in which each character is repeated once"
   ]
  },
  {
   "cell_type": "code",
   "execution_count": 10,
   "id": "7dd002bf",
   "metadata": {},
   "outputs": [
    {
     "name": "stdout",
     "output_type": "stream",
     "text": [
      "SSttrriinngg\n",
      "HHeelllloo  WWoorrlldd!!\n",
      "11223344!!__  \n"
     ]
    }
   ],
   "source": [
    "def double(string):\n",
    "    return ''.join([c+c for c in string])\n",
    "\n",
    "print(double('String'))\n",
    "print(double('Hello World!'))\n",
    "print(double('1234!_ '))"
   ]
  },
  {
   "cell_type": "markdown",
   "id": "e927e020",
   "metadata": {},
   "source": [
    "## 2. Create a function that reverses a boolean value and returns the string 'boolean expected' if another variable type is given"
   ]
  },
  {
   "cell_type": "code",
   "execution_count": 9,
   "id": "8de31610",
   "metadata": {},
   "outputs": [
    {
     "name": "stdout",
     "output_type": "stream",
     "text": [
      "False\n",
      "True\n",
      "boolean expected\n",
      "boolean expected\n"
     ]
    }
   ],
   "source": [
    "def reverse(arg):\n",
    "    return not arg if type(arg) == bool else \"boolean expected\"\n",
    "\n",
    "print(reverse(True))\n",
    "print(reverse(False))\n",
    "print(reverse(0))\n",
    "print(reverse(None))"
   ]
  },
  {
   "cell_type": "markdown",
   "id": "5d49a1b6",
   "metadata": {},
   "source": [
    "## 3. Create a function that returns the thickness (in meters) of a piece of paper after folding it n number of times. The paper starts off with a thickness of 0.5mm. Examples num_layers(1) ➞ '0.001m'"
   ]
  },
  {
   "cell_type": "code",
   "execution_count": 11,
   "id": "109e85c6",
   "metadata": {},
   "outputs": [
    {
     "name": "stdout",
     "output_type": "stream",
     "text": [
      "0.001m\n",
      "0.008m\n",
      "1048.576m\n"
     ]
    }
   ],
   "source": [
    "def num_layers(n):\n",
    "    thickness = 0.5\n",
    "    for _ in range(n):\n",
    "        thickness *= 2\n",
    "    return str(thickness / 1000)+'m' # for meters\n",
    "\n",
    "print(num_layers(1))\n",
    "print(num_layers(4))\n",
    "print(num_layers(21))\n"
   ]
  },
  {
   "cell_type": "markdown",
   "id": "58364c0a",
   "metadata": {},
   "source": [
    "## 4. Create a function that takes a single string as argument and returns an ordered list containing the indices of all capital letters in the string."
   ]
  },
  {
   "cell_type": "code",
   "execution_count": 21,
   "id": "58fed006",
   "metadata": {},
   "outputs": [],
   "source": [
    "def funcation(word):\n",
    "    indices = []\n",
    "    for i in range(len(word)):\n",
    "        if word[i].isupper():\n",
    "             indices.append(i)\n",
    "    return indices"
   ]
  },
  {
   "cell_type": "code",
   "execution_count": 22,
   "id": "5b931225",
   "metadata": {},
   "outputs": [
    {
     "name": "stdout",
     "output_type": "stream",
     "text": [
      "[0, 3]\n",
      "[1, 3, 5]\n",
      "[1, 3, 4, 6]\n",
      "[]\n",
      "[0, 1, 2, 3, 4, 5]\n",
      "[1]\n"
     ]
    }
   ],
   "source": [
    "print(funcation('BhaNu'))\n",
    "print(funcation('eDaBiT'))\n",
    "print(funcation('eQuINoX')) \n",
    "print(funcation('determine'))\n",
    "print(funcation('STRIKE'))\n",
    "print(funcation('sUn'))\n"
   ]
  },
  {
   "cell_type": "markdown",
   "id": "5c707928",
   "metadata": {},
   "source": [
    "## 5. Using list comprehensions, create a function that finds all even numbers from 1 to the given number."
   ]
  },
  {
   "cell_type": "code",
   "execution_count": 23,
   "id": "6ed1b651",
   "metadata": {},
   "outputs": [
    {
     "name": "stdout",
     "output_type": "stream",
     "text": [
      "[2, 4, 6, 8]\n",
      "[2, 4]\n"
     ]
    }
   ],
   "source": [
    "def even_nums(n):\n",
    "    even =[x for x in range(2,n+1) if x % 2 == 0]\n",
    "    return even\n",
    "\n",
    "print(even_nums(8))\n",
    "print(even_nums(4))"
   ]
  },
  {
   "cell_type": "code",
   "execution_count": null,
   "id": "0746294e",
   "metadata": {},
   "outputs": [],
   "source": []
  }
 ],
 "metadata": {
  "kernelspec": {
   "display_name": "Python 3",
   "language": "python",
   "name": "python3"
  },
  "language_info": {
   "codemirror_mode": {
    "name": "ipython",
    "version": 3
   },
   "file_extension": ".py",
   "mimetype": "text/x-python",
   "name": "python",
   "nbconvert_exporter": "python",
   "pygments_lexer": "ipython3",
   "version": "3.8.8"
  }
 },
 "nbformat": 4,
 "nbformat_minor": 5
}
