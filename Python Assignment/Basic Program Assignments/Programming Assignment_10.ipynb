{
 "cells": [
  {
   "cell_type": "markdown",
   "id": "39379b87",
   "metadata": {},
   "source": [
    "## Programming Assignment_10"
   ]
  },
  {
   "cell_type": "markdown",
   "id": "5ff3f269",
   "metadata": {},
   "source": [
    "### 1. Write a Python program to find sum of elements in list?"
   ]
  },
  {
   "cell_type": "code",
   "execution_count": 6,
   "id": "929ec83a",
   "metadata": {},
   "outputs": [
    {
     "name": "stdout",
     "output_type": "stream",
     "text": [
      "45\n"
     ]
    }
   ],
   "source": [
    "l = [1,2,3,4,5,6,7,8,9]\n",
    "summ = 0\n",
    "\n",
    "for i in l:\n",
    "    summ+= i\n",
    "print(summ)"
   ]
  },
  {
   "cell_type": "markdown",
   "id": "e123e634",
   "metadata": {},
   "source": [
    "## 2. Write a Python program to Multiply all numbers in the list?"
   ]
  },
  {
   "cell_type": "code",
   "execution_count": 9,
   "id": "b371279e",
   "metadata": {},
   "outputs": [
    {
     "name": "stdout",
     "output_type": "stream",
     "text": [
      "120\n"
     ]
    }
   ],
   "source": [
    "l = [1,2,3,4,5,]\n",
    "summ = 1\n",
    "\n",
    "for i in l:\n",
    "    summ*= i\n",
    "print(summ)"
   ]
  },
  {
   "cell_type": "markdown",
   "id": "dffce364",
   "metadata": {},
   "source": [
    "## 3. Write a Python program to find smallest number in a list?"
   ]
  },
  {
   "cell_type": "code",
   "execution_count": 5,
   "id": "73708c24",
   "metadata": {},
   "outputs": [
    {
     "name": "stdout",
     "output_type": "stream",
     "text": [
      "1\n"
     ]
    }
   ],
   "source": [
    "l = [1,2,3,4,5,]\n",
    "min1 = l[0]\n",
    "\n",
    "for i in l:\n",
    "    if  i < min1:\n",
    "        min1 = i\n",
    "print(min1)"
   ]
  },
  {
   "cell_type": "code",
   "execution_count": 6,
   "id": "e07bfc48",
   "metadata": {},
   "outputs": [
    {
     "name": "stdout",
     "output_type": "stream",
     "text": [
      "smallest number in list is 1\n"
     ]
    }
   ],
   "source": [
    "l = [1,2,3,4,5,]\n",
    "print(\"smallest number in list is\",min(l))"
   ]
  },
  {
   "cell_type": "markdown",
   "id": "7cbe28da",
   "metadata": {},
   "source": [
    "## 4. Write a Python program to find largest number in a list?"
   ]
  },
  {
   "cell_type": "code",
   "execution_count": 3,
   "id": "3fc9b9bc",
   "metadata": {},
   "outputs": [
    {
     "name": "stdout",
     "output_type": "stream",
     "text": [
      "smallest number in list is 5\n"
     ]
    }
   ],
   "source": [
    "l = [1,2,3,4,5,]\n",
    "print(\"smallest number in list is\",max(l))"
   ]
  },
  {
   "cell_type": "code",
   "execution_count": 3,
   "id": "0b385e2c",
   "metadata": {},
   "outputs": [
    {
     "name": "stdout",
     "output_type": "stream",
     "text": [
      "80\n"
     ]
    }
   ],
   "source": [
    "l = [1,2,3,4,5,55,80]\n",
    "maxi = 1\n",
    "\n",
    "for i  in l:\n",
    "    if i  > maxi:\n",
    "        maxi = i\n",
    "print(maxi)"
   ]
  },
  {
   "cell_type": "markdown",
   "id": "a5d887a7",
   "metadata": {},
   "source": [
    "## 5. Write a Python program to find second largest number in a list?"
   ]
  },
  {
   "cell_type": "code",
   "execution_count": 4,
   "id": "394a40da",
   "metadata": {},
   "outputs": [
    {
     "name": "stdout",
     "output_type": "stream",
     "text": [
      "Second largest element is: 45\n"
     ]
    }
   ],
   "source": [
    "list1 = [10, 20, 4, 45, 99]\n",
    " \n",
    "list1.sort()\n",
    " \n",
    "print(\"Second largest element is:\", list1[-2])"
   ]
  },
  {
   "cell_type": "markdown",
   "id": "edf5f0ca",
   "metadata": {},
   "source": [
    "\n",
    "## 6. Write a Python program to find N largest elements from a list?"
   ]
  },
  {
   "cell_type": "code",
   "execution_count": 7,
   "id": "435e5ddf",
   "metadata": {
    "scrolled": true
   },
   "outputs": [
    {
     "name": "stdout",
     "output_type": "stream",
     "text": [
      "[298, 900, 1000, 3579]\n"
     ]
    }
   ],
   "source": [
    "l = [1000,298,3579,100,200,-45,900]\n",
    "n = 4\n",
    "  \n",
    "l.sort()\n",
    "print(l[-n:])"
   ]
  },
  {
   "cell_type": "markdown",
   "id": "d1a60806",
   "metadata": {},
   "source": [
    "## 7. Write a Python program to print even numbers in a list?"
   ]
  },
  {
   "cell_type": "code",
   "execution_count": 8,
   "id": "dd80c5ba",
   "metadata": {},
   "outputs": [
    {
     "name": "stdout",
     "output_type": "stream",
     "text": [
      "2\n",
      "4\n",
      "6\n",
      "8\n",
      "22\n",
      "14\n",
      "24\n"
     ]
    }
   ],
   "source": [
    "l = [2,4,5,6,7,8,9,22,14,33,24]\n",
    "\n",
    "for i  in l:\n",
    "    if i %2 == 0:\n",
    "        print(i)"
   ]
  },
  {
   "cell_type": "markdown",
   "id": "6bf78a51",
   "metadata": {},
   "source": [
    "## 8. Write a Python program to print odd numbers in a List?"
   ]
  },
  {
   "cell_type": "code",
   "execution_count": 9,
   "id": "04310c1c",
   "metadata": {},
   "outputs": [
    {
     "name": "stdout",
     "output_type": "stream",
     "text": [
      "5\n",
      "7\n",
      "9\n",
      "33\n"
     ]
    }
   ],
   "source": [
    "l = [2,4,5,6,7,8,9,22,14,33,24]\n",
    "\n",
    "for i  in l:\n",
    "    if i %2 == 1:\n",
    "        print(i)"
   ]
  },
  {
   "cell_type": "markdown",
   "id": "61759594",
   "metadata": {},
   "source": [
    "## 9. Write a Python program to Remove empty List from List?"
   ]
  },
  {
   "cell_type": "code",
   "execution_count": 15,
   "id": "e07ca771",
   "metadata": {},
   "outputs": [
    {
     "name": "stdout",
     "output_type": "stream",
     "text": [
      "[[1, 2, 3], [5, 5], [5, 78], [89, 5, 6, 8]]\n"
     ]
    }
   ],
   "source": [
    "l = [[],[],[1,2,3] ,[5,5,],[5,78],[89,5,6,8,]]\n",
    "list1 = []\n",
    "for i in l:\n",
    "    if type(i) == list:\n",
    "        \n",
    "        if len(i) != 0:\n",
    "            list1.append(i)\n",
    "    else:\n",
    "        list1.append(i)\n",
    "        \n",
    "print(list1)"
   ]
  },
  {
   "cell_type": "markdown",
   "id": "047e879e",
   "metadata": {},
   "source": [
    "## 10. Write a Python program to Cloning or Copying a list?"
   ]
  },
  {
   "cell_type": "code",
   "execution_count": 17,
   "id": "7db538f6",
   "metadata": {
    "scrolled": true
   },
   "outputs": [
    {
     "data": {
      "text/plain": [
       "[2, 4, 5, 6, 7, 8, 9, 22, 14, 33, 24]"
      ]
     },
     "execution_count": 17,
     "metadata": {},
     "output_type": "execute_result"
    }
   ],
   "source": [
    "l = [2,4,5,6,7,8,9,22,14,33,24]\n",
    "l1=[]\n",
    "\n",
    "for i in l:\n",
    "    l1.append(i)\n",
    "l1"
   ]
  },
  {
   "cell_type": "markdown",
   "id": "457484de",
   "metadata": {},
   "source": [
    "## 11. Write a Python program to Count occurrences of an element in a list?"
   ]
  },
  {
   "cell_type": "code",
   "execution_count": 6,
   "id": "d28813a0",
   "metadata": {},
   "outputs": [
    {
     "data": {
      "text/plain": [
       "4"
      ]
     },
     "execution_count": 6,
     "metadata": {},
     "output_type": "execute_result"
    }
   ],
   "source": [
    "l = [2,4,2,4,2,6,7,7,2,5,8,7,6,4,5,6,7,8,9,22,14,33,24]\n",
    "\n",
    "def occurrences(lst, element):\n",
    "    count = 0\n",
    "    for i in lst:\n",
    "        if i == element:\n",
    "            count += 1\n",
    "            \n",
    "    return count\n",
    "occurrences(l, 2)"
   ]
  },
  {
   "cell_type": "code",
   "execution_count": null,
   "id": "32e89649",
   "metadata": {},
   "outputs": [],
   "source": []
  }
 ],
 "metadata": {
  "kernelspec": {
   "display_name": "Python 3",
   "language": "python",
   "name": "python3"
  },
  "language_info": {
   "codemirror_mode": {
    "name": "ipython",
    "version": 3
   },
   "file_extension": ".py",
   "mimetype": "text/x-python",
   "name": "python",
   "nbconvert_exporter": "python",
   "pygments_lexer": "ipython3",
   "version": "3.8.8"
  }
 },
 "nbformat": 4,
 "nbformat_minor": 5
}
