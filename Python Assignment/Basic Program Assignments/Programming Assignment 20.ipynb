{
 "cells": [
  {
   "cell_type": "markdown",
   "id": "acc939ec",
   "metadata": {},
   "source": [
    "## Python Basic Programming Assignment 20"
   ]
  },
  {
   "cell_type": "markdown",
   "id": "31ab0dc3",
   "metadata": {},
   "source": [
    "## 1. Create a function that takes a list of strings and integers, and filters out the list so that it returns a list of integers only."
   ]
  },
  {
   "cell_type": "code",
   "execution_count": 21,
   "id": "0347785d",
   "metadata": {},
   "outputs": [
    {
     "name": "stdout",
     "output_type": "stream",
     "text": [
      "[1, 2, 3, 4]\n",
      "[0, 1729]\n",
      "[]\n"
     ]
    }
   ],
   "source": [
    "def filter_list(lst: list) -> list:\n",
    "    return [i for i in lst if type(i) == int]\n",
    "\n",
    "print(filter_list([1, 2, 3, 'a', 'b', 4]))\n",
    "print(filter_list(['A', 0, 'Edabit', 1729, 'Python', '1729']))\n",
    "print(filter_list(['Nothing', 'here']))"
   ]
  },
  {
   "cell_type": "markdown",
   "id": "4b6b3136",
   "metadata": {},
   "source": [
    "## 2.  Given a list of numbers, create a function which returns the list but with each element's index in the list added to itself. This means you add 0 to the number at index 0, add 1 to the number at index 1, etc.."
   ]
  },
  {
   "cell_type": "code",
   "execution_count": 22,
   "id": "eb599465",
   "metadata": {},
   "outputs": [
    {
     "name": "stdout",
     "output_type": "stream",
     "text": [
      "[0, 1, 2, 3, 4]\n",
      "[1, 3, 5, 7, 9]\n",
      "[5, 5, 5, 5, 5]\n"
     ]
    }
   ],
   "source": [
    "def add_indexes(lst):\n",
    "    for i in range(len(lst)):\n",
    "        lst[i] = lst[i] + i\n",
    "        \n",
    "    return lst\n",
    "print(add_indexes([0, 0, 0, 0, 0]))\n",
    "print(add_indexes([1, 2, 3, 4, 5]))\n",
    "print(add_indexes([5, 4, 3, 2, 1]))\n"
   ]
  },
  {
   "cell_type": "markdown",
   "id": "cb03db61",
   "metadata": {},
   "source": [
    "## 3. Create a function that takes the height and radius of a cone as arguments and returns the volume of the cone rounded to the nearest hundredth. See the resources tab for the formula."
   ]
  },
  {
   "cell_type": "code",
   "execution_count": 23,
   "id": "f57e863f",
   "metadata": {},
   "outputs": [
    {
     "name": "stdout",
     "output_type": "stream",
     "text": [
      "12.57\n",
      "565.49\n",
      "0.0\n"
     ]
    }
   ],
   "source": [
    "import math\n",
    "\n",
    "def cone_volume(height, radius):\n",
    "    return round((1/3) * math.pi * (radius ** 2) * height, 2)\n",
    "\n",
    "print(cone_volume(3, 2))\n",
    "print(cone_volume(15, 6))\n",
    "print(cone_volume(18, 0))"
   ]
  },
  {
   "cell_type": "markdown",
   "id": "284142f3",
   "metadata": {},
   "source": [
    "## 4. This Triangular Number Sequence is generated from a pattern of dots that form a triangle. The first 5 numbers of the sequence, or dots, are: 1, 3, 6, 10, 15"
   ]
  },
  {
   "cell_type": "code",
   "execution_count": 24,
   "id": "2eb2ef2b",
   "metadata": {},
   "outputs": [
    {
     "name": "stdout",
     "output_type": "stream",
     "text": [
      "1\n",
      "21\n",
      "23220\n"
     ]
    }
   ],
   "source": [
    "def triangle(n):\n",
    "    return int(n*(n+1)*0.5)\n",
    "print(triangle(1))\n",
    "print(triangle(6))\n",
    "print(triangle(215))\n"
   ]
  },
  {
   "cell_type": "markdown",
   "id": "0dca4804",
   "metadata": {},
   "source": [
    "## 5. Create a function that takes a list of numbers between 1 and 10 (excluding one number) and returns the missing number"
   ]
  },
  {
   "cell_type": "code",
   "execution_count": 26,
   "id": "6b311746",
   "metadata": {},
   "outputs": [
    {
     "name": "stdout",
     "output_type": "stream",
     "text": [
      "5\n",
      "10\n",
      "7\n"
     ]
    }
   ],
   "source": [
    "def missing_num(lst):\n",
    "    total = 10*(11)/2\n",
    "    return int(total - sum(lst))\n",
    "print(missing_num([1, 2, 3, 4, 6, 7, 8, 9, 10]))\n",
    "print(missing_num([7, 2, 3, 6, 5, 9, 1, 4, 8]))\n",
    "print(missing_num([10, 5, 1, 2, 4, 6, 8, 3, 9]))\n",
    " "
   ]
  },
  {
   "cell_type": "code",
   "execution_count": null,
   "id": "dcdb8fc7",
   "metadata": {},
   "outputs": [],
   "source": []
  }
 ],
 "metadata": {
  "kernelspec": {
   "display_name": "Python 3",
   "language": "python",
   "name": "python3"
  },
  "language_info": {
   "codemirror_mode": {
    "name": "ipython",
    "version": 3
   },
   "file_extension": ".py",
   "mimetype": "text/x-python",
   "name": "python",
   "nbconvert_exporter": "python",
   "pygments_lexer": "ipython3",
   "version": "3.8.8"
  }
 },
 "nbformat": 4,
 "nbformat_minor": 5
}
