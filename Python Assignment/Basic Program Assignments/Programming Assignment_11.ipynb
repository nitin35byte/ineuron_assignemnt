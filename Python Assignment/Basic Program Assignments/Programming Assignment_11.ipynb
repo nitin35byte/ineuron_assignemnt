{
 "cells": [
  {
   "cell_type": "markdown",
   "id": "40f4e483",
   "metadata": {},
   "source": [
    "## Programming Assignment_11"
   ]
  },
  {
   "cell_type": "markdown",
   "id": "0cd56cbd",
   "metadata": {},
   "source": [
    "## 1. Write a Python program to find words which are greater than given length k?"
   ]
  },
  {
   "cell_type": "code",
   "execution_count": 4,
   "id": "09fb547c",
   "metadata": {},
   "outputs": [
    {
     "name": "stdout",
     "output_type": "stream",
     "text": [
      "learning\n",
      "sciene\n"
     ]
    }
   ],
   "source": [
    "def word_k(k,s):\n",
    "\n",
    "    word = s.split(\" \")\n",
    "\n",
    "    for i in word:\n",
    "        if len(i) > k:\n",
    "            print(i)\n",
    "        \n",
    "k = 5\n",
    "s = \" i am learning full stack data sciene\"\n",
    "word_k(k,s)"
   ]
  },
  {
   "cell_type": "markdown",
   "id": "13747f2f",
   "metadata": {},
   "source": [
    "## 2. Write a Python program for removing i-th character from a string?"
   ]
  },
  {
   "cell_type": "code",
   "execution_count": 5,
   "id": "ca01c01f",
   "metadata": {},
   "outputs": [],
   "source": [
    "def remove_char(string: str, i):\n",
    "\n",
    "    string = string.replace(string[i], '')\n",
    "    return string"
   ]
  },
  {
   "cell_type": "code",
   "execution_count": 8,
   "id": "1eba1d51",
   "metadata": {},
   "outputs": [
    {
     "data": {
      "text/plain": [
       "'nitinhaudhary'"
      ]
     },
     "execution_count": 8,
     "metadata": {},
     "output_type": "execute_result"
    }
   ],
   "source": [
    "remove_char('nitinchaudhary' , 5)"
   ]
  },
  {
   "cell_type": "markdown",
   "id": "d964a6b4",
   "metadata": {},
   "source": [
    "## 3. Write a Python program to split and join a string?"
   ]
  },
  {
   "cell_type": "code",
   "execution_count": 9,
   "id": "75b1554d",
   "metadata": {},
   "outputs": [
    {
     "name": "stdout",
     "output_type": "stream",
     "text": [
      "i am learning full stack data science from ineuron.ai\n",
      "['i', 'am', 'learning', 'full', 'stack', 'data', 'science', 'from', 'ineuron.ai']\n",
      "i am learning full stack data science from ineuron.ai\n"
     ]
    }
   ],
   "source": [
    "string= input()\n",
    "split = string.split(\" \")\n",
    "print(split)\n",
    "\n",
    "join = \" \".join(split)\n",
    "print(join)"
   ]
  },
  {
   "cell_type": "markdown",
   "id": "e744487f",
   "metadata": {},
   "source": [
    "## 4. Write a Python to check if a given string is binary string or not?"
   ]
  },
  {
   "cell_type": "code",
   "execution_count": 4,
   "id": "43a81732",
   "metadata": {},
   "outputs": [
    {
     "name": "stdout",
     "output_type": "stream",
     "text": [
      "niittt\n",
      "not in binary\n"
     ]
    }
   ],
   "source": [
    "strr = input()\n",
    "binary = ['0','1']\n",
    "\n",
    "is_binary = True\n",
    "for i in strr:\n",
    "    if i not in binary:\n",
    "        is_binary = False\n",
    "        \n",
    "if is_binary:\n",
    "    print(\"Binary\")\n",
    "    \n",
    "else:\n",
    "    print(\"not in binary\")"
   ]
  },
  {
   "cell_type": "code",
   "execution_count": 3,
   "id": "0df65a24",
   "metadata": {},
   "outputs": [
    {
     "name": "stdout",
     "output_type": "stream",
     "text": [
      "1010101010101\n",
      "Binary\n"
     ]
    }
   ],
   "source": [
    "strr = input()\n",
    "binary = ['0','1']\n",
    "\n",
    "is_binary = True\n",
    "for i in strr:\n",
    "    if i not in binary:\n",
    "        is_binary = False\n",
    "        \n",
    "if is_binary:\n",
    "    print(\"Binary\")\n",
    "    \n",
    "else:\n",
    "    print(\"not in binary\")"
   ]
  },
  {
   "cell_type": "markdown",
   "id": "30d254ea",
   "metadata": {},
   "source": [
    "## 5. Write a Python program to find uncommon words from two Strings?"
   ]
  },
  {
   "cell_type": "code",
   "execution_count": 16,
   "id": "49995bf2",
   "metadata": {},
   "outputs": [],
   "source": [
    "def uncommon_task(string1 ,string2):\n",
    "    string1 = input(\" \").split()\n",
    "    string2 = input(\" \").split()\n",
    "    uncommon = []\n",
    "\n",
    "    for i in set(string1):\n",
    "        if i not in string2:\n",
    "            uncommon.append(i)\n",
    "\n",
    "    for i in set(string2):\n",
    "        if i not in string1:\n",
    "            uncommon.append(i)\n",
    "\n",
    "    return uncommon"
   ]
  },
  {
   "cell_type": "code",
   "execution_count": 17,
   "id": "6fed9539",
   "metadata": {},
   "outputs": [],
   "source": [
    "string1 = \"\"\n",
    "string2 = \"\""
   ]
  },
  {
   "cell_type": "code",
   "execution_count": 18,
   "id": "d6b61044",
   "metadata": {},
   "outputs": [
    {
     "name": "stdout",
     "output_type": "stream",
     "text": [
      " Write a Python program to find uncommon words from two Strings\n",
      " Write a Python program to find uncommon words from two Strings with new data\n"
     ]
    },
    {
     "data": {
      "text/plain": [
       "['with', 'data', 'new']"
      ]
     },
     "execution_count": 18,
     "metadata": {},
     "output_type": "execute_result"
    }
   ],
   "source": [
    "uncommon_task(string1 ,string2)"
   ]
  },
  {
   "cell_type": "markdown",
   "id": "4c450a05",
   "metadata": {},
   "source": [
    "## 6. Write a Python to find all duplicate characters in string?"
   ]
  },
  {
   "cell_type": "code",
   "execution_count": 15,
   "id": "a4c57108",
   "metadata": {},
   "outputs": [],
   "source": [
    "def dupl(string: str):\n",
    "    duplicate = []\n",
    "    for i in string:\n",
    "        if string.count(i) > 1:\n",
    "            duplicate.append(i)\n",
    "            \n",
    "    return set(duplicate)"
   ]
  },
  {
   "cell_type": "code",
   "execution_count": 16,
   "id": "56edd1ef",
   "metadata": {},
   "outputs": [
    {
     "data": {
      "text/plain": [
       "{' ', 'a', 'c', 'd', 'e', 'i', 'n', 'r', 't'}"
      ]
     },
     "execution_count": 16,
     "metadata": {},
     "output_type": "execute_result"
    }
   ],
   "source": [
    "dupl(\"find duplicate charatter in sting\")"
   ]
  },
  {
   "cell_type": "markdown",
   "id": "13e526c4",
   "metadata": {},
   "source": [
    "## 7. Write a Python Program to check if a string contains any special character?"
   ]
  },
  {
   "cell_type": "code",
   "execution_count": 18,
   "id": "c01783a9",
   "metadata": {},
   "outputs": [
    {
     "name": "stdout",
     "output_type": "stream",
     "text": [
      "Enter a string: bsbabsab##2$$$\n",
      "Given string contains special characters\n"
     ]
    }
   ],
   "source": [
    "import re\n",
    "\n",
    "\n",
    "string = input(\"Enter a string: \")\n",
    "regex = re.compile('[@_!#$%^&*()<>?/\\|}{~:]')  \n",
    "\n",
    "if(regex.search(string) == None):\n",
    "    print(\"Given string does not contain special characters\")\n",
    "else:\n",
    "    print(\"Given string contains special characters\")\n"
   ]
  },
  {
   "cell_type": "code",
   "execution_count": 19,
   "id": "9a1a306b",
   "metadata": {},
   "outputs": [
    {
     "name": "stdout",
     "output_type": "stream",
     "text": [
      "Enter a string: ndnfndnfdn\n",
      "Given string does not contain special characters\n"
     ]
    }
   ],
   "source": [
    "import re\n",
    "\n",
    "\n",
    "string = input(\"Enter a string: \")\n",
    "regex = re.compile('[@_!#$%^&*()<>?/\\|}{~:]')  \n",
    "\n",
    "if(regex.search(string) == None):\n",
    "    print(\"Given string does not contain special characters\")\n",
    "else:\n",
    "    print(\"Given string contains special characters\")\n"
   ]
  },
  {
   "cell_type": "code",
   "execution_count": null,
   "id": "3c647595",
   "metadata": {},
   "outputs": [],
   "source": []
  }
 ],
 "metadata": {
  "kernelspec": {
   "display_name": "Python 3",
   "language": "python",
   "name": "python3"
  },
  "language_info": {
   "codemirror_mode": {
    "name": "ipython",
    "version": 3
   },
   "file_extension": ".py",
   "mimetype": "text/x-python",
   "name": "python",
   "nbconvert_exporter": "python",
   "pygments_lexer": "ipython3",
   "version": "3.8.8"
  }
 },
 "nbformat": 4,
 "nbformat_minor": 5
}
