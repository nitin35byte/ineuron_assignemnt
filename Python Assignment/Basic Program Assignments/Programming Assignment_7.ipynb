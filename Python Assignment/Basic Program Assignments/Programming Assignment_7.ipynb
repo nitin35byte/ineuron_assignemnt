{
 "cells": [
  {
   "cell_type": "markdown",
   "id": "37313a8a",
   "metadata": {},
   "source": [
    "## Programming Assignment_7"
   ]
  },
  {
   "cell_type": "markdown",
   "id": "2a8029b9",
   "metadata": {},
   "source": [
    "## 1. Write a Python Program to find sum of array?"
   ]
  },
  {
   "cell_type": "code",
   "execution_count": 5,
   "id": "baff9383",
   "metadata": {},
   "outputs": [
    {
     "name": "stdout",
     "output_type": "stream",
     "text": [
      "sum of array 27\n"
     ]
    }
   ],
   "source": [
    "# First method\n",
    "arr = []\n",
    "arr=[1,2,3,4,5,5,7]\n",
    "ans = sum(arr)\n",
    "print(\"sum of array\",ans)"
   ]
  },
  {
   "cell_type": "code",
   "execution_count": 14,
   "id": "0fe3da93",
   "metadata": {},
   "outputs": [
    {
     "name": "stdout",
     "output_type": "stream",
     "text": [
      "sum of the array si  51\n"
     ]
    }
   ],
   "source": [
    "# Second method\n",
    "def array(arr):\n",
    "    sum = 0\n",
    "\n",
    "    if i in arr:\n",
    "        sum = sum+i\n",
    "\n",
    "    retun(sum)\n",
    "\n",
    "\n",
    "arr = []\n",
    "\n",
    "arr=[1,2,3,4,5,6,6,7,8,9,0]\n",
    "length = len(arr)\n",
    "array= sum(arr)\n",
    "print(\"sum of the array si \",array)"
   ]
  },
  {
   "cell_type": "markdown",
   "id": "179d8bba",
   "metadata": {},
   "source": [
    "## 2. Write a Python Program to find largest element in an array?"
   ]
  },
  {
   "cell_type": "code",
   "execution_count": 30,
   "id": "2bde523f",
   "metadata": {
    "scrolled": true
   },
   "outputs": [
    {
     "name": "stdout",
     "output_type": "stream",
     "text": [
      "largest element of arra is 560\n"
     ]
    }
   ],
   "source": [
    "arr =[44,23,56,90,560]\n",
    "\n",
    "max = arr[0]\n",
    "for i in range(0,len(arr)):\n",
    "    if(arr[i] > max):\n",
    "        max = arr[i]\n",
    "        \n",
    "print(\"largest element of arra is\",max)"
   ]
  },
  {
   "cell_type": "markdown",
   "id": "5af13602",
   "metadata": {},
   "source": [
    "## 3. Write a Python Program for array rotation?"
   ]
  },
  {
   "cell_type": "markdown",
   "id": "f937d108",
   "metadata": {},
   "source": []
  },
  {
   "cell_type": "code",
   "execution_count": 39,
   "id": "fd16d2d6",
   "metadata": {},
   "outputs": [
    {
     "name": "stdout",
     "output_type": "stream",
     "text": [
      "Array after  rotation is:  [5, 6, 7, 1, 2, 3, 4]\n"
     ]
    }
   ],
   "source": [
    "def rotateArray(a,d):\n",
    "    temp = []\n",
    "    n = len(a)\n",
    "    for i in range(d, n):\n",
    "        temp.append(a[i])\n",
    "    i = 0\n",
    "    for i in range(0,d):\n",
    "        temp.append(a[i])\n",
    "    a = temp.copy()\n",
    "    return a\n",
    "\n",
    "arr = [1, 2, 3, 4, 5, 6, 7]\n",
    "print(\"Array after  rotation is: \", end=' ')\n",
    "print(rotateArray(arr, 4))"
   ]
  },
  {
   "cell_type": "markdown",
   "id": "90cec38a",
   "metadata": {},
   "source": [
    "## 4. Write a Python Program to Split the array and add the first part to the end?"
   ]
  },
  {
   "cell_type": "code",
   "execution_count": 40,
   "id": "04e2f1fd",
   "metadata": {},
   "outputs": [
    {
     "name": "stdout",
     "output_type": "stream",
     "text": [
      "5 6 52 36 12 10 "
     ]
    }
   ],
   "source": [
    "def splitArr(arr, n, k): \n",
    "    for i in range(0, k): \n",
    "        x = arr[0]\n",
    "        for j in range(0, n-1):\n",
    "            arr[j] = arr[j + 1]\n",
    "          \n",
    "        arr[n-1] = x\n",
    "\n",
    "arr = [12, 10, 5, 6, 52, 36]\n",
    "n = len(arr)\n",
    "position = 2\n",
    "  \n",
    "splitArr(arr, n, position)\n",
    "  \n",
    "for i in range(0, n): \n",
    "    print(arr[i], end = ' ')"
   ]
  },
  {
   "cell_type": "markdown",
   "id": "4ac3b47e",
   "metadata": {},
   "source": [
    "## 5. Write a Python Program to check if given array is Monotonic?"
   ]
  },
  {
   "cell_type": "code",
   "execution_count": 47,
   "id": "57722774",
   "metadata": {},
   "outputs": [
    {
     "name": "stdout",
     "output_type": "stream",
     "text": [
      "True\n",
      "False\n",
      "True\n",
      "True\n"
     ]
    }
   ],
   "source": [
    "def ismonotone(a):\n",
    "    n=len(a) \n",
    "    if n==1:\n",
    "        return True\n",
    "    else:\n",
    "       \n",
    "        if all(a[i]>=a[i+1] for i in range(0,n-1) or a[i]<=a[i+1] for i in range(0,n-1)):\n",
    "            return True\n",
    "        else:\n",
    "            return False\n",
    "\n",
    "A = [6, 5, 4, 2]\n",
    "print(ismonotone(A))\n",
    "b = [6, 2, 4, 2]\n",
    "print(ismonotone(b))\n",
    "c=[4,3,2]\n",
    "print(ismonotone(c))\n",
    "d=[1]\n",
    "print(ismonotone(d))"
   ]
  },
  {
   "cell_type": "code",
   "execution_count": null,
   "id": "f828e40f",
   "metadata": {},
   "outputs": [],
   "source": []
  }
 ],
 "metadata": {
  "kernelspec": {
   "display_name": "Python 3",
   "language": "python",
   "name": "python3"
  },
  "language_info": {
   "codemirror_mode": {
    "name": "ipython",
    "version": 3
   },
   "file_extension": ".py",
   "mimetype": "text/x-python",
   "name": "python",
   "nbconvert_exporter": "python",
   "pygments_lexer": "ipython3",
   "version": "3.8.8"
  }
 },
 "nbformat": 4,
 "nbformat_minor": 5
}
