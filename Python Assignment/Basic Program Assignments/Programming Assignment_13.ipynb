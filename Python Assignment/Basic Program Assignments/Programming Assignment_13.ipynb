{
 "cells": [
  {
   "cell_type": "markdown",
   "id": "58fdd8e9",
   "metadata": {},
   "source": [
    "## Programming Assignment_13"
   ]
  },
  {
   "cell_type": "markdown",
   "id": "bf82333d",
   "metadata": {},
   "source": [
    "## 1. Write a program that calculates and prints the value according to the given formula:"
   ]
  },
  {
   "cell_type": "code",
   "execution_count": 7,
   "id": "20fcc20c",
   "metadata": {},
   "outputs": [
    {
     "name": "stdout",
     "output_type": "stream",
     "text": [
      "Enter comma separated numbers input: 100,150,180\n",
      "[18]\n",
      "[18, 22]\n",
      "[18, 22, 24]\n"
     ]
    }
   ],
   "source": [
    "import math\n",
    "\n",
    "def cal_for(data):\n",
    "    c = 50\n",
    "    h = 30\n",
    "    data2 = []\n",
    "    for d in data:\n",
    "        data2.append(int(math.sqrt((2*c*int(d))/h)))\n",
    "        print(data2)\n",
    "aa = list(input(\"Enter comma separated numbers input: \").split(','))\n",
    "cal_for(aa)"
   ]
  },
  {
   "cell_type": "markdown",
   "id": "fe74bfab",
   "metadata": {},
   "source": [
    "## 2. Write a program which takes 2 digits, X,Y as input and generates a 2-dimensional array. The element value in the i-th row and j-th column of the array should be i*j."
   ]
  },
  {
   "cell_type": "code",
   "execution_count": 5,
   "id": "cdf3e30d",
   "metadata": {},
   "outputs": [
    {
     "name": "stdout",
     "output_type": "stream",
     "text": [
      "enter value of x3\n",
      "enter value of y5\n",
      "[[0, 0, 0, 0, 0], [0, 1, 2, 3, 4], [0, 2, 4, 6, 8]]\n"
     ]
    }
   ],
   "source": [
    "x = int(input(\"enter value of x\"))\n",
    "y = int(input(\"enter value of y\"))\n",
    "matrix = []\n",
    "\n",
    "for i in range(x):\n",
    "    row = []\n",
    "    for j in range(y):\n",
    "        row.append(i*j)\n",
    "    matrix.append(row)\n",
    "print(matrix)"
   ]
  },
  {
   "cell_type": "markdown",
   "id": "b9df97c6",
   "metadata": {},
   "source": [
    "## 3. Write a program that accepts a comma separated sequence of words as input and prints the words in a comma-separated sequence after sorting them alphabetically."
   ]
  },
  {
   "cell_type": "code",
   "execution_count": 1,
   "id": "82e032a2",
   "metadata": {},
   "outputs": [
    {
     "name": "stdout",
     "output_type": "stream",
     "text": [
      "enter wordsswithout,hello,bag,world\n",
      "bag,hello,without,world\n"
     ]
    }
   ],
   "source": [
    "word = list(input(\"enter wordss\").split(','))\n",
    "word.sort()\n",
    "print(','.join(word))"
   ]
  },
  {
   "cell_type": "markdown",
   "id": "866cda63",
   "metadata": {},
   "source": [
    "## 4. Write a program that accepts a sequence of whitespace separated words as input and prints the words after removing all duplicate words and sorting them alphanumerically."
   ]
  },
  {
   "cell_type": "code",
   "execution_count": 4,
   "id": "6f190535",
   "metadata": {},
   "outputs": [
    {
     "name": "stdout",
     "output_type": "stream",
     "text": [
      "enter wordss:hello world and practice makes perfect and hello world again\n",
      "again,and,hello,makes,perfect,practice,world\n"
     ]
    }
   ],
   "source": [
    "word = list(set(input(\"enter wordss:\").split(' ')))\n",
    "word.sort()\n",
    "print(','.join(word))"
   ]
  },
  {
   "cell_type": "markdown",
   "id": "7bdd1011",
   "metadata": {},
   "source": [
    "## Write a program that accepts a sentence and calculate the number of letters and digits."
   ]
  },
  {
   "cell_type": "code",
   "execution_count": 11,
   "id": "213ff392",
   "metadata": {},
   "outputs": [
    {
     "name": "stdout",
     "output_type": "stream",
     "text": [
      "letters: 10\n",
      "digit: 3\n"
     ]
    }
   ],
   "source": [
    "word = \"hello world! 123\"\n",
    "digit =0\n",
    "letters = 0\n",
    "\n",
    "for ch in word:\n",
    "    if ch.isdigit():\n",
    "        digit=digit+1\n",
    "    elif ch.isalpha():\n",
    "        letters= letters+1\n",
    "    else:\n",
    "        pass\n",
    "print(\"letters:\",letters)\n",
    "print(\"digit:\",digit)\n"
   ]
  },
  {
   "cell_type": "code",
   "execution_count": 12,
   "id": "0b97d45e",
   "metadata": {},
   "outputs": [
    {
     "name": "stdout",
     "output_type": "stream",
     "text": [
      "Type in: ABd1234@1,a F1#,2w3E*,2We3345\n",
      "ABd1234@1\n"
     ]
    }
   ],
   "source": [
    "import re\n",
    "\n",
    "passwords = input(\"Type in: \")\n",
    "passwords = passwords.split(\",\")\n",
    "\n",
    "accepted_pass = []\n",
    "for i in passwords:\n",
    "    \n",
    "    if len(i) < 6 or len(i) > 12:\n",
    "        continue\n",
    "\n",
    "    elif not re.search(\"([a-z])+\", i):\n",
    "        continue\n",
    "\n",
    "    elif not re.search(\"([A-Z])+\", i):\n",
    "        continue\n",
    "\n",
    "    elif not re.search(\"([0-9])+\", i):\n",
    "        continue\n",
    "\n",
    "    elif not re.search(\"([!@$%^&])+\", i):\n",
    "        continue\n",
    "\n",
    "    else:\n",
    "        accepted_pass.append(i)\n",
    "\n",
    "print((\" \").join(accepted_pass))"
   ]
  },
  {
   "cell_type": "code",
   "execution_count": null,
   "id": "ba69c475",
   "metadata": {},
   "outputs": [],
   "source": []
  }
 ],
 "metadata": {
  "kernelspec": {
   "display_name": "Python 3",
   "language": "python",
   "name": "python3"
  },
  "language_info": {
   "codemirror_mode": {
    "name": "ipython",
    "version": 3
   },
   "file_extension": ".py",
   "mimetype": "text/x-python",
   "name": "python",
   "nbconvert_exporter": "python",
   "pygments_lexer": "ipython3",
   "version": "3.8.8"
  }
 },
 "nbformat": 4,
 "nbformat_minor": 5
}
