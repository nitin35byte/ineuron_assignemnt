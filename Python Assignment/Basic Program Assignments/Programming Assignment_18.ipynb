{
 "cells": [
  {
   "cell_type": "markdown",
   "id": "6be25eb3",
   "metadata": {},
   "source": [
    "## Basic Programming Assignment_18"
   ]
  },
  {
   "cell_type": "markdown",
   "id": "e921d1f9",
   "metadata": {},
   "source": [
    "## 1. Create a function that takes a list of non-negative integers and strings and return a new list without the strings."
   ]
  },
  {
   "cell_type": "code",
   "execution_count": 3,
   "id": "d3d73fa5",
   "metadata": {},
   "outputs": [
    {
     "name": "stdout",
     "output_type": "stream",
     "text": [
      "[1, 2]\n",
      "[1, 0, 15]\n",
      "[1, 2, 123]\n"
     ]
    }
   ],
   "source": [
    "def list(lst):\n",
    "    new_lis=[]\n",
    "    for i in lst:\n",
    "        if type(i) == int:\n",
    "            new_lis.append(i) \n",
    "    return new_lis\n",
    "\n",
    "print(list([1, 2, 'a', 'b']))\n",
    "print(list([1, 'a', 'b', 0, 15]))\n",
    "print(list([1, 2, 'aasf', '1', '123', 123]))"
   ]
  },
  {
   "cell_type": "markdown",
   "id": "705f2204",
   "metadata": {},
   "source": [
    "### 2. The \"Reverser\" takes a string as input and returns that string in reverse order, with the opposite case"
   ]
  },
  {
   "cell_type": "code",
   "execution_count": 4,
   "id": "ac95ec03",
   "metadata": {},
   "outputs": [
    {
     "name": "stdout",
     "output_type": "stream",
     "text": [
      "DLROw OLLEh\n",
      "eSrEvEr\n",
      "RADAr\n"
     ]
    }
   ],
   "source": [
    "def Reverser(string):\n",
    "    return string[::-1].swapcase()\n",
    "print(Reverser('Hello World'))\n",
    "print(Reverser('ReVeRsE'))\n",
    "print(Reverser('Radar'))"
   ]
  },
  {
   "cell_type": "markdown",
   "id": "d05f97b5",
   "metadata": {},
   "source": [
    "## 3. You can assign variables from lists like this:"
   ]
  },
  {
   "cell_type": "code",
   "execution_count": 5,
   "id": "056de9f1",
   "metadata": {},
   "outputs": [
    {
     "name": "stdout",
     "output_type": "stream",
     "text": [
      "1\n",
      "[2, 3, 4, 5]\n",
      "6\n"
     ]
    }
   ],
   "source": [
    "lst = [1, 2, 3, 4, 5, 6]\n",
    "first = lst[0]\n",
    "middle = lst[1:-1]\n",
    "last = lst[-1]\n",
    "\n",
    "print(first)\n",
    "print(middle)\n",
    "print(last)"
   ]
  },
  {
   "cell_type": "markdown",
   "id": "4c457423",
   "metadata": {},
   "source": [
    "## 4. Write a function that calculates the factorial of a number recursively."
   ]
  },
  {
   "cell_type": "code",
   "execution_count": 8,
   "id": "d9ed5ebd",
   "metadata": {},
   "outputs": [
    {
     "name": "stdout",
     "output_type": "stream",
     "text": [
      "120\n",
      "6\n",
      "1\n",
      "1\n"
     ]
    }
   ],
   "source": [
    "def factorial(num):\n",
    "    if num <=1:\n",
    "        return 1\n",
    "    else:\n",
    "        return num* factorial(num-1)\n",
    "print(factorial(5))\n",
    "print(factorial(3))\n",
    "print(factorial(1))\n",
    "print(factorial(0))"
   ]
  },
  {
   "cell_type": "markdown",
   "id": "ea156aee",
   "metadata": {},
   "source": [
    "## 5. Write a function that moves all elements of one type to the end of the list."
   ]
  },
  {
   "cell_type": "code",
   "execution_count": null,
   "id": "f36b9e1b",
   "metadata": {},
   "outputs": [],
   "source": [
    "def move(lst:list,element):\n",
    "    new_list=[]\n",
    "    for i in lst:\n",
    "        if i == element:\n",
    "            new_list.insert(0,i)\n",
    "        else:\n",
    "            new_list.append(i)\n",
    "            \n",
    "    for i in range (len(new_list)):\n",
    "        temp = new_list[i]\n",
    "        if temp == element\n",
    "        new_list."
   ]
  }
 ],
 "metadata": {
  "kernelspec": {
   "display_name": "Python 3",
   "language": "python",
   "name": "python3"
  },
  "language_info": {
   "codemirror_mode": {
    "name": "ipython",
    "version": 3
   },
   "file_extension": ".py",
   "mimetype": "text/x-python",
   "name": "python",
   "nbconvert_exporter": "python",
   "pygments_lexer": "ipython3",
   "version": "3.8.8"
  }
 },
 "nbformat": 4,
 "nbformat_minor": 5
}
