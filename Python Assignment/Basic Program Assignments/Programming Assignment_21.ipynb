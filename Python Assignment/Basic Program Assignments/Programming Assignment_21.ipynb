{
 "cells": [
  {
   "cell_type": "markdown",
   "id": "782328bd",
   "metadata": {},
   "source": [
    "## Basic Python Programming Assignment_21"
   ]
  },
  {
   "cell_type": "markdown",
   "id": "9d1ceac1",
   "metadata": {},
   "source": [
    "## 1. Write a function that takes a list and a number as arguments. Add the number to the end of the list, then remove the first element of the list. The function should then return the updated list."
   ]
  },
  {
   "cell_type": "code",
   "execution_count": 7,
   "id": "54eaf894",
   "metadata": {},
   "outputs": [],
   "source": [
    "def updated_list(lst,num):\n",
    "    if len(lst) > 0:\n",
    "        lst.append(num)\n",
    "        return lst[1:]\n",
    "    else:\n",
    "        return \"not list have beens eected\""
   ]
  },
  {
   "cell_type": "code",
   "execution_count": 9,
   "id": "105c5b28",
   "metadata": {},
   "outputs": [
    {
     "name": "stdout",
     "output_type": "stream",
     "text": [
      "[6, 7, 8, 9, 1]\n",
      "[6, 3, 23, 17, 10]\n",
      "[10, 20, 42, 6]\n",
      "not list have beens eected\n"
     ]
    }
   ],
   "source": [
    "print(updated_list([5, 6, 7, 8, 9], 1))\n",
    "print(updated_list([7, 6, 3, 23, 17], 10))\n",
    "print(updated_list([1, 10, 20, 42 ], 6))\n",
    "print(updated_list([], 6))\n"
   ]
  },
  {
   "cell_type": "markdown",
   "id": "78537168",
   "metadata": {},
   "source": [
    "## 2. Create the function that takes a list of dictionaries and returns the sum of people's budgets."
   ]
  },
  {
   "cell_type": "code",
   "execution_count": 14,
   "id": "268eed6d",
   "metadata": {},
   "outputs": [],
   "source": [
    "def budgets(lst: list):\n",
    "    total = 0\n",
    "    for i in lst:\n",
    "        total += i['budget']\n",
    "    return total\n"
   ]
  },
  {
   "cell_type": "code",
   "execution_count": 15,
   "id": "b89f6df5",
   "metadata": {},
   "outputs": [
    {
     "data": {
      "text/plain": [
       "65700"
      ]
     },
     "execution_count": 15,
     "metadata": {},
     "output_type": "execute_result"
    }
   ],
   "source": [
    "budgets([\n",
    "  { \"name\": \"John\", \"age\": 21, \"budget\": 23000 },\n",
    "  { \"name\": \"Steve\",  \"age\": 32, \"budget\": 40000 },\n",
    "  { \"name\": \"Martin\",  \"age\": 16, \"budget\": 2700 }\n",
    "])\n"
   ]
  },
  {
   "cell_type": "code",
   "execution_count": 17,
   "id": "7cd034ce",
   "metadata": {},
   "outputs": [
    {
     "data": {
      "text/plain": [
       "62600"
      ]
     },
     "execution_count": 17,
     "metadata": {},
     "output_type": "execute_result"
    }
   ],
   "source": [
    "budgets([\n",
    "  { \"name\": \"John\",  \"age\": 21, \"budget\": 29000 },\n",
    "  { \"name\": \"Steve\",  \"age\": 32, \"budget\": 32000 },\n",
    "  { \"name\": \"Martin\",  \"age\": 16, \"budget\": 1600 }\n",
    "])"
   ]
  },
  {
   "cell_type": "markdown",
   "id": "fa580c7f",
   "metadata": {},
   "source": [
    "## 3. Create a function that takes a string and returns a string with its letters in alphabetical order."
   ]
  },
  {
   "cell_type": "code",
   "execution_count": 20,
   "id": "ac145475",
   "metadata": {},
   "outputs": [
    {
     "name": "stdout",
     "output_type": "stream",
     "text": [
      "hello\n",
      "edabit\n",
      "hacker\n",
      "geek\n",
      "javascript\n"
     ]
    }
   ],
   "source": [
    "def alphabetical(string:str):\n",
    "    strng = sorted(string)\n",
    "    return \"\".join(string)\n",
    "\n",
    "print(alphabetical('hello'))\n",
    "print(alphabetical('edabit'))\n",
    "print(alphabetical('hacker'))\n",
    "print(alphabetical('geek'))\n",
    "print(alphabetical('javascript'))\n"
   ]
  },
  {
   "cell_type": "markdown",
   "id": "fe4c3854",
   "metadata": {},
   "source": [
    "## 4. Suppose that you invest $10,000 for 10 years at an interest rate of 6% compounded monthly. What will be the value of your investment at the end of the 10 year period?"
   ]
  },
  {
   "cell_type": "code",
   "execution_count": 22,
   "id": "e102f165",
   "metadata": {},
   "outputs": [
    {
     "name": "stdout",
     "output_type": "stream",
     "text": [
      "105.0\n",
      "15399.26\n",
      "2007316.26\n"
     ]
    }
   ],
   "source": [
    "def compound_interest(amt, years, intrest, compPeriod):\n",
    "    future_value = amt *(1 + (intrest/compPeriod)) ** (years * compPeriod)\n",
    "    return round(future_value,2)\n",
    "\n",
    "print(compound_interest(100, 1, 0.05, 1))\n",
    "print(compound_interest(3500, 15, 0.1, 4))\n",
    "print(compound_interest(100000, 20, 0.15, 365))"
   ]
  },
  {
   "cell_type": "markdown",
   "id": "4de9cc94",
   "metadata": {},
   "source": [
    "## 5. Write a function that takes a list of elements and returns only the integers."
   ]
  },
  {
   "cell_type": "code",
   "execution_count": 26,
   "id": "73b06d5d",
   "metadata": {},
   "outputs": [
    {
     "name": "stdout",
     "output_type": "stream",
     "text": [
      "[9, 2, 16]\n",
      "[81, 123]\n",
      "[10, 56, 20, 3]\n",
      "[1]\n"
     ]
    }
   ],
   "source": [
    "def integers(lst:list):\n",
    "    return[i for i in lst if type(i) == int]\n",
    "\n",
    "\n",
    "print(integers([9, 2, 'space', 'car', 'lion', 16]))\n",
    "print(integers(['hello', 81, 'basketball', 123, 'fox']))\n",
    "print(integers([10, '121', 56, 20, 'car', 3, 'lion']))\n",
    "print(integers(['String', True, 3.3, 1]))"
   ]
  },
  {
   "cell_type": "code",
   "execution_count": null,
   "id": "eb404f61",
   "metadata": {},
   "outputs": [],
   "source": []
  }
 ],
 "metadata": {
  "kernelspec": {
   "display_name": "Python 3",
   "language": "python",
   "name": "python3"
  },
  "language_info": {
   "codemirror_mode": {
    "name": "ipython",
    "version": 3
   },
   "file_extension": ".py",
   "mimetype": "text/x-python",
   "name": "python",
   "nbconvert_exporter": "python",
   "pygments_lexer": "ipython3",
   "version": "3.8.8"
  }
 },
 "nbformat": 4,
 "nbformat_minor": 5
}
