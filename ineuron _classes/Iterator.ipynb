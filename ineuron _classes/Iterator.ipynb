{
 "cells": [
  {
   "cell_type": "code",
   "execution_count": 3,
   "id": "7d81a55d",
   "metadata": {},
   "outputs": [
    {
     "name": "stdout",
     "output_type": "stream",
     "text": [
      "s\n",
      "u\n",
      "d\n",
      "h\n"
     ]
    }
   ],
   "source": [
    "s = \"sudh\"\n",
    "for i in s:\n",
    "    print(i)"
   ]
  },
  {
   "cell_type": "code",
   "execution_count": 14,
   "id": "5dc1d99e",
   "metadata": {},
   "outputs": [],
   "source": [
    "def funcation(n):\n",
    "    for i in range(0 ,n):\n",
    "        for j in range (0, i+1):\n",
    "            print(\"*\" , end = \"\")\n",
    "        print(\"\\n\")"
   ]
  },
  {
   "cell_type": "code",
   "execution_count": 15,
   "id": "fee3fc29",
   "metadata": {
    "collapsed": true
   },
   "outputs": [
    {
     "name": "stdout",
     "output_type": "stream",
     "text": [
      "*\n",
      "\n",
      "**\n",
      "\n",
      "***\n",
      "\n",
      "****\n",
      "\n",
      "*****\n",
      "\n",
      "******\n",
      "\n",
      "*******\n",
      "\n"
     ]
    }
   ],
   "source": [
    "funcation(7)"
   ]
  },
  {
   "cell_type": "code",
   "execution_count": 19,
   "id": "3b631d82",
   "metadata": {},
   "outputs": [
    {
     "name": "stdout",
     "output_type": "stream",
     "text": [
      "[3, 54, 6, 7, 9]\n"
     ]
    }
   ],
   "source": [
    "l = [3,54,6,7,9]\n",
    "print(l)"
   ]
  },
  {
   "cell_type": "code",
   "execution_count": 18,
   "id": "59b6ed3e",
   "metadata": {},
   "outputs": [
    {
     "data": {
      "text/plain": [
       "[3, 54, 6, 7, 9]"
      ]
     },
     "execution_count": 18,
     "metadata": {},
     "output_type": "execute_result"
    }
   ],
   "source": [
    "l"
   ]
  },
  {
   "cell_type": "code",
   "execution_count": 27,
   "id": "e45ba038",
   "metadata": {
    "scrolled": true
   },
   "outputs": [],
   "source": [
    "l = iter(l)"
   ]
  },
  {
   "cell_type": "code",
   "execution_count": 29,
   "id": "03766fa6",
   "metadata": {},
   "outputs": [
    {
     "data": {
      "text/plain": [
       "3"
      ]
     },
     "execution_count": 29,
     "metadata": {},
     "output_type": "execute_result"
    }
   ],
   "source": [
    "next(l)"
   ]
  },
  {
   "cell_type": "code",
   "execution_count": 32,
   "id": "dcac9b47",
   "metadata": {},
   "outputs": [
    {
     "data": {
      "text/plain": [
       "7"
      ]
     },
     "execution_count": 32,
     "metadata": {},
     "output_type": "execute_result"
    }
   ],
   "source": [
    "next(l)"
   ]
  },
  {
   "cell_type": "code",
   "execution_count": 33,
   "id": "fc2b338d",
   "metadata": {},
   "outputs": [
    {
     "data": {
      "text/plain": [
       "9"
      ]
     },
     "execution_count": 33,
     "metadata": {},
     "output_type": "execute_result"
    }
   ],
   "source": [
    "next(l)"
   ]
  },
  {
   "cell_type": "code",
   "execution_count": 34,
   "id": "01b6ec09",
   "metadata": {},
   "outputs": [
    {
     "ename": "StopIteration",
     "evalue": "",
     "output_type": "error",
     "traceback": [
      "\u001b[1;31m---------------------------------------------------------------------------\u001b[0m",
      "\u001b[1;31mStopIteration\u001b[0m                             Traceback (most recent call last)",
      "\u001b[1;32m<ipython-input-34-cdc8a39da60d>\u001b[0m in \u001b[0;36m<module>\u001b[1;34m\u001b[0m\n\u001b[1;32m----> 1\u001b[1;33m \u001b[0mnext\u001b[0m\u001b[1;33m(\u001b[0m\u001b[0ml\u001b[0m\u001b[1;33m)\u001b[0m\u001b[1;33m\u001b[0m\u001b[1;33m\u001b[0m\u001b[0m\n\u001b[0m",
      "\u001b[1;31mStopIteration\u001b[0m: "
     ]
    }
   ],
   "source": [
    "next(l)"
   ]
  },
  {
   "cell_type": "code",
   "execution_count": 36,
   "id": "cb99ce5d",
   "metadata": {},
   "outputs": [],
   "source": [
    "a = 67"
   ]
  },
  {
   "cell_type": "code",
   "execution_count": 37,
   "id": "fc643948",
   "metadata": {
    "scrolled": true
   },
   "outputs": [
    {
     "ename": "TypeError",
     "evalue": "'int' object is not an iterator",
     "output_type": "error",
     "traceback": [
      "\u001b[1;31m---------------------------------------------------------------------------\u001b[0m",
      "\u001b[1;31mTypeError\u001b[0m                                 Traceback (most recent call last)",
      "\u001b[1;32m<ipython-input-37-15841f3f11d4>\u001b[0m in \u001b[0;36m<module>\u001b[1;34m\u001b[0m\n\u001b[1;32m----> 1\u001b[1;33m \u001b[0mnext\u001b[0m\u001b[1;33m(\u001b[0m\u001b[0ma\u001b[0m\u001b[1;33m)\u001b[0m\u001b[1;33m\u001b[0m\u001b[1;33m\u001b[0m\u001b[0m\n\u001b[0m",
      "\u001b[1;31mTypeError\u001b[0m: 'int' object is not an iterator"
     ]
    }
   ],
   "source": [
    "next(a)"
   ]
  },
  {
   "cell_type": "code",
   "execution_count": 38,
   "id": "08fc747d",
   "metadata": {},
   "outputs": [
    {
     "ename": "TypeError",
     "evalue": "'int' object is not iterable",
     "output_type": "error",
     "traceback": [
      "\u001b[1;31m---------------------------------------------------------------------------\u001b[0m",
      "\u001b[1;31mTypeError\u001b[0m                                 Traceback (most recent call last)",
      "\u001b[1;32m<ipython-input-38-5249e3c76fef>\u001b[0m in \u001b[0;36m<module>\u001b[1;34m\u001b[0m\n\u001b[1;32m----> 1\u001b[1;33m \u001b[0ma\u001b[0m\u001b[1;33m=\u001b[0m \u001b[0miter\u001b[0m\u001b[1;33m(\u001b[0m\u001b[0ma\u001b[0m\u001b[1;33m)\u001b[0m\u001b[1;33m\u001b[0m\u001b[1;33m\u001b[0m\u001b[0m\n\u001b[0m",
      "\u001b[1;31mTypeError\u001b[0m: 'int' object is not iterable"
     ]
    }
   ],
   "source": [
    "a= iter(a)"
   ]
  },
  {
   "cell_type": "code",
   "execution_count": 41,
   "id": "c249ca63",
   "metadata": {},
   "outputs": [],
   "source": [
    " r = range(6)"
   ]
  },
  {
   "cell_type": "code",
   "execution_count": 42,
   "id": "4e288988",
   "metadata": {},
   "outputs": [],
   "source": [
    "r = iter(r)"
   ]
  },
  {
   "cell_type": "code",
   "execution_count": 57,
   "id": "b55591e1",
   "metadata": {},
   "outputs": [
    {
     "ename": "StopIteration",
     "evalue": "",
     "output_type": "error",
     "traceback": [
      "\u001b[1;31m---------------------------------------------------------------------------\u001b[0m",
      "\u001b[1;31mStopIteration\u001b[0m                             Traceback (most recent call last)",
      "\u001b[1;32m<ipython-input-57-8ebe59a56b1d>\u001b[0m in \u001b[0;36m<module>\u001b[1;34m\u001b[0m\n\u001b[1;32m----> 1\u001b[1;33m \u001b[0mnext\u001b[0m\u001b[1;33m(\u001b[0m\u001b[0mr\u001b[0m\u001b[1;33m)\u001b[0m\u001b[1;33m\u001b[0m\u001b[1;33m\u001b[0m\u001b[0m\n\u001b[0m",
      "\u001b[1;31mStopIteration\u001b[0m: "
     ]
    }
   ],
   "source": [
    "next(r)"
   ]
  },
  {
   "cell_type": "code",
   "execution_count": null,
   "id": "1a49b3b4",
   "metadata": {},
   "outputs": [],
   "source": [
    "## Generator"
   ]
  },
  {
   "cell_type": "code",
   "execution_count": 59,
   "id": "e649769e",
   "metadata": {},
   "outputs": [
    {
     "data": {
      "text/plain": [
       "[0, 5, 10, 15, 20, 25, 30, 35, 40, 45]"
      ]
     },
     "execution_count": 59,
     "metadata": {},
     "output_type": "execute_result"
    }
   ],
   "source": [
    "list(range(0 , 50  ,5))"
   ]
  },
  {
   "cell_type": "code",
   "execution_count": 77,
   "id": "12044f5b",
   "metadata": {},
   "outputs": [],
   "source": [
    "def gencube(n):\n",
    "    l = []\n",
    "    for i in range(n):\n",
    "        l.append(i**3)\n",
    "    return l"
   ]
  },
  {
   "cell_type": "code",
   "execution_count": 75,
   "id": "d04ddfed",
   "metadata": {},
   "outputs": [
    {
     "ename": "SyntaxError",
     "evalue": "unexpected EOF while parsing (<ipython-input-75-0c4be000ac99>, line 1)",
     "output_type": "error",
     "traceback": [
      "\u001b[1;36m  File \u001b[1;32m\"<ipython-input-75-0c4be000ac99>\"\u001b[1;36m, line \u001b[1;32m1\u001b[0m\n\u001b[1;33m    list((gencube(7))\u001b[0m\n\u001b[1;37m                     ^\u001b[0m\n\u001b[1;31mSyntaxError\u001b[0m\u001b[1;31m:\u001b[0m unexpected EOF while parsing\n"
     ]
    }
   ],
   "source": [
    "list((gencube(7))"
   ]
  },
  {
   "cell_type": "code",
   "execution_count": 85,
   "id": "5e73bcac",
   "metadata": {},
   "outputs": [],
   "source": [
    "def gencube(n):\n",
    "    l = []\n",
    "    for i in range(n):\n",
    "        l.append(i**3)\n",
    "    return l"
   ]
  },
  {
   "cell_type": "code",
   "execution_count": 89,
   "id": "0dd8f921",
   "metadata": {},
   "outputs": [],
   "source": [
    "def fib(n):\n",
    "    a = 1\n",
    "    b = 1\n",
    "    for i in range(n):\n",
    "        yield a ,i\n",
    "        a ,b = b, a+b"
   ]
  },
  {
   "cell_type": "code",
   "execution_count": 90,
   "id": "8f7d51f1",
   "metadata": {},
   "outputs": [
    {
     "name": "stdout",
     "output_type": "stream",
     "text": [
      "(1, 0)\n",
      "(1, 1)\n",
      "(2, 2)\n",
      "(3, 3)\n",
      "(5, 4)\n",
      "(8, 5)\n",
      "(13, 6)\n",
      "(21, 7)\n",
      "(34, 8)\n",
      "(55, 9)\n"
     ]
    }
   ],
   "source": [
    "for i in fib(10):\n",
    "    print(i)"
   ]
  },
  {
   "cell_type": "code",
   "execution_count": 97,
   "id": "b88c2fea",
   "metadata": {},
   "outputs": [],
   "source": [
    "def fib(n):\n",
    "    a = 0\n",
    "    b = 1\n",
    "    for i in range(n):\n",
    "        yield a ,i\n",
    "        a ,b = b, a+b"
   ]
  },
  {
   "cell_type": "code",
   "execution_count": 98,
   "id": "b6f39f26",
   "metadata": {},
   "outputs": [
    {
     "name": "stdout",
     "output_type": "stream",
     "text": [
      "(0, 0)\n",
      "(1, 1)\n",
      "(1, 2)\n",
      "(2, 3)\n",
      "(3, 4)\n",
      "(5, 5)\n",
      "(8, 6)\n",
      "(13, 7)\n",
      "(21, 8)\n",
      "(34, 9)\n"
     ]
    }
   ],
   "source": [
    "for i in fib(10):\n",
    "    print(i)"
   ]
  },
  {
   "cell_type": "code",
   "execution_count": 101,
   "id": "dcea932c",
   "metadata": {},
   "outputs": [],
   "source": [
    "def fin(n):\n",
    "    a = 1\n",
    "    b = 1\n",
    "    output =[]\n",
    "    for i in range(n):\n",
    "        output.append(a)\n",
    "        a ,b =  b ,a+b\n",
    "    return output"
   ]
  },
  {
   "cell_type": "code",
   "execution_count": 102,
   "id": "bcffdf00",
   "metadata": {},
   "outputs": [
    {
     "data": {
      "text/plain": [
       "[1, 1, 2, 3, 5, 8, 13, 21, 34, 55]"
      ]
     },
     "execution_count": 102,
     "metadata": {},
     "output_type": "execute_result"
    }
   ],
   "source": [
    "fin(10)"
   ]
  },
  {
   "cell_type": "code",
   "execution_count": 125,
   "id": "34e6a6d4",
   "metadata": {
    "scrolled": true
   },
   "outputs": [
    {
     "data": {
      "text/plain": [
       "'C:\\\\Users\\\\lenovo\\\\Desktop\\\\FSDS_Data\\\\ineuron _classes'"
      ]
     },
     "execution_count": 125,
     "metadata": {},
     "output_type": "execute_result"
    }
   ],
   "source": [
    "pwd()"
   ]
  },
  {
   "cell_type": "code",
   "execution_count": 117,
   "id": "c77b9e0c",
   "metadata": {
    "scrolled": true
   },
   "outputs": [
    {
     "name": "stdout",
     "output_type": "stream",
     "text": [
      " Volume in drive C has no label.\n",
      " Volume Serial Number is 9496-2F8E\n",
      "\n",
      " Directory of C:\\Users\\lenovo\\Desktop\\FSDS_Data\\ineuron _classes\n",
      "\n",
      "02/11/2022  12:06 AM    <DIR>          .\n",
      "02/11/2022  12:06 AM    <DIR>          ..\n",
      "02/10/2022  10:21 PM    <DIR>          .ipynb_checkpoints\n",
      "02/06/2022  01:06 PM             6,528 DB connection.ipynb\n",
      "01/29/2022  11:19 PM            24,433 iNeuron Live classes.ipynb\n",
      "02/11/2022  12:04 AM            14,414 Iterator.ipynb\n",
      "02/09/2022  12:36 AM           319,814 loop, conditions ,Function() ,List comprehension, iterator, lambda ,.ipynb\n",
      "01/31/2022  03:30 PM            18,247 OOPS Concept.ipynb\n",
      "02/05/2022  11:13 PM            19,652 pactice.ipynb\n",
      "01/30/2022  12:04 AM            23,950 string list indexing.ipynb\n",
      "02/11/2022  12:05 AM                 0 test\n",
      "02/11/2022  12:06 AM                 0 test1.txt\n",
      "01/30/2022  01:09 AM            18,696 Tuple set dec.ipynb\n",
      "02/01/2022  10:54 PM               576 Untitled.ipynb\n",
      "              11 File(s)        446,310 bytes\n",
      "               3 Dir(s)  90,318,807,040 bytes free\n"
     ]
    }
   ],
   "source": [
    "%ls"
   ]
  },
  {
   "cell_type": "code",
   "execution_count": 116,
   "id": "2b0d010b",
   "metadata": {},
   "outputs": [],
   "source": [
    "f = open(\"test1.txt\" ,\"w\")"
   ]
  },
  {
   "cell_type": "code",
   "execution_count": 123,
   "id": "15b803f0",
   "metadata": {},
   "outputs": [],
   "source": [
    "f = open(\"test1.txt\" ,\"w\")"
   ]
  },
  {
   "cell_type": "code",
   "execution_count": 124,
   "id": "f16e9066",
   "metadata": {},
   "outputs": [
    {
     "data": {
      "text/plain": [
       "40"
      ]
     },
     "execution_count": 124,
     "metadata": {},
     "output_type": "execute_result"
    }
   ],
   "source": [
    "f.write(\"fgdhdsdjsd kssjasasd nansansaN SNAMNANAS\")"
   ]
  },
  {
   "cell_type": "code",
   "execution_count": 127,
   "id": "1fe7b37e",
   "metadata": {},
   "outputs": [],
   "source": [
    "f.close()"
   ]
  },
  {
   "cell_type": "code",
   "execution_count": 128,
   "id": "8410dfc2",
   "metadata": {},
   "outputs": [
    {
     "name": "stdout",
     "output_type": "stream",
     "text": [
      "Writing test2.txt\n"
     ]
    }
   ],
   "source": [
    "%%writefile test2.txt\n",
    "ufhjdsdbdnsm,sassvdbnm,"
   ]
  },
  {
   "cell_type": "code",
   "execution_count": 129,
   "id": "67865116",
   "metadata": {},
   "outputs": [
    {
     "name": "stdout",
     "output_type": "stream",
     "text": [
      " Volume in drive C has no label.\n",
      " Volume Serial Number is 9496-2F8E\n",
      "\n",
      " Directory of C:\\Users\\lenovo\\Desktop\\FSDS_Data\\ineuron _classes\n",
      "\n",
      "02/11/2022  12:11 AM    <DIR>          .\n",
      "02/11/2022  12:11 AM    <DIR>          ..\n",
      "02/10/2022  10:21 PM    <DIR>          .ipynb_checkpoints\n",
      "02/06/2022  01:06 PM             6,528 DB connection.ipynb\n",
      "01/29/2022  11:19 PM            24,433 iNeuron Live classes.ipynb\n",
      "02/11/2022  12:10 AM            14,873 Iterator.ipynb\n",
      "02/09/2022  12:36 AM           319,814 loop, conditions ,Function() ,List comprehension, iterator, lambda ,.ipynb\n",
      "01/31/2022  03:30 PM            18,247 OOPS Concept.ipynb\n",
      "02/05/2022  11:13 PM            19,652 pactice.ipynb\n",
      "01/30/2022  12:04 AM            23,950 string list indexing.ipynb\n",
      "02/11/2022  12:08 AM                40 test1.txt\n",
      "02/11/2022  12:11 AM                25 test2.txt\n",
      "01/30/2022  01:09 AM            18,696 Tuple set dec.ipynb\n",
      "02/01/2022  10:54 PM               576 Untitled.ipynb\n",
      "              11 File(s)        446,834 bytes\n",
      "               3 Dir(s)  90,320,084,992 bytes free\n"
     ]
    }
   ],
   "source": [
    "%ls"
   ]
  },
  {
   "cell_type": "code",
   "execution_count": 131,
   "id": "8c8026a3",
   "metadata": {},
   "outputs": [],
   "source": [
    "f = open(\"test1.txt\")"
   ]
  },
  {
   "cell_type": "code",
   "execution_count": 132,
   "id": "b0ca76c7",
   "metadata": {},
   "outputs": [
    {
     "data": {
      "text/plain": [
       "'fgdhdsdjsd kssjasasd nansansaN SNAMNANAS'"
      ]
     },
     "execution_count": 132,
     "metadata": {},
     "output_type": "execute_result"
    }
   ],
   "source": [
    "f.read()"
   ]
  },
  {
   "cell_type": "code",
   "execution_count": 134,
   "id": "1f1298e4",
   "metadata": {},
   "outputs": [
    {
     "ename": "UnsupportedOperation",
     "evalue": "not writable",
     "output_type": "error",
     "traceback": [
      "\u001b[1;31m---------------------------------------------------------------------------\u001b[0m",
      "\u001b[1;31mUnsupportedOperation\u001b[0m                      Traceback (most recent call last)",
      "\u001b[1;32m<ipython-input-134-17ac2f08d013>\u001b[0m in \u001b[0;36m<module>\u001b[1;34m\u001b[0m\n\u001b[1;32m----> 1\u001b[1;33m \u001b[0mf\u001b[0m\u001b[1;33m.\u001b[0m\u001b[0mwrite\u001b[0m\u001b[1;33m(\u001b[0m\u001b[1;34m\"efdygsbhjddsgvfaAML,ECDVSBN\"\u001b[0m\u001b[1;33m)\u001b[0m\u001b[1;33m\u001b[0m\u001b[1;33m\u001b[0m\u001b[0m\n\u001b[0m",
      "\u001b[1;31mUnsupportedOperation\u001b[0m: not writable"
     ]
    }
   ],
   "source": [
    "f.write(\"efdygsbhjddsgvfaAML,ECDVSBN\")"
   ]
  },
  {
   "cell_type": "code",
   "execution_count": 139,
   "id": "282e687b",
   "metadata": {},
   "outputs": [],
   "source": [
    "f=  open(\"test2.txt\" , \"w\")"
   ]
  },
  {
   "cell_type": "code",
   "execution_count": 140,
   "id": "1f2417aa",
   "metadata": {
    "scrolled": true
   },
   "outputs": [
    {
     "data": {
      "text/plain": [
       "1786"
      ]
     },
     "execution_count": 140,
     "metadata": {},
     "output_type": "execute_result"
    }
   ],
   "source": [
    "f.write(\"\"\"Why Marx Was Right is a 2011 non-fiction book by the British academic Terry Eagleton about the 19th-century philosopher Karl Marx and the schools of thought, collectively known as Marxism, that arose from his work. Written for laypeople, Why Marx Was Right outlines ten objections to Marxism that they may hold and aims to refute each one in turn. These include arguments that Marxism is irrelevant owing to changing social classes in the modern world, that it is deterministic and utopian, and that Marxists oppose all reforms and believe in an authoritarian state.\n",
    "\n",
    "In his counterarguments, Eagleton explains how class struggle is central to Marxism, and that history is seen as a progression of modes of production, like feudalism and capitalism, involving the materials, technology and social relations required to produce goods and services within the society. Under a capitalist economy, the working class, known as the proletariat, are those lacking significant autonomy over their labour conditions, and have no control over the means of production. Eagleton describes how revolutions could lead to a new mode of production—socialism—in which the working class have control, and an eventual communist society could make the state obsolete. He explores the failures of the Soviet Union and other Marxist-Leninist countries.\n",
    "\n",
    "As an author of both specialist and general books in the areas of literary theory, Marxism and Catholicism, Eagleton saw the historical moment as appropriate for Why Marx Was Right; critics said that the book was part of a resurgence in Marxist thought after the financial crisis of 2007–2008. It was first published in 2011 and reprinted in 2018 to mark 200 years since Marx's birth. In Canada, it entered Maclean's bestseller list for two weeks in 2011\"\"\")"
   ]
  },
  {
   "cell_type": "code",
   "execution_count": 141,
   "id": "7828551f",
   "metadata": {},
   "outputs": [],
   "source": [
    "f.close()"
   ]
  },
  {
   "cell_type": "code",
   "execution_count": 142,
   "id": "50e2f5e7",
   "metadata": {},
   "outputs": [],
   "source": [
    "f = open(\"test2.txt\"  ,\"r\")"
   ]
  },
  {
   "cell_type": "code",
   "execution_count": 143,
   "id": "45f7a7c7",
   "metadata": {},
   "outputs": [
    {
     "data": {
      "text/plain": [
       "\"Why Marx Was Right is a 2011 non-fiction book by the British academic Terry Eagleton about the 19th-century philosopher Karl Marx and the schools of thought, collectively known as Marxism, that arose from his work. Written for laypeople, Why Marx Was Right outlines ten objections to Marxism that they may hold and aims to refute each one in turn. These include arguments that Marxism is irrelevant owing to changing social classes in the modern world, that it is deterministic and utopian, and that Marxists oppose all reforms and believe in an authoritarian state.\\n\\nIn his counterarguments, Eagleton explains how class struggle is central to Marxism, and that history is seen as a progression of modes of production, like feudalism and capitalism, involving the materials, technology and social relations required to produce goods and services within the society. Under a capitalist economy, the working class, known as the proletariat, are those lacking significant autonomy over their labour conditions, and have no control over the means of production. Eagleton describes how revolutions could lead to a new mode of production—socialism—in which the working class have control, and an eventual communist society could make the state obsolete. He explores the failures of the Soviet Union and other Marxist-Leninist countries.\\n\\nAs an author of both specialist and general books in the areas of literary theory, Marxism and Catholicism, Eagleton saw the historical moment as appropriate for Why Marx Was Right; critics said that the book was part of a resurgence in Marxist thought after the financial crisis of 2007–2008. It was first published in 2011 and reprinted in 2018 to mark 200 years since Marx's birth. In Canada, it entered Maclean's bestseller list for two weeks in 2011\""
      ]
     },
     "execution_count": 143,
     "metadata": {},
     "output_type": "execute_result"
    }
   ],
   "source": [
    "f.read()"
   ]
  },
  {
   "cell_type": "code",
   "execution_count": 144,
   "id": "73a8bd70",
   "metadata": {},
   "outputs": [
    {
     "data": {
      "text/plain": [
       "''"
      ]
     },
     "execution_count": 144,
     "metadata": {},
     "output_type": "execute_result"
    }
   ],
   "source": [
    "f.readline()"
   ]
  },
  {
   "cell_type": "code",
   "execution_count": 146,
   "id": "62cf5340",
   "metadata": {},
   "outputs": [
    {
     "data": {
      "text/plain": [
       "0"
      ]
     },
     "execution_count": 146,
     "metadata": {},
     "output_type": "execute_result"
    }
   ],
   "source": [
    "f.seek(0)"
   ]
  },
  {
   "cell_type": "code",
   "execution_count": 147,
   "id": "733415c6",
   "metadata": {},
   "outputs": [
    {
     "data": {
      "text/plain": [
       "'Why Marx Was Right is a 2011 non-fiction book by the British academic Terry Eagleton about the 19th-century philosopher Karl Marx and the schools of thought, collectively known as Marxism, that arose from his work. Written for laypeople, Why Marx Was Right outlines ten objections to Marxism that they may hold and aims to refute each one in turn. These include arguments that Marxism is irrelevant owing to changing social classes in the modern world, that it is deterministic and utopian, and that Marxists oppose all reforms and believe in an authoritarian state.\\n'"
      ]
     },
     "execution_count": 147,
     "metadata": {},
     "output_type": "execute_result"
    }
   ],
   "source": [
    "f.readline()"
   ]
  },
  {
   "cell_type": "code",
   "execution_count": 148,
   "id": "8a4798dd",
   "metadata": {},
   "outputs": [
    {
     "data": {
      "text/plain": [
       "'\\n'"
      ]
     },
     "execution_count": 148,
     "metadata": {},
     "output_type": "execute_result"
    }
   ],
   "source": [
    "f.readline()"
   ]
  },
  {
   "cell_type": "code",
   "execution_count": 149,
   "id": "a4db73bd",
   "metadata": {},
   "outputs": [
    {
     "data": {
      "text/plain": [
       "'In his counterarguments, Eagleton explains how class struggle is central to Marxism, and that history is seen as a progression of modes of production, like feudalism and capitalism, involving the materials, technology and social relations required to produce goods and services within the society. Under a capitalist economy, the working class, known as the proletariat, are those lacking significant autonomy over their labour conditions, and have no control over the means of production. Eagleton describes how revolutions could lead to a new mode of production—socialism—in which the working class have control, and an eventual communist society could make the state obsolete. He explores the failures of the Soviet Union and other Marxist-Leninist countries.\\n'"
      ]
     },
     "execution_count": 149,
     "metadata": {},
     "output_type": "execute_result"
    }
   ],
   "source": [
    "f.readline()"
   ]
  },
  {
   "cell_type": "code",
   "execution_count": 150,
   "id": "b8c40283",
   "metadata": {},
   "outputs": [
    {
     "data": {
      "text/plain": [
       "'\\n'"
      ]
     },
     "execution_count": 150,
     "metadata": {},
     "output_type": "execute_result"
    }
   ],
   "source": [
    "f.readline()"
   ]
  },
  {
   "cell_type": "code",
   "execution_count": 151,
   "id": "abc22cb9",
   "metadata": {},
   "outputs": [
    {
     "data": {
      "text/plain": [
       "\"As an author of both specialist and general books in the areas of literary theory, Marxism and Catholicism, Eagleton saw the historical moment as appropriate for Why Marx Was Right; critics said that the book was part of a resurgence in Marxist thought after the financial crisis of 2007–2008. It was first published in 2011 and reprinted in 2018 to mark 200 years since Marx's birth. In Canada, it entered Maclean's bestseller list for two weeks in 2011\""
      ]
     },
     "execution_count": 151,
     "metadata": {},
     "output_type": "execute_result"
    }
   ],
   "source": [
    "f.readline()"
   ]
  },
  {
   "cell_type": "code",
   "execution_count": 152,
   "id": "ab836051",
   "metadata": {},
   "outputs": [
    {
     "data": {
      "text/plain": [
       "''"
      ]
     },
     "execution_count": 152,
     "metadata": {},
     "output_type": "execute_result"
    }
   ],
   "source": [
    "f.readline()"
   ]
  },
  {
   "cell_type": "code",
   "execution_count": 153,
   "id": "0e3ff27c",
   "metadata": {},
   "outputs": [
    {
     "name": "stdout",
     "output_type": "stream",
     "text": [
      "Why Marx Was Right is a 2011 non-fiction book by the British academic Terry Eagleton about the 19th-century philosopher Karl Marx and the schools of thought, collectively known as Marxism, that arose from his work. Written for laypeople, Why Marx Was Right outlines ten objections to Marxism that they may hold and aims to refute each one in turn. These include arguments that Marxism is irrelevant owing to changing social classes in the modern world, that it is deterministic and utopian, and that Marxists oppose all reforms and believe in an authoritarian state.\n",
      " \n",
      " In his counterarguments, Eagleton explains how class struggle is central to Marxism, and that history is seen as a progression of modes of production, like feudalism and capitalism, involving the materials, technology and social relations required to produce goods and services within the society. Under a capitalist economy, the working class, known as the proletariat, are those lacking significant autonomy over their labour conditions, and have no control over the means of production. Eagleton describes how revolutions could lead to a new mode of production—socialism—in which the working class have control, and an eventual communist society could make the state obsolete. He explores the failures of the Soviet Union and other Marxist-Leninist countries.\n",
      " \n",
      " As an author of both specialist and general books in the areas of literary theory, Marxism and Catholicism, Eagleton saw the historical moment as appropriate for Why Marx Was Right; critics said that the book was part of a resurgence in Marxist thought after the financial crisis of 2007–2008. It was first published in 2011 and reprinted in 2018 to mark 200 years since Marx's birth. In Canada, it entered Maclean's bestseller list for two weeks in 2011 "
     ]
    }
   ],
   "source": [
    "f = open(\"test2.txt\" , \"r+\")\n",
    "for line in f :\n",
    "    print(line , end = \" \")"
   ]
  },
  {
   "cell_type": "code",
   "execution_count": 154,
   "id": "7a308dfc",
   "metadata": {},
   "outputs": [
    {
     "ename": "NameError",
     "evalue": "name 'ffgfgfdgdfgggg' is not defined",
     "output_type": "error",
     "traceback": [
      "\u001b[1;31m---------------------------------------------------------------------------\u001b[0m",
      "\u001b[1;31mNameError\u001b[0m                                 Traceback (most recent call last)",
      "\u001b[1;32m<ipython-input-154-e332cefa7525>\u001b[0m in \u001b[0;36m<module>\u001b[1;34m\u001b[0m\n\u001b[1;32m----> 1\u001b[1;33m \u001b[0mf\u001b[0m\u001b[1;33m.\u001b[0m\u001b[0mwrite\u001b[0m\u001b[1;33m(\u001b[0m\u001b[0mffgfgfdgdfgggg\u001b[0m\u001b[1;33m)\u001b[0m\u001b[1;33m\u001b[0m\u001b[1;33m\u001b[0m\u001b[0m\n\u001b[0m",
      "\u001b[1;31mNameError\u001b[0m: name 'ffgfgfdgdfgggg' is not defined"
     ]
    }
   ],
   "source": [
    "f.write(ffgfgfdgdfgggg)"
   ]
  },
  {
   "cell_type": "code",
   "execution_count": 155,
   "id": "8d9837a7",
   "metadata": {},
   "outputs": [
    {
     "data": {
      "text/plain": [
       "0"
      ]
     },
     "execution_count": 155,
     "metadata": {},
     "output_type": "execute_result"
    }
   ],
   "source": [
    "f.seek(0)"
   ]
  },
  {
   "cell_type": "code",
   "execution_count": 156,
   "id": "406cff95",
   "metadata": {},
   "outputs": [],
   "source": [
    "l = f.readline()"
   ]
  },
  {
   "cell_type": "code",
   "execution_count": 157,
   "id": "d7a7f18c",
   "metadata": {},
   "outputs": [
    {
     "data": {
      "text/plain": [
       "'Why Marx Was Right is a 2011 non-fiction book by the British academic Terry Eagleton about the 19th-century philosopher Karl Marx and the schools of thought, collectively known as Marxism, that arose from his work. Written for laypeople, Why Marx Was Right outlines ten objections to Marxism that they may hold and aims to refute each one in turn. These include arguments that Marxism is irrelevant owing to changing social classes in the modern world, that it is deterministic and utopian, and that Marxists oppose all reforms and believe in an authoritarian state.\\n'"
      ]
     },
     "execution_count": 157,
     "metadata": {},
     "output_type": "execute_result"
    }
   ],
   "source": [
    "l"
   ]
  },
  {
   "cell_type": "code",
   "execution_count": 158,
   "id": "c6a87584",
   "metadata": {},
   "outputs": [],
   "source": [
    "l1  = []\n",
    "for i in l[0].split():\n",
    "    l1.append(i[0])"
   ]
  },
  {
   "cell_type": "code",
   "execution_count": 159,
   "id": "3b6b15ae",
   "metadata": {},
   "outputs": [
    {
     "data": {
      "text/plain": [
       "['W']"
      ]
     },
     "execution_count": 159,
     "metadata": {},
     "output_type": "execute_result"
    }
   ],
   "source": [
    "l1"
   ]
  },
  {
   "cell_type": "code",
   "execution_count": 160,
   "id": "ffd0ff24",
   "metadata": {},
   "outputs": [
    {
     "data": {
      "text/plain": [
       "['W']"
      ]
     },
     "execution_count": 160,
     "metadata": {},
     "output_type": "execute_result"
    }
   ],
   "source": [
    "l[0].split()"
   ]
  },
  {
   "cell_type": "code",
   "execution_count": 161,
   "id": "5d2a57ce",
   "metadata": {},
   "outputs": [],
   "source": [
    "f = open(\"test2.txt\" , \"r+\")"
   ]
  },
  {
   "cell_type": "code",
   "execution_count": 162,
   "id": "85a31497",
   "metadata": {},
   "outputs": [],
   "source": [
    "l = f.readlines()"
   ]
  },
  {
   "cell_type": "code",
   "execution_count": 163,
   "id": "0ff1ee8a",
   "metadata": {
    "scrolled": true
   },
   "outputs": [
    {
     "data": {
      "text/plain": [
       "['Why Marx Was Right is a 2011 non-fiction book by the British academic Terry Eagleton about the 19th-century philosopher Karl Marx and the schools of thought, collectively known as Marxism, that arose from his work. Written for laypeople, Why Marx Was Right outlines ten objections to Marxism that they may hold and aims to refute each one in turn. These include arguments that Marxism is irrelevant owing to changing social classes in the modern world, that it is deterministic and utopian, and that Marxists oppose all reforms and believe in an authoritarian state.\\n',\n",
       " '\\n',\n",
       " 'In his counterarguments, Eagleton explains how class struggle is central to Marxism, and that history is seen as a progression of modes of production, like feudalism and capitalism, involving the materials, technology and social relations required to produce goods and services within the society. Under a capitalist economy, the working class, known as the proletariat, are those lacking significant autonomy over their labour conditions, and have no control over the means of production. Eagleton describes how revolutions could lead to a new mode of production—socialism—in which the working class have control, and an eventual communist society could make the state obsolete. He explores the failures of the Soviet Union and other Marxist-Leninist countries.\\n',\n",
       " '\\n',\n",
       " \"As an author of both specialist and general books in the areas of literary theory, Marxism and Catholicism, Eagleton saw the historical moment as appropriate for Why Marx Was Right; critics said that the book was part of a resurgence in Marxist thought after the financial crisis of 2007–2008. It was first published in 2011 and reprinted in 2018 to mark 200 years since Marx's birth. In Canada, it entered Maclean's bestseller list for two weeks in 2011\"]"
      ]
     },
     "execution_count": 163,
     "metadata": {},
     "output_type": "execute_result"
    }
   ],
   "source": [
    "l"
   ]
  },
  {
   "cell_type": "code",
   "execution_count": 169,
   "id": "e1a28f45",
   "metadata": {},
   "outputs": [],
   "source": [
    "l1 = []\n",
    "for i in l[0].split():\n",
    "    l1.append(i[0])"
   ]
  },
  {
   "cell_type": "code",
   "execution_count": 170,
   "id": "499329bd",
   "metadata": {},
   "outputs": [
    {
     "data": {
      "text/plain": [
       "['W',\n",
       " 'M',\n",
       " 'W',\n",
       " 'R',\n",
       " 'i',\n",
       " 'a',\n",
       " '2',\n",
       " 'n',\n",
       " 'b',\n",
       " 'b',\n",
       " 't',\n",
       " 'B',\n",
       " 'a',\n",
       " 'T',\n",
       " 'E',\n",
       " 'a',\n",
       " 't',\n",
       " '1',\n",
       " 'p',\n",
       " 'K',\n",
       " 'M',\n",
       " 'a',\n",
       " 't',\n",
       " 's',\n",
       " 'o',\n",
       " 't',\n",
       " 'c',\n",
       " 'k',\n",
       " 'a',\n",
       " 'M',\n",
       " 't',\n",
       " 'a',\n",
       " 'f',\n",
       " 'h',\n",
       " 'w',\n",
       " 'W',\n",
       " 'f',\n",
       " 'l',\n",
       " 'W',\n",
       " 'M',\n",
       " 'W',\n",
       " 'R',\n",
       " 'o',\n",
       " 't',\n",
       " 'o',\n",
       " 't',\n",
       " 'M',\n",
       " 't',\n",
       " 't',\n",
       " 'm',\n",
       " 'h',\n",
       " 'a',\n",
       " 'a',\n",
       " 't',\n",
       " 'r',\n",
       " 'e',\n",
       " 'o',\n",
       " 'i',\n",
       " 't',\n",
       " 'T',\n",
       " 'i',\n",
       " 'a',\n",
       " 't',\n",
       " 'M',\n",
       " 'i',\n",
       " 'i',\n",
       " 'o',\n",
       " 't',\n",
       " 'c',\n",
       " 's',\n",
       " 'c',\n",
       " 'i',\n",
       " 't',\n",
       " 'm',\n",
       " 'w',\n",
       " 't',\n",
       " 'i',\n",
       " 'i',\n",
       " 'd',\n",
       " 'a',\n",
       " 'u',\n",
       " 'a',\n",
       " 't',\n",
       " 'M',\n",
       " 'o',\n",
       " 'a',\n",
       " 'r',\n",
       " 'a',\n",
       " 'b',\n",
       " 'i',\n",
       " 'a',\n",
       " 'a',\n",
       " 's']"
      ]
     },
     "execution_count": 170,
     "metadata": {},
     "output_type": "execute_result"
    }
   ],
   "source": [
    "l1"
   ]
  },
  {
   "cell_type": "code",
   "execution_count": null,
   "id": "9bc1593d",
   "metadata": {},
   "outputs": [],
   "source": []
  },
  {
   "cell_type": "code",
   "execution_count": null,
   "id": "9fba7706",
   "metadata": {},
   "outputs": [],
   "source": []
  }
 ],
 "metadata": {
  "kernelspec": {
   "display_name": "Python 3",
   "language": "python",
   "name": "python3"
  },
  "language_info": {
   "codemirror_mode": {
    "name": "ipython",
    "version": 3
   },
   "file_extension": ".py",
   "mimetype": "text/x-python",
   "name": "python",
   "nbconvert_exporter": "python",
   "pygments_lexer": "ipython3",
   "version": "3.8.8"
  }
 },
 "nbformat": 4,
 "nbformat_minor": 5
}
