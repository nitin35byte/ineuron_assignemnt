{
 "cells": [
  {
   "cell_type": "code",
   "execution_count": 1,
   "id": "47b544aa",
   "metadata": {
    "scrolled": true
   },
   "outputs": [
    {
     "name": "stdout",
     "output_type": "stream",
     "text": [
      "Requirement already satisfied: mysql-connector-python in c:\\users\\lenovo\\anaconda3\\lib\\site-packages (8.0.28)\n",
      "Requirement already satisfied: protobuf>=3.0.0 in c:\\users\\lenovo\\anaconda3\\lib\\site-packages (from mysql-connector-python) (3.19.4)\n"
     ]
    }
   ],
   "source": [
    "!pip install mysql-connector-python"
   ]
  },
  {
   "cell_type": "code",
   "execution_count": 2,
   "id": "34db5543",
   "metadata": {},
   "outputs": [],
   "source": [
    "import mysql.connector as conn"
   ]
  },
  {
   "cell_type": "code",
   "execution_count": null,
   "id": "1e0fac15",
   "metadata": {},
   "outputs": [],
   "source": [
    "mydb = conn.connect(host = 'localhost',user ='root',passwd = \"0407\")"
   ]
  },
  {
   "cell_type": "code",
   "execution_count": 8,
   "id": "3695fa47",
   "metadata": {},
   "outputs": [
    {
     "data": {
      "text/plain": [
       "<mysql.connector.connection_cext.CMySQLConnection at 0x1b0937891c0>"
      ]
     },
     "execution_count": 8,
     "metadata": {},
     "output_type": "execute_result"
    }
   ],
   "source": [
    "mydb"
   ]
  },
  {
   "cell_type": "code",
   "execution_count": 9,
   "id": "0a50325b",
   "metadata": {},
   "outputs": [],
   "source": [
    "cursor = mydb.cursor()"
   ]
  },
  {
   "cell_type": "code",
   "execution_count": 12,
   "id": "21296b35",
   "metadata": {
    "scrolled": true
   },
   "outputs": [],
   "source": [
    "cursor.execute(\"create database ineuron\")"
   ]
  },
  {
   "cell_type": "code",
   "execution_count": 16,
   "id": "29a9b2d2",
   "metadata": {},
   "outputs": [],
   "source": [
    "cursor.execute('create table ineuron.ineuronemployee(studentid INT(10) ,firstname VARCHAR(30)  ,lastname VARCHAR(30) ,regid INT(10) ,classname VARCHAR(30))') "
   ]
  },
  {
   "cell_type": "code",
   "execution_count": 19,
   "id": "b0c2b43d",
   "metadata": {},
   "outputs": [],
   "source": [
    "cursor.execute('use  ineuron')"
   ]
  },
  {
   "cell_type": "code",
   "execution_count": 20,
   "id": "51c8d4c6",
   "metadata": {},
   "outputs": [],
   "source": [
    "cursor.execute('show tables')"
   ]
  },
  {
   "cell_type": "code",
   "execution_count": 21,
   "id": "572e0e1f",
   "metadata": {},
   "outputs": [
    {
     "data": {
      "text/plain": [
       "[('ineuronemployee',)]"
      ]
     },
     "execution_count": 21,
     "metadata": {},
     "output_type": "execute_result"
    }
   ],
   "source": [
    "cursor.fetchall()"
   ]
  },
  {
   "cell_type": "code",
   "execution_count": 24,
   "id": "3da447bd",
   "metadata": {},
   "outputs": [],
   "source": [
    "cursor.execute('insert into ineuronemployee values(423423 , \"sudh\" , \"kumar\" , 2344323 , \"FSDS\")')"
   ]
  },
  {
   "cell_type": "code",
   "execution_count": null,
   "id": "c339f73c",
   "metadata": {},
   "outputs": [],
   "source": [
    "cursor.execute(\"select * from table name  where \")"
   ]
  },
  {
   "cell_type": "code",
   "execution_count": 25,
   "id": "b2994d5e",
   "metadata": {},
   "outputs": [],
   "source": [
    "mydb.commit()"
   ]
  },
  {
   "cell_type": "code",
   "execution_count": 27,
   "id": "8e7f0a16",
   "metadata": {},
   "outputs": [],
   "source": [
    "cursor.execute(\"select * from  ineuronemployee\")"
   ]
  },
  {
   "cell_type": "code",
   "execution_count": 28,
   "id": "56fb3572",
   "metadata": {},
   "outputs": [
    {
     "data": {
      "text/plain": [
       "[(423423, 'sudh', 'kumar', 2344323, 'FSDS')]"
      ]
     },
     "execution_count": 28,
     "metadata": {},
     "output_type": "execute_result"
    }
   ],
   "source": [
    "cursor.fetchall()"
   ]
  },
  {
   "cell_type": "code",
   "execution_count": null,
   "id": "4c7f2833",
   "metadata": {},
   "outputs": [],
   "source": []
  },
  {
   "cell_type": "code",
   "execution_count": null,
   "id": "91ae67c5",
   "metadata": {},
   "outputs": [],
   "source": []
  },
  {
   "cell_type": "code",
   "execution_count": null,
   "id": "d798518a",
   "metadata": {},
   "outputs": [],
   "source": []
  },
  {
   "cell_type": "code",
   "execution_count": null,
   "id": "59af21ec",
   "metadata": {},
   "outputs": [],
   "source": [
    "#1 . take a data set from attached URL https://archive.ics.uci.edu/ml/datasets/Car+Evaluation\n",
    "#2 . create a database called as cardataset\n",
    "#3 . create a table called as car with a column name given in dataset description\n",
    "#4 . Dump all the data into car table \n",
    "#5 . try to check weather all the data is aviable inside your table or not \n",
    "#6 . try to group all the data with COL1 AND count occurences of each and every record based on col1 value \n",
    "#7 . Try to filter a record where col 3 value will be 4 .\n",
    "#8.  Try to update a col 3 value with 8 whereever you have value equal to 2 \n",
    "#9 . try to delete table \n",
    "#10 .   Try to delete database"
   ]
  },
  {
   "cell_type": "code",
   "execution_count": null,
   "id": "3eb11faf",
   "metadata": {},
   "outputs": [],
   "source": []
  },
  {
   "cell_type": "code",
   "execution_count": null,
   "id": "785f1650",
   "metadata": {},
   "outputs": [],
   "source": []
  },
  {
   "cell_type": "code",
   "execution_count": null,
   "id": "a711996a",
   "metadata": {},
   "outputs": [],
   "source": []
  },
  {
   "cell_type": "code",
   "execution_count": null,
   "id": "8ca6bb6c",
   "metadata": {},
   "outputs": [],
   "source": []
  },
  {
   "cell_type": "code",
   "execution_count": null,
   "id": "95c9d8b0",
   "metadata": {},
   "outputs": [],
   "source": []
  },
  {
   "cell_type": "code",
   "execution_count": null,
   "id": "ec67f6d9",
   "metadata": {},
   "outputs": [],
   "source": []
  },
  {
   "cell_type": "code",
   "execution_count": null,
   "id": "28d99877",
   "metadata": {},
   "outputs": [],
   "source": []
  }
 ],
 "metadata": {
  "kernelspec": {
   "display_name": "Python 3",
   "language": "python",
   "name": "python3"
  },
  "language_info": {
   "codemirror_mode": {
    "name": "ipython",
    "version": 3
   },
   "file_extension": ".py",
   "mimetype": "text/x-python",
   "name": "python",
   "nbconvert_exporter": "python",
   "pygments_lexer": "ipython3",
   "version": "3.8.8"
  }
 },
 "nbformat": 4,
 "nbformat_minor": 5
}
