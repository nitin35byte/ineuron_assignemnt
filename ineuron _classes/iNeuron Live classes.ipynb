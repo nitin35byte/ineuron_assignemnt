{
 "cells": [
  {
   "cell_type": "markdown",
   "id": "bac6d8e0",
   "metadata": {},
   "source": [
    "# Inheritance"
   ]
  },
  {
   "cell_type": "code",
   "execution_count": 5,
   "id": "9f006deb",
   "metadata": {},
   "outputs": [],
   "source": [
    "class xyz:\n",
    "    def __init__(self , a, b,c):\n",
    "        self.a = a\n",
    "        self.b = b\n",
    "        self.c = c\n",
    "        \n",
    "    \n",
    "    \n",
    "    def test(self):\n",
    "            print(\"this is first method of of xyz \")\n",
    "     \n",
    "    def test1(self):\n",
    "            print(\"this is method of of xyz \")\n",
    "            \n",
    "    def test3(self):\n",
    "            print(\"this is method of of xyz \")\n",
    "            \n",
    "     "
   ]
  },
  {
   "cell_type": "code",
   "execution_count": 8,
   "id": "2299d1c0",
   "metadata": {},
   "outputs": [],
   "source": [
    "p = xyz(1,2,3)"
   ]
  },
  {
   "cell_type": "code",
   "execution_count": 9,
   "id": "8eeb1312",
   "metadata": {},
   "outputs": [
    {
     "name": "stdout",
     "output_type": "stream",
     "text": [
      "this is method of of xyz \n"
     ]
    }
   ],
   "source": [
    "p.test1()"
   ]
  },
  {
   "cell_type": "code",
   "execution_count": null,
   "id": "2fd4bd2a",
   "metadata": {},
   "outputs": [],
   "source": []
  },
  {
   "cell_type": "code",
   "execution_count": null,
   "id": "53346236",
   "metadata": {},
   "outputs": [],
   "source": []
  },
  {
   "cell_type": "code",
   "execution_count": 13,
   "id": "f03b2f61",
   "metadata": {},
   "outputs": [],
   "source": [
    "class xyz1(xyz):\n",
    "    pass"
   ]
  },
  {
   "cell_type": "code",
   "execution_count": 14,
   "id": "0954230d",
   "metadata": {},
   "outputs": [],
   "source": [
    "q = xyz1(4,8,7)"
   ]
  },
  {
   "cell_type": "code",
   "execution_count": 16,
   "id": "b09d7d0e",
   "metadata": {},
   "outputs": [
    {
     "name": "stdout",
     "output_type": "stream",
     "text": [
      "this is method of of xyz \n"
     ]
    }
   ],
   "source": [
    "q.test1()"
   ]
  },
  {
   "cell_type": "code",
   "execution_count": 20,
   "id": "a0fac002",
   "metadata": {},
   "outputs": [],
   "source": [
    "class xyz1(xyz):\n",
    "    def test1(self):\n",
    "        print(\"this is a test method is available in xyz1\")"
   ]
  },
  {
   "cell_type": "code",
   "execution_count": 21,
   "id": "31bd908d",
   "metadata": {},
   "outputs": [],
   "source": [
    "g = xyz1(4,5,6)"
   ]
  },
  {
   "cell_type": "code",
   "execution_count": 22,
   "id": "cedd3559",
   "metadata": {},
   "outputs": [
    {
     "name": "stdout",
     "output_type": "stream",
     "text": [
      "this is a test method is available in xyz1\n"
     ]
    }
   ],
   "source": [
    "g.test1()"
   ]
  },
  {
   "cell_type": "code",
   "execution_count": 50,
   "id": "ebcf250d",
   "metadata": {},
   "outputs": [],
   "source": [
    "class xyz():\n",
    "    def __init__(self ,a ,b , c):\n",
    "        self.a = a\n",
    "        self.b = b\n",
    "        self.c = c\n",
    "        \n",
    "    def test(self):\n",
    "        print(\"this is a method for xyz class\")\n",
    "        \n",
    "class xyz1:\n",
    "    def __init__(self , p ,q , v):\n",
    "        self.p = p\n",
    "        self.q = q\n",
    "        self.v = v\n",
    "        \n",
    "    def test1(self):\n",
    "        print(\"this is a method for xyz1 class\")\n",
    "        \n",
    "        \n",
    "class child(xyz1,xyz):\n",
    "    def __init__(self ,*args ,**kwargs):\n",
    "        xyz.__init__(self,*args)\n",
    "        xyz1.__init__(self,**kwargs)\n",
    "    "
   ]
  },
  {
   "cell_type": "code",
   "execution_count": 53,
   "id": "8d756524",
   "metadata": {},
   "outputs": [],
   "source": [
    "n = child(4,6,5,p =3,q= 7,v=8)"
   ]
  },
  {
   "cell_type": "code",
   "execution_count": 54,
   "id": "235c0848",
   "metadata": {},
   "outputs": [
    {
     "data": {
      "text/plain": [
       "3"
      ]
     },
     "execution_count": 54,
     "metadata": {},
     "output_type": "execute_result"
    }
   ],
   "source": [
    "n.p"
   ]
  },
  {
   "cell_type": "code",
   "execution_count": 55,
   "id": "ea4a4475",
   "metadata": {},
   "outputs": [
    {
     "data": {
      "text/plain": [
       "8"
      ]
     },
     "execution_count": 55,
     "metadata": {},
     "output_type": "execute_result"
    }
   ],
   "source": [
    "n.v"
   ]
  },
  {
   "cell_type": "code",
   "execution_count": 69,
   "id": "2f75f138",
   "metadata": {},
   "outputs": [],
   "source": [
    "class xyz():\n",
    "    def __init__(self ,a ,b , c):\n",
    "        self.a = a\n",
    "        self.b = b\n",
    "        self.c = c\n",
    "        \n",
    "    def test(self):\n",
    "        print(\"this is a method for xyz class\")\n",
    "        \n",
    "class xyz1(xyz):\n",
    "    \n",
    "        \n",
    "    def test1(self):\n",
    "        print(\"this is a method for xyz1 class\")\n",
    "        \n",
    "class xyz2(xyz1):\n",
    "    def test2(self):\n",
    "        print(\"this is a method for 2 class\")\n",
    "        \n",
    "class xyz3(xyz2):\n",
    "    def test3(self):\n",
    "        print(\"this is a method for 3 class\")\n",
    "    \n",
    "        "
   ]
  },
  {
   "cell_type": "code",
   "execution_count": 67,
   "id": "2c990e8c",
   "metadata": {},
   "outputs": [],
   "source": [
    "v = xyz2(6,8,9)"
   ]
  },
  {
   "cell_type": "code",
   "execution_count": 71,
   "id": "4b52a4e8",
   "metadata": {},
   "outputs": [],
   "source": [
    "m =xyz3(1,2,3)"
   ]
  },
  {
   "cell_type": "code",
   "execution_count": 73,
   "id": "ce2e0e3c",
   "metadata": {},
   "outputs": [
    {
     "data": {
      "text/plain": [
       "3"
      ]
     },
     "execution_count": 73,
     "metadata": {},
     "output_type": "execute_result"
    }
   ],
   "source": [
    "m.c"
   ]
  },
  {
   "cell_type": "code",
   "execution_count": null,
   "id": "602d218f",
   "metadata": {},
   "outputs": [],
   "source": [
    "#q-1 \"create a file class for reading data from a respective class with a method name read and write\"\n",
    " \n",
    "#try to inherit read and write method from parent calss to child class"
   ]
  },
  {
   "cell_type": "code",
   "execution_count": null,
   "id": "809dca1c",
   "metadata": {},
   "outputs": [],
   "source": [
    "# public private , protected"
   ]
  },
  {
   "cell_type": "code",
   "execution_count": 77,
   "id": "ecfc51e0",
   "metadata": {},
   "outputs": [],
   "source": [
    "class test :\n",
    "    def __init__(self , a ,b ,c):\n",
    "        self.a = a\n",
    "        self.b = b\n",
    "        self.c = c\n",
    "        \n",
    "class test1(test):\n",
    "    pass\n",
    "        \n",
    "u = test(4,5,6)"
   ]
  },
  {
   "cell_type": "code",
   "execution_count": 76,
   "id": "cb415481",
   "metadata": {},
   "outputs": [
    {
     "data": {
      "text/plain": [
       "4"
      ]
     },
     "execution_count": 76,
     "metadata": {},
     "output_type": "execute_result"
    }
   ],
   "source": [
    "u.a"
   ]
  },
  {
   "cell_type": "code",
   "execution_count": 78,
   "id": "4412cc4e",
   "metadata": {},
   "outputs": [],
   "source": [
    "v = test1(3,4,5)"
   ]
  },
  {
   "cell_type": "code",
   "execution_count": null,
   "id": "664c4d15",
   "metadata": {},
   "outputs": [],
   "source": [
    "v."
   ]
  },
  {
   "cell_type": "code",
   "execution_count": 110,
   "id": "a620eb6a",
   "metadata": {},
   "outputs": [],
   "source": [
    "class test :\n",
    "    def __init__(self):\n",
    "        self.__a = 4\n",
    "        \n",
    "        \n",
    "class test1(test):\n",
    "    def __init__(self):\n",
    "        test.__init__(self)\n",
    "        self.__a = 7\n",
    "        #self.a = 7\n",
    "    \n",
    "    \n",
    "        \n",
    "u = test()"
   ]
  },
  {
   "cell_type": "code",
   "execution_count": 111,
   "id": "abeb8e07",
   "metadata": {},
   "outputs": [
    {
     "ename": "AttributeError",
     "evalue": "'test' object has no attribute '__a'",
     "output_type": "error",
     "traceback": [
      "\u001b[1;31m---------------------------------------------------------------------------\u001b[0m",
      "\u001b[1;31mAttributeError\u001b[0m                            Traceback (most recent call last)",
      "\u001b[1;32m<ipython-input-111-45f5c7f66ea7>\u001b[0m in \u001b[0;36m<module>\u001b[1;34m\u001b[0m\n\u001b[1;32m----> 1\u001b[1;33m \u001b[0mu\u001b[0m\u001b[1;33m.\u001b[0m\u001b[0m__a\u001b[0m\u001b[1;33m\u001b[0m\u001b[1;33m\u001b[0m\u001b[0m\n\u001b[0m",
      "\u001b[1;31mAttributeError\u001b[0m: 'test' object has no attribute '__a'"
     ]
    }
   ],
   "source": [
    "u.__a"
   ]
  },
  {
   "cell_type": "code",
   "execution_count": 100,
   "id": "36022300",
   "metadata": {},
   "outputs": [],
   "source": [
    "v =test1()"
   ]
  },
  {
   "cell_type": "code",
   "execution_count": 101,
   "id": "a2593669",
   "metadata": {},
   "outputs": [
    {
     "data": {
      "text/plain": [
       "7"
      ]
     },
     "execution_count": 101,
     "metadata": {},
     "output_type": "execute_result"
    }
   ],
   "source": [
    "v.a"
   ]
  },
  {
   "cell_type": "code",
   "execution_count": 118,
   "id": "3a142eb3",
   "metadata": {},
   "outputs": [],
   "source": [
    "class test:\n",
    "    def __init__(self,a ,b ,c):\n",
    "        self._a = a\n",
    "        self.__b = b\n",
    "        self.c = c\n",
    "        \n",
    "class test1(test):\n",
    "    pass\n",
    "#    def __init__(self):\n",
    "      \n",
    "        \n",
    "v = test (4,5,6)"
   ]
  },
  {
   "cell_type": "code",
   "execution_count": 123,
   "id": "d58875a8",
   "metadata": {},
   "outputs": [
    {
     "data": {
      "text/plain": [
       "4"
      ]
     },
     "execution_count": 123,
     "metadata": {},
     "output_type": "execute_result"
    }
   ],
   "source": [
    "v._a"
   ]
  },
  {
   "cell_type": "code",
   "execution_count": 120,
   "id": "f7e6fb1a",
   "metadata": {},
   "outputs": [
    {
     "data": {
      "text/plain": [
       "6"
      ]
     },
     "execution_count": 120,
     "metadata": {},
     "output_type": "execute_result"
    }
   ],
   "source": [
    "v.c"
   ]
  },
  {
   "cell_type": "code",
   "execution_count": 121,
   "id": "73d8a0a8",
   "metadata": {},
   "outputs": [],
   "source": [
    "u =test(3,5,7)"
   ]
  },
  {
   "cell_type": "code",
   "execution_count": 125,
   "id": "806da2f2",
   "metadata": {},
   "outputs": [
    {
     "data": {
      "text/plain": [
       "3"
      ]
     },
     "execution_count": 125,
     "metadata": {},
     "output_type": "execute_result"
    }
   ],
   "source": [
    "u._a"
   ]
  },
  {
   "cell_type": "code",
   "execution_count": 127,
   "id": "8e999976",
   "metadata": {},
   "outputs": [
    {
     "data": {
      "text/plain": [
       "5"
      ]
     },
     "execution_count": 127,
     "metadata": {},
     "output_type": "execute_result"
    }
   ],
   "source": [
    "u._test__b"
   ]
  },
  {
   "cell_type": "code",
   "execution_count": 135,
   "id": "40f941a5",
   "metadata": {},
   "outputs": [],
   "source": [
    "class bonuscalculator:\n",
    "    def __init__(self,empid ,emprating):\n",
    "        self.empid =empid\n",
    "        self.emprating =emprating\n",
    "        self.__bonusforratingA = \"70\"\n",
    "        self.__bonusforratingB = \"60\"\n",
    "        self.__bonusforratingC = \"50\"\n",
    "        \n",
    "    def bonuscalculator(self):\n",
    "        if self.emprating == \"A\":\n",
    "            bonus = self.__bonusforratingA\n",
    "            return bonus\n",
    "        elif self.emprating == \"B\":\n",
    "            bonus = self.__bonusforratingA\n",
    "            return bonus\n",
    "        else:\n",
    "            bonus = self.__bonusforratingC\n",
    "            return bonu "
   ]
  },
  {
   "cell_type": "code",
   "execution_count": 138,
   "id": "2eec1aa8",
   "metadata": {},
   "outputs": [],
   "source": [
    "emp1 =bonuscalculator(101,\"A\")\n",
    "emp2 =bonuscalculator(102,\"B\")\n",
    "emp3 =bonuscalculator(103,\"C\")"
   ]
  },
  {
   "cell_type": "code",
   "execution_count": 140,
   "id": "183288b5",
   "metadata": {},
   "outputs": [
    {
     "data": {
      "text/plain": [
       "'70'"
      ]
     },
     "execution_count": 140,
     "metadata": {},
     "output_type": "execute_result"
    }
   ],
   "source": [
    "emp1.bonuscalculator()"
   ]
  },
  {
   "cell_type": "code",
   "execution_count": 141,
   "id": "4d63ed49",
   "metadata": {},
   "outputs": [],
   "source": [
    "emp1.empid = 104"
   ]
  },
  {
   "cell_type": "code",
   "execution_count": 144,
   "id": "cad8ccd4",
   "metadata": {},
   "outputs": [],
   "source": [
    "emp1.emprating =\"B\""
   ]
  },
  {
   "cell_type": "code",
   "execution_count": 145,
   "id": "448b65b4",
   "metadata": {},
   "outputs": [
    {
     "data": {
      "text/plain": [
       "'70'"
      ]
     },
     "execution_count": 145,
     "metadata": {},
     "output_type": "execute_result"
    }
   ],
   "source": [
    "emp1.bonuscalculator()"
   ]
  },
  {
   "cell_type": "code",
   "execution_count": null,
   "id": "4d94691e",
   "metadata": {},
   "outputs": [],
   "source": []
  },
  {
   "cell_type": "code",
   "execution_count": null,
   "id": "99144b71",
   "metadata": {},
   "outputs": [],
   "source": []
  },
  {
   "cell_type": "code",
   "execution_count": null,
   "id": "a666e6c4",
   "metadata": {},
   "outputs": [],
   "source": []
  },
  {
   "cell_type": "code",
   "execution_count": null,
   "id": "ec55e14d",
   "metadata": {},
   "outputs": [],
   "source": []
  },
  {
   "cell_type": "code",
   "execution_count": null,
   "id": "d0422d86",
   "metadata": {},
   "outputs": [],
   "source": []
  },
  {
   "cell_type": "code",
   "execution_count": null,
   "id": "fb312cca",
   "metadata": {},
   "outputs": [],
   "source": [
    "# Inheritance\n",
    "\n",
    "class xyz:\n",
    "    def __init__(self , a, b,c):\n",
    "        self.a = a\n",
    "        self.b = b\n",
    "        self.c = c\n",
    "        \n",
    "    \n",
    "    \n",
    "    def test(self):\n",
    "            print(\"this is first method of of xyz \")\n",
    "     \n",
    "    def test1(self):\n",
    "            print(\"this is method of of xyz \")\n",
    "            \n",
    "    def test3(self):\n",
    "            print(\"this is method of of xyz \")\n",
    "            \n",
    "     \n",
    "\n",
    "p = xyz(1,2,3)\n",
    "\n",
    "p.test1()\n",
    "\n",
    "\n",
    "\n",
    "\n",
    "\n",
    "class xyz1(xyz):\n",
    "    pass\n",
    "\n",
    "q = xyz1(4,8,7)\n",
    "\n",
    "q.test1()\n",
    "\n",
    "class xyz1(xyz):\n",
    "    def test1(self):\n",
    "        print(\"this is a test method is available in xyz1\")\n",
    "\n",
    "g = xyz1(4,5,6)\n",
    "\n",
    "g.test1()\n",
    "\n",
    "class xyz():\n",
    "    def __init__(self ,a ,b , c):\n",
    "        self.a = a\n",
    "        self.b = b\n",
    "        self.c = c\n",
    "        \n",
    "    def test(self):\n",
    "        print(\"this is a method for xyz class\")\n",
    "        \n",
    "class xyz1:\n",
    "    def __init__(self , p ,q , v):\n",
    "        self.p = p\n",
    "        self.q = q\n",
    "        self.v = v\n",
    "        \n",
    "    def test1(self):\n",
    "        print(\"this is a method for xyz1 class\")\n",
    "        \n",
    "        \n",
    "class child(xyz1,xyz):\n",
    "    def __init__(self ,*args ,**kwargs):\n",
    "        xyz.__init__(self,*args)\n",
    "        xyz1.__init__(self,**kwargs)\n",
    "    \n",
    "\n",
    "n = child(4,6,5,p =3,q= 7,v=8)\n",
    "\n",
    "n.p\n",
    "\n",
    "n.v\n",
    "\n",
    "class xyz():\n",
    "    def __init__(self ,a ,b , c):\n",
    "        self.a = a\n",
    "        self.b = b\n",
    "        self.c = c\n",
    "        \n",
    "    def test(self):\n",
    "        print(\"this is a method for xyz class\")\n",
    "        \n",
    "class xyz1(xyz):\n",
    "    \n",
    "        \n",
    "    def test1(self):\n",
    "        print(\"this is a method for xyz1 class\")\n",
    "        \n",
    "class xyz2(xyz1):\n",
    "    def test2(self):\n",
    "        print(\"this is a method for 2 class\")\n",
    "        \n",
    "class xyz3(xyz2):\n",
    "    def test3(self):\n",
    "        print(\"this is a method for 3 class\")\n",
    "    \n",
    "        \n",
    "\n",
    "v = xyz2(6,8,9)\n",
    "\n",
    "m =xyz3(1,2,3)\n",
    "\n",
    "m.c\n",
    "\n",
    "#q-1 \"create a file class for reading data from a respective class with a method name read and write\"\n",
    " \n",
    "#try to inherit read and write method from parent calss to child class\n",
    "\n",
    "# public private , protected\n",
    "\n",
    "class test :\n",
    "    def __init__(self , a ,b ,c):\n",
    "        self.a = a\n",
    "        self.b = b\n",
    "        self.c = c\n",
    "        \n",
    "class test1(test):\n",
    "    pass\n",
    "        \n",
    "u = test(4,5,6)\n",
    "\n",
    "u.a\n",
    "\n",
    "v = test1(3,4,5)\n",
    "\n",
    "v.\n",
    "\n",
    "class test :\n",
    "    def __init__(self):\n",
    "        self.__a = 4\n",
    "        \n",
    "        \n",
    "class test1(test):\n",
    "    def __init__(self):\n",
    "        test.__init__(self)\n",
    "        self.__a = 7\n",
    "        #self.a = 7\n",
    "    \n",
    "    \n",
    "        \n",
    "u = test()\n",
    "\n",
    "u.__a\n",
    "\n",
    "v =test1()\n",
    "\n",
    "v.a\n",
    "\n",
    "class test:\n",
    "    def __init__(self,a ,b ,c):\n",
    "        self._a = a\n",
    "        self.__b = b\n",
    "        self.c = c\n",
    "        \n",
    "class test1(test):\n",
    "    pass\n",
    "#    def __init__(self):\n",
    "      \n",
    "        \n",
    "v = test (4,5,6)\n",
    "\n",
    "v._a\n",
    "\n",
    "v.c\n",
    "\n",
    "u =test(3,5,7)\n",
    "\n",
    "u._a\n",
    "\n",
    "u._test__b\n",
    "\n",
    "class bonuscalculator:\n",
    "    def __init__(self,empid ,emprating):\n",
    "        self.empid =empid\n",
    "        self.emprating =emprating\n",
    "        self.__bonusforratingA = \"70\"\n",
    "        self.__bonusforratingB = \"60\"\n",
    "        self.__bonusforratingC = \"50\"\n",
    "        \n",
    "    def bonuscalculator(self):\n",
    "        if self.emprating == \"A\":\n",
    "            bonus = self.__bonusforratingA\n",
    "            return bonus\n",
    "        elif self.emprating == \"B\":\n",
    "            bonus = self.__bonusforratingA\n",
    "            return bonus\n",
    "        else:\n",
    "            bonus = self.__bonusforratingC\n",
    "            return bonu \n",
    "\n",
    "emp1 =bonuscalculator(101,\"A\")\n",
    "emp2 =bonuscalculator(102,\"B\")\n",
    "emp3 =bonuscalculator(103,\"C\")\n",
    "\n",
    "emp1.bonuscalculator()\n",
    "\n",
    "emp1.empid = 104\n",
    "\n",
    "emp1.emprating =\"B\"\n",
    "\n",
    "emp1.bonuscalculator()\n",
    "\n",
    "\n",
    "\n",
    "\n",
    "\n",
    "\n",
    "\n",
    "\n",
    "\n"
   ]
  },
  {
   "cell_type": "code",
   "execution_count": null,
   "id": "41d5ea61",
   "metadata": {},
   "outputs": [],
   "source": []
  },
  {
   "cell_type": "code",
   "execution_count": null,
   "id": "321454f7",
   "metadata": {},
   "outputs": [],
   "source": []
  },
  {
   "cell_type": "code",
   "execution_count": null,
   "id": "702c6dbf",
   "metadata": {},
   "outputs": [],
   "source": []
  },
  {
   "cell_type": "code",
   "execution_count": null,
   "id": "a3716b00",
   "metadata": {},
   "outputs": [],
   "source": []
  },
  {
   "cell_type": "code",
   "execution_count": null,
   "id": "293b1561",
   "metadata": {},
   "outputs": [],
   "source": []
  },
  {
   "cell_type": "code",
   "execution_count": null,
   "id": "9d654eda",
   "metadata": {},
   "outputs": [],
   "source": []
  },
  {
   "cell_type": "code",
   "execution_count": null,
   "id": "bc8fb9ae",
   "metadata": {},
   "outputs": [],
   "source": []
  },
  {
   "cell_type": "code",
   "execution_count": null,
   "id": "184aa1eb",
   "metadata": {},
   "outputs": [],
   "source": []
  },
  {
   "cell_type": "code",
   "execution_count": null,
   "id": "238eb39a",
   "metadata": {},
   "outputs": [],
   "source": []
  },
  {
   "cell_type": "code",
   "execution_count": null,
   "id": "a4d1ae3e",
   "metadata": {},
   "outputs": [],
   "source": []
  },
  {
   "cell_type": "code",
   "execution_count": null,
   "id": "f35f9983",
   "metadata": {},
   "outputs": [],
   "source": []
  },
  {
   "cell_type": "code",
   "execution_count": null,
   "id": "4a7888c8",
   "metadata": {},
   "outputs": [],
   "source": []
  },
  {
   "cell_type": "code",
   "execution_count": null,
   "id": "ca0cf56e",
   "metadata": {},
   "outputs": [],
   "source": []
  },
  {
   "cell_type": "code",
   "execution_count": null,
   "id": "97088dbf",
   "metadata": {},
   "outputs": [],
   "source": []
  },
  {
   "cell_type": "code",
   "execution_count": null,
   "id": "e6123d57",
   "metadata": {},
   "outputs": [],
   "source": []
  },
  {
   "cell_type": "code",
   "execution_count": null,
   "id": "b5f586ab",
   "metadata": {},
   "outputs": [],
   "source": []
  },
  {
   "cell_type": "code",
   "execution_count": null,
   "id": "7ca53d5d",
   "metadata": {},
   "outputs": [],
   "source": []
  },
  {
   "cell_type": "code",
   "execution_count": null,
   "id": "34a8005d",
   "metadata": {},
   "outputs": [],
   "source": []
  },
  {
   "cell_type": "code",
   "execution_count": null,
   "id": "92ae1511",
   "metadata": {},
   "outputs": [],
   "source": []
  },
  {
   "cell_type": "code",
   "execution_count": null,
   "id": "3e621ec1",
   "metadata": {},
   "outputs": [],
   "source": []
  },
  {
   "cell_type": "code",
   "execution_count": null,
   "id": "658e1984",
   "metadata": {},
   "outputs": [],
   "source": []
  },
  {
   "cell_type": "code",
   "execution_count": null,
   "id": "725b5125",
   "metadata": {},
   "outputs": [],
   "source": []
  },
  {
   "cell_type": "code",
   "execution_count": null,
   "id": "2e07711d",
   "metadata": {},
   "outputs": [],
   "source": []
  },
  {
   "cell_type": "code",
   "execution_count": null,
   "id": "bfdf0bd7",
   "metadata": {},
   "outputs": [],
   "source": []
  },
  {
   "cell_type": "code",
   "execution_count": null,
   "id": "4ce98d91",
   "metadata": {},
   "outputs": [],
   "source": []
  },
  {
   "cell_type": "code",
   "execution_count": null,
   "id": "8f87a968",
   "metadata": {},
   "outputs": [],
   "source": []
  },
  {
   "cell_type": "code",
   "execution_count": null,
   "id": "5e3adac2",
   "metadata": {},
   "outputs": [],
   "source": []
  },
  {
   "cell_type": "code",
   "execution_count": null,
   "id": "186dd6e8",
   "metadata": {},
   "outputs": [],
   "source": []
  },
  {
   "cell_type": "code",
   "execution_count": null,
   "id": "38b56ca1",
   "metadata": {},
   "outputs": [],
   "source": []
  },
  {
   "cell_type": "code",
   "execution_count": null,
   "id": "387bd24c",
   "metadata": {},
   "outputs": [],
   "source": []
  },
  {
   "cell_type": "code",
   "execution_count": null,
   "id": "8573d51d",
   "metadata": {},
   "outputs": [],
   "source": []
  },
  {
   "cell_type": "code",
   "execution_count": null,
   "id": "74434bc9",
   "metadata": {},
   "outputs": [],
   "source": []
  },
  {
   "cell_type": "code",
   "execution_count": null,
   "id": "9b524765",
   "metadata": {},
   "outputs": [],
   "source": []
  },
  {
   "cell_type": "markdown",
   "id": "47087984",
   "metadata": {},
   "source": []
  }
 ],
 "metadata": {
  "kernelspec": {
   "display_name": "Python 3",
   "language": "python",
   "name": "python3"
  },
  "language_info": {
   "codemirror_mode": {
    "name": "ipython",
    "version": 3
   },
   "file_extension": ".py",
   "mimetype": "text/x-python",
   "name": "python",
   "nbconvert_exporter": "python",
   "pygments_lexer": "ipython3",
   "version": "3.8.8"
  }
 },
 "nbformat": 4,
 "nbformat_minor": 5
}
