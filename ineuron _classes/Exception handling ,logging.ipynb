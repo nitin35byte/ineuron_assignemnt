{
 "cells": [
  {
   "cell_type": "code",
   "execution_count": 1,
   "id": "f177f7c3",
   "metadata": {},
   "outputs": [
    {
     "ename": "NameError",
     "evalue": "name 'a' is not defined",
     "output_type": "error",
     "traceback": [
      "\u001b[1;31m---------------------------------------------------------------------------\u001b[0m",
      "\u001b[1;31mNameError\u001b[0m                                 Traceback (most recent call last)",
      "\u001b[1;32m<ipython-input-1-c4d9ef26bde9>\u001b[0m in \u001b[0;36m<module>\u001b[1;34m\u001b[0m\n\u001b[1;32m----> 1\u001b[1;33m \u001b[0ma\u001b[0m\u001b[1;33m/\u001b[0m\u001b[1;36m10\u001b[0m\u001b[1;33m\u001b[0m\u001b[1;33m\u001b[0m\u001b[0m\n\u001b[0m",
      "\u001b[1;31mNameError\u001b[0m: name 'a' is not defined"
     ]
    }
   ],
   "source": [
    "a/10"
   ]
  },
  {
   "cell_type": "code",
   "execution_count": 2,
   "id": "e4dd8e13",
   "metadata": {},
   "outputs": [
    {
     "data": {
      "text/plain": [
       "22"
      ]
     },
     "execution_count": 2,
     "metadata": {},
     "output_type": "execute_result"
    }
   ],
   "source": [
    "f = open(\"test.txt\" ,\"w\")\n",
    "f.write(\"sdgasdhsajdhbsdjnsdvbn\")"
   ]
  },
  {
   "cell_type": "code",
   "execution_count": 4,
   "id": "4faa1fa6",
   "metadata": {},
   "outputs": [
    {
     "name": "stdout",
     "output_type": "stream",
     "text": [
      "there was a  isatke\n"
     ]
    }
   ],
   "source": [
    "try:\n",
    "    f = oprn(\"test.txt3\" ,\"w\")\n",
    "    f.write(\"dsdsdbsnnss\")\n",
    "except:\n",
    "    print(\"there was a  isatke\")"
   ]
  },
  {
   "cell_type": "code",
   "execution_count": 9,
   "id": "cb586815",
   "metadata": {},
   "outputs": [
    {
     "name": "stdout",
     "output_type": "stream",
     "text": [
      "10\n"
     ]
    }
   ],
   "source": [
    "a= 10\n",
    "b = 45\n",
    "try:\n",
    "    print(a)\n",
    "except:\n",
    "    (\"no isue with this code\")"
   ]
  },
  {
   "cell_type": "code",
   "execution_count": 11,
   "id": "b5586ecf",
   "metadata": {},
   "outputs": [
    {
     "name": "stdout",
     "output_type": "stream",
     "text": [
      "this is my code\n"
     ]
    }
   ],
   "source": [
    "l = [3,5,5,6,7,8]\n",
    "try:\n",
    "    \n",
    "    for i in range((l)):\n",
    "        print(l)\n",
    "        \n",
    "except:\n",
    "    print(\"this is my code\")"
   ]
  },
  {
   "cell_type": "code",
   "execution_count": 27,
   "id": "a3645e4b",
   "metadata": {},
   "outputs": [
    {
     "name": "stdout",
     "output_type": "stream",
     "text": [
      "[3, 5, 5, 6, 7, 8]\n",
      "[3, 5, 5, 6, 7, 8]\n",
      "[3, 5, 5, 6, 7, 8]\n",
      "[3, 5, 5, 6, 7, 8]\n",
      "[3, 5, 5, 6, 7, 8]\n",
      "[3, 5, 5, 6, 7, 8]\n",
      "[3, 5, 5, 6, 7, 8]\n",
      "[3, 5, 5, 6, 7, 8]\n",
      "[3, 5, 5, 6, 7, 8]\n"
     ]
    }
   ],
   "source": [
    "try:\n",
    "    a = [[2,4,5],[6,7,8],[5,6,7]]\n",
    "    l1= []\n",
    "    for i in a:\n",
    "        for j in i:\n",
    "            l1.append(j**2)\n",
    "            print(l)\n",
    "except Exception as nitin:\n",
    "    print(nitin)"
   ]
  },
  {
   "cell_type": "code",
   "execution_count": 28,
   "id": "89919eb8",
   "metadata": {
    "scrolled": true
   },
   "outputs": [
    {
     "name": "stdout",
     "output_type": "stream",
     "text": [
      "3\n",
      "5\n",
      "5\n",
      "6\n",
      "7\n",
      "8\n",
      "this is known issue\n"
     ]
    }
   ],
   "source": [
    "try:\n",
    "    l = [3,5,5,6,7,8]\n",
    "    for i in range(len(l)+1):\n",
    "        print(l[i])\n",
    "except  Exception as e:\n",
    "    print(\"this is known issue\")"
   ]
  },
  {
   "cell_type": "code",
   "execution_count": 29,
   "id": "f86f04dc",
   "metadata": {},
   "outputs": [
    {
     "ename": "NameError",
     "evalue": "name 'exception' is not defined",
     "output_type": "error",
     "traceback": [
      "\u001b[1;31m---------------------------------------------------------------------------\u001b[0m",
      "\u001b[1;31mKeyboardInterrupt\u001b[0m                         Traceback (most recent call last)",
      "\u001b[1;32m<ipython-input-29-f8f3ccce02df>\u001b[0m in \u001b[0;36m<module>\u001b[1;34m\u001b[0m\n\u001b[0;32m      1\u001b[0m \u001b[1;32mtry\u001b[0m \u001b[1;33m:\u001b[0m\u001b[1;33m\u001b[0m\u001b[1;33m\u001b[0m\u001b[0m\n\u001b[1;32m----> 2\u001b[1;33m     \u001b[0ma\u001b[0m\u001b[1;33m=\u001b[0m \u001b[0mint\u001b[0m\u001b[1;33m(\u001b[0m\u001b[0minput\u001b[0m\u001b[1;33m(\u001b[0m\u001b[1;33m)\u001b[0m\u001b[1;33m)\u001b[0m\u001b[1;33m\u001b[0m\u001b[1;33m\u001b[0m\u001b[0m\n\u001b[0m\u001b[0;32m      3\u001b[0m     \u001b[0mb\u001b[0m\u001b[1;33m=\u001b[0m \u001b[0mint\u001b[0m\u001b[1;33m(\u001b[0m\u001b[0minput\u001b[0m\u001b[1;33m(\u001b[0m\u001b[1;33m)\u001b[0m\u001b[1;33m)\u001b[0m\u001b[1;33m\u001b[0m\u001b[1;33m\u001b[0m\u001b[0m\n",
      "\u001b[1;32m~\\anaconda3\\lib\\site-packages\\ipykernel\\kernelbase.py\u001b[0m in \u001b[0;36mraw_input\u001b[1;34m(self, prompt)\u001b[0m\n\u001b[0;32m    859\u001b[0m             )\n\u001b[1;32m--> 860\u001b[1;33m         return self._input_request(str(prompt),\n\u001b[0m\u001b[0;32m    861\u001b[0m             \u001b[0mself\u001b[0m\u001b[1;33m.\u001b[0m\u001b[0m_parent_ident\u001b[0m\u001b[1;33m,\u001b[0m\u001b[1;33m\u001b[0m\u001b[1;33m\u001b[0m\u001b[0m\n",
      "\u001b[1;32m~\\anaconda3\\lib\\site-packages\\ipykernel\\kernelbase.py\u001b[0m in \u001b[0;36m_input_request\u001b[1;34m(self, prompt, ident, parent, password)\u001b[0m\n\u001b[0;32m    903\u001b[0m                 \u001b[1;31m# re-raise KeyboardInterrupt, to truncate traceback\u001b[0m\u001b[1;33m\u001b[0m\u001b[1;33m\u001b[0m\u001b[1;33m\u001b[0m\u001b[0m\n\u001b[1;32m--> 904\u001b[1;33m                 \u001b[1;32mraise\u001b[0m \u001b[0mKeyboardInterrupt\u001b[0m\u001b[1;33m(\u001b[0m\u001b[1;34m\"Interrupted by user\"\u001b[0m\u001b[1;33m)\u001b[0m \u001b[1;32mfrom\u001b[0m \u001b[1;32mNone\u001b[0m\u001b[1;33m\u001b[0m\u001b[1;33m\u001b[0m\u001b[0m\n\u001b[0m\u001b[0;32m    905\u001b[0m             \u001b[1;32mexcept\u001b[0m \u001b[0mException\u001b[0m \u001b[1;32mas\u001b[0m \u001b[0me\u001b[0m\u001b[1;33m:\u001b[0m\u001b[1;33m\u001b[0m\u001b[1;33m\u001b[0m\u001b[0m\n",
      "\u001b[1;31mKeyboardInterrupt\u001b[0m: Interrupted by user",
      "\nDuring handling of the above exception, another exception occurred:\n",
      "\u001b[1;31mNameError\u001b[0m                                 Traceback (most recent call last)",
      "\u001b[1;32m<ipython-input-29-f8f3ccce02df>\u001b[0m in \u001b[0;36m<module>\u001b[1;34m\u001b[0m\n\u001b[0;32m      2\u001b[0m     \u001b[0ma\u001b[0m\u001b[1;33m=\u001b[0m \u001b[0mint\u001b[0m\u001b[1;33m(\u001b[0m\u001b[0minput\u001b[0m\u001b[1;33m(\u001b[0m\u001b[1;33m)\u001b[0m\u001b[1;33m)\u001b[0m\u001b[1;33m\u001b[0m\u001b[1;33m\u001b[0m\u001b[0m\n\u001b[0;32m      3\u001b[0m     \u001b[0mb\u001b[0m\u001b[1;33m=\u001b[0m \u001b[0mint\u001b[0m\u001b[1;33m(\u001b[0m\u001b[0minput\u001b[0m\u001b[1;33m(\u001b[0m\u001b[1;33m)\u001b[0m\u001b[1;33m)\u001b[0m\u001b[1;33m\u001b[0m\u001b[1;33m\u001b[0m\u001b[0m\n\u001b[1;32m----> 4\u001b[1;33m \u001b[1;32mexcept\u001b[0m \u001b[0mexception\u001b[0m \u001b[1;32mas\u001b[0m \u001b[0me\u001b[0m\u001b[1;33m:\u001b[0m\u001b[1;33m\u001b[0m\u001b[1;33m\u001b[0m\u001b[0m\n\u001b[0m\u001b[0;32m      5\u001b[0m     \u001b[0mprint\u001b[0m\u001b[1;33m(\u001b[0m\u001b[0me\u001b[0m\u001b[1;33m)\u001b[0m\u001b[1;33m\u001b[0m\u001b[1;33m\u001b[0m\u001b[0m\n\u001b[0;32m      6\u001b[0m \u001b[0mprint\u001b[0m\u001b[1;33m(\u001b[0m\u001b[1;34m\"i m new\"\u001b[0m\u001b[1;33m)\u001b[0m\u001b[1;33m\u001b[0m\u001b[1;33m\u001b[0m\u001b[0m\n",
      "\u001b[1;31mNameError\u001b[0m: name 'exception' is not defined"
     ]
    }
   ],
   "source": [
    "try :\n",
    "    a= int(input())\n",
    "    b= int(input())\n",
    "except exception as e:\n",
    "    print(e)\n",
    "print(\"i m new\")"
   ]
  },
  {
   "cell_type": "code",
   "execution_count": 19,
   "id": "5b10ea99",
   "metadata": {},
   "outputs": [
    {
     "name": "stdout",
     "output_type": "stream",
     "text": [
      "she is hemulating me\n",
      "2\n",
      "54\n",
      "6\n",
      "7\n",
      "8\n"
     ]
    }
   ],
   "source": [
    "try:\n",
    "    f = open(\"test1\" ,'r')\n",
    "    f.write(\"gsdsbansabsabsns\")\n",
    "    print(\"this is my code \")\n",
    "except:\n",
    "    print(\"she is hemulating me\")\n",
    "    \n",
    "l =[2,54,6,7,8]\n",
    "for i in l:\n",
    "    print(i)"
   ]
  },
  {
   "cell_type": "code",
   "execution_count": 12,
   "id": "e1a83e12",
   "metadata": {},
   "outputs": [
    {
     "name": "stdout",
     "output_type": "stream",
     "text": [
      "she is hemulating me\n",
      "2\n",
      "54\n",
      "6\n",
      "7\n",
      "8\n"
     ]
    }
   ],
   "source": [
    "try:\n",
    "    f = open(\"test1\" ,'r')\n",
    "    f.write(\"gsdsbansabsabsns\")\n",
    "    print(\"this is my code \")\n",
    "except:\n",
    "    print(\"she is hemulating me\")\n",
    "try:\n",
    "    \n",
    "    l =[2,54,6,7,8]\n",
    "    for i in l:\n",
    "        print(i)\n",
    "except:\n",
    "    print(\"i m learning data science\")"
   ]
  },
  {
   "cell_type": "code",
   "execution_count": 24,
   "id": "13b284e0",
   "metadata": {},
   "outputs": [
    {
     "name": "stdout",
     "output_type": "stream",
     "text": [
      "dsfhdsbhfb\n",
      "invalid literal for int() with base 10: 'dsfhdsbhfb'\n"
     ]
    }
   ],
   "source": [
    "try:\n",
    "    d={\"key\":\"Nitin\" ,\"key1\":[1,2,3,4,5] ,\"key3\": (3,4,5,7,7)}\n",
    "    d[\"key4\"] = int(input())\n",
    "except Exception as sudh:\n",
    "    print(sudh)"
   ]
  },
  {
   "cell_type": "code",
   "execution_count": 18,
   "id": "35365532",
   "metadata": {},
   "outputs": [
    {
     "name": "stdout",
     "output_type": "stream",
     "text": [
      "ffffddcvfb\n",
      "invalid literal for int() with base 10: 'ffffddcvfb'\n"
     ]
    }
   ],
   "source": [
    "try :\n",
    "    d= {\"key1\" : \"sudh\" , \"key2\" : [1,2,3,4,5] , \"key3\" : (4,5,6,7,78)}\n",
    "    d[\"key4\"] = int(input())\n",
    "except Exception as sudh :\n",
    "    print(sudh)"
   ]
  },
  {
   "cell_type": "code",
   "execution_count": 25,
   "id": "7ef29f7c",
   "metadata": {},
   "outputs": [
    {
     "name": "stdout",
     "output_type": "stream",
     "text": [
      "this will handle an error  [Errno 2] No such file or directory: 'test5.txt'\n"
     ]
    }
   ],
   "source": [
    "try :\n",
    "    f = open(\"test5.txt\" , \"r\")\n",
    "    f.write(\"this is my code in try \")\n",
    "except Exception as e :\n",
    "    print(\"this will handle an error \" ,e) \n",
    "else : \n",
    "    print(\"this will execute once my try block will be executed succesfully\")\n",
    "    f.close()"
   ]
  },
  {
   "cell_type": "code",
   "execution_count": 3,
   "id": "fb459500",
   "metadata": {},
   "outputs": [
    {
     "name": "stdout",
     "output_type": "stream",
     "text": [
      "dgasdbasbhdsjnsnam [Errno 2] No such file or directory: 'test43'\n",
      "bdsanss\n"
     ]
    }
   ],
   "source": [
    "try:\n",
    "    f = open(\"test43\" ,'r')\n",
    "except Exception as e:\n",
    "    print(\"dgasdbasbhdsjnsnam\" , e)\n",
    "finally:\n",
    "    print(\"bdsanss\")"
   ]
  },
  {
   "cell_type": "code",
   "execution_count": 4,
   "id": "8fb71607",
   "metadata": {},
   "outputs": [
    {
     "name": "stdout",
     "output_type": "stream",
     "text": [
      "do this on succesfull eectuion of try block \n",
      "do this for sure\n",
      "handle this \n",
      "it will come to this block for sure \n"
     ]
    }
   ],
   "source": [
    "try :\n",
    "    f = open(\"test43.txt\" , 'w')\n",
    "except Exception as e : \n",
    "    print(\"sdfsdfsfsdfsfds\" , e)\n",
    "else:\n",
    "    print(\"do this on succesfull eectuion of try block \")\n",
    "finally : \n",
    "    print(\"do this for sure\")\n",
    "    try : \n",
    "        \n",
    "        f = open(\"dfsfssdf\" , 'r')\n",
    "    except : \n",
    "         print(\"handle this \")\n",
    "    finally:\n",
    "        print(\"it will come to this block for sure \")"
   ]
  },
  {
   "cell_type": "code",
   "execution_count": null,
   "id": "90227c9c",
   "metadata": {},
   "outputs": [],
   "source": [
    "def askint():\n",
    "    try:\n",
    "        \n",
    "        a = int(input())\n",
    "        return a\n",
    "    except Exception as e:\n",
    "        print(\"This is my input errror messsage\")"
   ]
  },
  {
   "cell_type": "code",
   "execution_count": null,
   "id": "e7871d8f",
   "metadata": {},
   "outputs": [],
   "source": [
    "askint()"
   ]
  },
  {
   "cell_type": "code",
   "execution_count": 2,
   "id": "462a7357",
   "metadata": {},
   "outputs": [],
   "source": [
    "def integer():\n",
    "    while True:\n",
    "        \n",
    "        try:\n",
    "            x = int(input())\n",
    "            break\n",
    "            \n",
    "        except ValueError as e:\n",
    "            print(\"enter in teger\" , e)\n",
    "        "
   ]
  },
  {
   "cell_type": "code",
   "execution_count": 3,
   "id": "8f284173",
   "metadata": {},
   "outputs": [
    {
     "name": "stdout",
     "output_type": "stream",
     "text": [
      "fsfads\n",
      "enter in teger invalid literal for int() with base 10: 'fsfads'\n",
      "DSAZ\n",
      "enter in teger invalid literal for int() with base 10: 'DSAZ'\n",
      "EFA\n",
      "enter in teger invalid literal for int() with base 10: 'EFA'\n",
      "AZ\n",
      "enter in teger invalid literal for int() with base 10: 'AZ'\n",
      "GTFDNSMA\n",
      "enter in teger invalid literal for int() with base 10: 'GTFDNSMA'\n",
      "44\n"
     ]
    }
   ],
   "source": [
    "integer()"
   ]
  },
  {
   "cell_type": "code",
   "execution_count": 4,
   "id": "91de837d",
   "metadata": {},
   "outputs": [],
   "source": [
    "def integer():\n",
    "    while True:\n",
    "        try:\n",
    "            value = int(input())\n",
    "        except ValueError as e:\n",
    "            print(\"value is not recognised\")\n",
    "            continue\n",
    "        if value <0:\n",
    "            print(\"value cant be in negatrive\")\n",
    "            continue\n",
    "        else:\n",
    "            break\n",
    "    return value\n"
   ]
  },
  {
   "cell_type": "code",
   "execution_count": 5,
   "id": "2dc90d52",
   "metadata": {},
   "outputs": [
    {
     "name": "stdout",
     "output_type": "stream",
     "text": [
      "ddbsndm\n",
      "value is not recognised\n",
      "ndasmd'\n",
      "value is not recognised\n",
      "sndm\n",
      "value is not recognised\n",
      "nasm\n",
      "value is not recognised\n",
      "65\n"
     ]
    },
    {
     "data": {
      "text/plain": [
       "65"
      ]
     },
     "execution_count": 5,
     "metadata": {},
     "output_type": "execute_result"
    }
   ],
   "source": [
    "integer()"
   ]
  },
  {
   "cell_type": "code",
   "execution_count": null,
   "id": "a6404e59",
   "metadata": {},
   "outputs": [],
   "source": [
    "def integer():\n",
    "    while True:\n",
    "        try:\n",
    "            value = int(input())\n",
    "            if type(value) == int:\n",
    "        except ValueError as e:\n",
    "            print(\"value is not recognised\")\n",
    "            continue\n",
    "        if value <0:\n",
    "            print(\"value cant be in negatrive\")\n",
    "            continue\n",
    "        else:\n",
    "            break\n",
    "    return value"
   ]
  },
  {
   "cell_type": "code",
   "execution_count": 13,
   "id": "01448337",
   "metadata": {},
   "outputs": [],
   "source": [
    "def test(a):\n",
    "    if a < 0:\n",
    "        raise Exception(\"you have netered a negative value\")\n",
    "    return a"
   ]
  },
  {
   "cell_type": "code",
   "execution_count": 14,
   "id": "2c3dd101",
   "metadata": {},
   "outputs": [
    {
     "ename": "Exception",
     "evalue": "you have netered a negative value",
     "output_type": "error",
     "traceback": [
      "\u001b[1;31m---------------------------------------------------------------------------\u001b[0m",
      "\u001b[1;31mException\u001b[0m                                 Traceback (most recent call last)",
      "\u001b[1;32m<ipython-input-14-4660fe6764bf>\u001b[0m in \u001b[0;36m<module>\u001b[1;34m\u001b[0m\n\u001b[1;32m----> 1\u001b[1;33m \u001b[0mtest\u001b[0m\u001b[1;33m(\u001b[0m\u001b[1;33m-\u001b[0m\u001b[1;36m9\u001b[0m\u001b[1;33m)\u001b[0m\u001b[1;33m\u001b[0m\u001b[1;33m\u001b[0m\u001b[0m\n\u001b[0m",
      "\u001b[1;32m<ipython-input-13-a87da3034a2d>\u001b[0m in \u001b[0;36mtest\u001b[1;34m(a)\u001b[0m\n\u001b[0;32m      1\u001b[0m \u001b[1;32mdef\u001b[0m \u001b[0mtest\u001b[0m\u001b[1;33m(\u001b[0m\u001b[0ma\u001b[0m\u001b[1;33m)\u001b[0m\u001b[1;33m:\u001b[0m\u001b[1;33m\u001b[0m\u001b[1;33m\u001b[0m\u001b[0m\n\u001b[0;32m      2\u001b[0m     \u001b[1;32mif\u001b[0m \u001b[0ma\u001b[0m \u001b[1;33m<\u001b[0m \u001b[1;36m0\u001b[0m\u001b[1;33m:\u001b[0m\u001b[1;33m\u001b[0m\u001b[1;33m\u001b[0m\u001b[0m\n\u001b[1;32m----> 3\u001b[1;33m         \u001b[1;32mraise\u001b[0m \u001b[0mException\u001b[0m\u001b[1;33m(\u001b[0m\u001b[1;34m\"you have netered a negative value\"\u001b[0m\u001b[1;33m)\u001b[0m\u001b[1;33m\u001b[0m\u001b[1;33m\u001b[0m\u001b[0m\n\u001b[0m\u001b[0;32m      4\u001b[0m     \u001b[1;32mreturn\u001b[0m \u001b[0ma\u001b[0m\u001b[1;33m\u001b[0m\u001b[1;33m\u001b[0m\u001b[0m\n",
      "\u001b[1;31mException\u001b[0m: you have netered a negative value"
     ]
    }
   ],
   "source": [
    "test(-9)"
   ]
  },
  {
   "cell_type": "code",
   "execution_count": 12,
   "id": "0a3b46ff",
   "metadata": {},
   "outputs": [
    {
     "ename": "FileNotFoundError",
     "evalue": "[Errno 2] No such file or directory: 'testtxt'",
     "output_type": "error",
     "traceback": [
      "\u001b[1;31m---------------------------------------------------------------------------\u001b[0m",
      "\u001b[1;31mFileNotFoundError\u001b[0m                         Traceback (most recent call last)",
      "\u001b[1;32m<ipython-input-12-585bb3413b36>\u001b[0m in \u001b[0;36m<module>\u001b[1;34m\u001b[0m\n\u001b[1;32m----> 1\u001b[1;33m \u001b[0mg\u001b[0m \u001b[1;33m=\u001b[0m \u001b[0mopen\u001b[0m\u001b[1;33m(\u001b[0m\u001b[1;34m\"testtxt\"\u001b[0m \u001b[1;33m,\u001b[0m\u001b[1;34m'r'\u001b[0m\u001b[1;33m)\u001b[0m\u001b[1;33m\u001b[0m\u001b[1;33m\u001b[0m\u001b[0m\n\u001b[0m",
      "\u001b[1;31mFileNotFoundError\u001b[0m: [Errno 2] No such file or directory: 'testtxt'"
     ]
    }
   ],
   "source": [
    "g = open(\"testtxt\" ,'r')\n"
   ]
  },
  {
   "cell_type": "code",
   "execution_count": 17,
   "id": "6dcbc50c",
   "metadata": {},
   "outputs": [
    {
     "name": "stdout",
     "output_type": "stream",
     "text": [
      "raised my exception division by zero\n"
     ]
    }
   ],
   "source": [
    "try:\n",
    "    a =5/0\n",
    "except  Exception as e:\n",
    "    print(\"raised my exception\" ,e)"
   ]
  },
  {
   "cell_type": "markdown",
   "id": "866a3885",
   "metadata": {},
   "source": [
    "# Loggins"
   ]
  },
  {
   "cell_type": "code",
   "execution_count": 1,
   "id": "64ae1cf9",
   "metadata": {},
   "outputs": [],
   "source": [
    "import logging"
   ]
  },
  {
   "cell_type": "code",
   "execution_count": 2,
   "id": "d7fd0c91",
   "metadata": {},
   "outputs": [],
   "source": [
    "logging.basicConfig(filename = \"test.log\" ,level = logging.INFO)"
   ]
  },
  {
   "cell_type": "code",
   "execution_count": 5,
   "id": "2857afa5",
   "metadata": {},
   "outputs": [],
   "source": [
    "logging.info(\"this is my loggiing fil\")\n",
    "logging.warning(\"this is my loggiing fil\")\n",
    "logging.error(\"this is my loggiing fil\")\n",
    "logging.critical(\"this is my loggiing fil\")"
   ]
  },
  {
   "cell_type": "code",
   "execution_count": 6,
   "id": "ea2e47e1",
   "metadata": {},
   "outputs": [],
   "source": [
    "logging.shutdown()"
   ]
  },
  {
   "cell_type": "code",
   "execution_count": 11,
   "id": "044dcebf",
   "metadata": {},
   "outputs": [],
   "source": [
    "logging.basicConfig(filename = \"test3.log\" ,level = logging.DEBUG ,format = \"%(acstime)s %(message)s\")"
   ]
  },
  {
   "cell_type": "code",
   "execution_count": 3,
   "id": "df702c59",
   "metadata": {},
   "outputs": [],
   "source": [
    "logging.basicConfig(filename = \"test4.log\" ,level = logging.DEBUG ,format = \"%(asctime)s %(message)s\")"
   ]
  },
  {
   "cell_type": "code",
   "execution_count": 4,
   "id": "3375c44f",
   "metadata": {},
   "outputs": [],
   "source": [
    "logging.info(\"this is my info log\")\n",
    "#logging.warning(\"this is my warning log\")\n",
    "logging.debug(\"this is my debug log\")"
   ]
  },
  {
   "cell_type": "code",
   "execution_count": 3,
   "id": "fb7c5c9f",
   "metadata": {},
   "outputs": [],
   "source": [
    "import logging\n",
    "logging.basicConfig(filename = \"test5.log\" ,level = logging.ERROR ,format = \"%(asctime)s%(levelname)s %(message)s\")"
   ]
  },
  {
   "cell_type": "code",
   "execution_count": 4,
   "id": "5c574fba",
   "metadata": {},
   "outputs": [],
   "source": [
    "logging.info(\"this is my info log\")\n",
    "logging.warning(\"this is my warning log\")\n",
    "logging.debug(\"this is my debug log\")"
   ]
  },
  {
   "cell_type": "code",
   "execution_count": null,
   "id": "4298a4cd",
   "metadata": {},
   "outputs": [],
   "source": [
    "\n",
    "WARNING\n",
    "ERROR\n",
    "INFO\n",
    "DEBUG\n"
   ]
  },
  {
   "cell_type": "code",
   "execution_count": 3,
   "id": "b44bad0f",
   "metadata": {},
   "outputs": [],
   "source": [
    "import logging\n",
    "logging.basicConfig(filename = \"test5.log\" ,level = logging.DEBUG ,format = \"%(asctime)s%(levelname)s %(message)s\")"
   ]
  },
  {
   "cell_type": "code",
   "execution_count": 4,
   "id": "3a15325b",
   "metadata": {},
   "outputs": [],
   "source": [
    "logging.info(\"this is my info log\")\n",
    "logging.warning(\"this is my warning log\")\n",
    "logging.debug(\"this is my debug log\")\n",
    "logging.error(\"this is my error log\")"
   ]
  },
  {
   "cell_type": "code",
   "execution_count": 1,
   "id": "954fc1cf",
   "metadata": {},
   "outputs": [],
   "source": [
    "import logging\n",
    "logging.basicConfig(filename = \"test6.log\" ,level = logging.DEBUG ,format = \"%(asctime)s%(levelname)s %(message)s\")"
   ]
  },
  {
   "cell_type": "code",
   "execution_count": 10,
   "id": "5ee99a1e",
   "metadata": {},
   "outputs": [],
   "source": [
    "def divbyzero(a,b):\n",
    "    logging.info(\"this is a start of my code aand i am ry to enter &s and %s\" , a ,b)\n",
    "    try:\n",
    "        div = a/b\n",
    "        logging.info(\"execute succc\")\n",
    "    except Exception as e:\n",
    "        logging.error(\"error has happen\")\n",
    "        logging.exception(\"Exception occured\" + str(e))\n",
    "        "
   ]
  },
  {
   "cell_type": "code",
   "execution_count": 12,
   "id": "4a330ebd",
   "metadata": {
    "collapsed": true
   },
   "outputs": [
    {
     "name": "stderr",
     "output_type": "stream",
     "text": [
      "--- Logging error ---\n",
      "Traceback (most recent call last):\n",
      "  File \"C:\\Users\\lenovo\\anaconda3\\lib\\logging\\__init__.py\", line 1081, in emit\n",
      "    msg = self.format(record)\n",
      "  File \"C:\\Users\\lenovo\\anaconda3\\lib\\logging\\__init__.py\", line 925, in format\n",
      "    return fmt.format(record)\n",
      "  File \"C:\\Users\\lenovo\\anaconda3\\lib\\logging\\__init__.py\", line 664, in format\n",
      "    record.message = record.getMessage()\n",
      "  File \"C:\\Users\\lenovo\\anaconda3\\lib\\logging\\__init__.py\", line 369, in getMessage\n",
      "    msg = msg % self.args\n",
      "TypeError: not all arguments converted during string formatting\n",
      "Call stack:\n",
      "  File \"C:\\Users\\lenovo\\anaconda3\\lib\\runpy.py\", line 194, in _run_module_as_main\n",
      "    return _run_code(code, main_globals, None,\n",
      "  File \"C:\\Users\\lenovo\\anaconda3\\lib\\runpy.py\", line 87, in _run_code\n",
      "    exec(code, run_globals)\n",
      "  File \"C:\\Users\\lenovo\\anaconda3\\lib\\site-packages\\ipykernel_launcher.py\", line 16, in <module>\n",
      "    app.launch_new_instance()\n",
      "  File \"C:\\Users\\lenovo\\anaconda3\\lib\\site-packages\\traitlets\\config\\application.py\", line 845, in launch_instance\n",
      "    app.start()\n",
      "  File \"C:\\Users\\lenovo\\anaconda3\\lib\\site-packages\\ipykernel\\kernelapp.py\", line 612, in start\n",
      "    self.io_loop.start()\n",
      "  File \"C:\\Users\\lenovo\\anaconda3\\lib\\site-packages\\tornado\\platform\\asyncio.py\", line 199, in start\n",
      "    self.asyncio_loop.run_forever()\n",
      "  File \"C:\\Users\\lenovo\\anaconda3\\lib\\asyncio\\base_events.py\", line 570, in run_forever\n",
      "    self._run_once()\n",
      "  File \"C:\\Users\\lenovo\\anaconda3\\lib\\asyncio\\base_events.py\", line 1859, in _run_once\n",
      "    handle._run()\n",
      "  File \"C:\\Users\\lenovo\\anaconda3\\lib\\asyncio\\events.py\", line 81, in _run\n",
      "    self._context.run(self._callback, *self._args)\n",
      "  File \"C:\\Users\\lenovo\\anaconda3\\lib\\site-packages\\tornado\\ioloop.py\", line 688, in <lambda>\n",
      "    lambda f: self._run_callback(functools.partial(callback, future))\n",
      "  File \"C:\\Users\\lenovo\\anaconda3\\lib\\site-packages\\tornado\\ioloop.py\", line 741, in _run_callback\n",
      "    ret = callback()\n",
      "  File \"C:\\Users\\lenovo\\anaconda3\\lib\\site-packages\\tornado\\gen.py\", line 814, in inner\n",
      "    self.ctx_run(self.run)\n",
      "  File \"C:\\Users\\lenovo\\anaconda3\\lib\\site-packages\\tornado\\gen.py\", line 775, in run\n",
      "    yielded = self.gen.send(value)\n",
      "  File \"C:\\Users\\lenovo\\anaconda3\\lib\\site-packages\\ipykernel\\kernelbase.py\", line 365, in process_one\n",
      "    yield gen.maybe_future(dispatch(*args))\n",
      "  File \"C:\\Users\\lenovo\\anaconda3\\lib\\site-packages\\tornado\\gen.py\", line 234, in wrapper\n",
      "    yielded = ctx_run(next, result)\n",
      "  File \"C:\\Users\\lenovo\\anaconda3\\lib\\site-packages\\ipykernel\\kernelbase.py\", line 268, in dispatch_shell\n",
      "    yield gen.maybe_future(handler(stream, idents, msg))\n",
      "  File \"C:\\Users\\lenovo\\anaconda3\\lib\\site-packages\\tornado\\gen.py\", line 234, in wrapper\n",
      "    yielded = ctx_run(next, result)\n",
      "  File \"C:\\Users\\lenovo\\anaconda3\\lib\\site-packages\\ipykernel\\kernelbase.py\", line 543, in execute_request\n",
      "    self.do_execute(\n",
      "  File \"C:\\Users\\lenovo\\anaconda3\\lib\\site-packages\\tornado\\gen.py\", line 234, in wrapper\n",
      "    yielded = ctx_run(next, result)\n",
      "  File \"C:\\Users\\lenovo\\anaconda3\\lib\\site-packages\\ipykernel\\ipkernel.py\", line 306, in do_execute\n",
      "    res = shell.run_cell(code, store_history=store_history, silent=silent)\n",
      "  File \"C:\\Users\\lenovo\\anaconda3\\lib\\site-packages\\ipykernel\\zmqshell.py\", line 536, in run_cell\n",
      "    return super(ZMQInteractiveShell, self).run_cell(*args, **kwargs)\n",
      "  File \"C:\\Users\\lenovo\\anaconda3\\lib\\site-packages\\IPython\\core\\interactiveshell.py\", line 2894, in run_cell\n",
      "    result = self._run_cell(\n",
      "  File \"C:\\Users\\lenovo\\anaconda3\\lib\\site-packages\\IPython\\core\\interactiveshell.py\", line 2940, in _run_cell\n",
      "    return runner(coro)\n",
      "  File \"C:\\Users\\lenovo\\anaconda3\\lib\\site-packages\\IPython\\core\\async_helpers.py\", line 68, in _pseudo_sync_runner\n",
      "    coro.send(None)\n",
      "  File \"C:\\Users\\lenovo\\anaconda3\\lib\\site-packages\\IPython\\core\\interactiveshell.py\", line 3165, in run_cell_async\n",
      "    has_raised = await self.run_ast_nodes(code_ast.body, cell_name,\n",
      "  File \"C:\\Users\\lenovo\\anaconda3\\lib\\site-packages\\IPython\\core\\interactiveshell.py\", line 3357, in run_ast_nodes\n",
      "    if (await self.run_code(code, result,  async_=asy)):\n",
      "  File \"C:\\Users\\lenovo\\anaconda3\\lib\\site-packages\\IPython\\core\\interactiveshell.py\", line 3437, in run_code\n",
      "    exec(code_obj, self.user_global_ns, self.user_ns)\n",
      "  File \"<ipython-input-12-6e8280715c26>\", line 1, in <module>\n",
      "    divbyzero(3,4)\n",
      "  File \"<ipython-input-10-44804890016b>\", line 2, in divbyzero\n",
      "    logging.info(\"this is a start of my code aand i am ry to enter &s and %s\" , a ,b)\n",
      "Message: 'this is a start of my code aand i am ry to enter &s and %s'\n",
      "Arguments: (3, 4)\n"
     ]
    }
   ],
   "source": [
    "divbyzero(3,4)"
   ]
  },
  {
   "cell_type": "markdown",
   "id": "6919f436",
   "metadata": {},
   "source": [
    "# Module"
   ]
  },
  {
   "cell_type": "code",
   "execution_count": 2,
   "id": "c37d51d9",
   "metadata": {},
   "outputs": [],
   "source": [
    "import os"
   ]
  },
  {
   "cell_type": "code",
   "execution_count": 3,
   "id": "32e411f3",
   "metadata": {},
   "outputs": [],
   "source": [
    "def test(a,b):\n",
    "    return a+b"
   ]
  },
  {
   "cell_type": "code",
   "execution_count": 4,
   "id": "3876445e",
   "metadata": {},
   "outputs": [
    {
     "data": {
      "text/plain": [
       "'C:\\\\Users\\\\lenovo\\\\Desktop\\\\FSDS_Data\\\\ineuron _classes'"
      ]
     },
     "execution_count": 4,
     "metadata": {},
     "output_type": "execute_result"
    }
   ],
   "source": [
    "pwd()"
   ]
  },
  {
   "cell_type": "code",
   "execution_count": 7,
   "id": "ec302ae7",
   "metadata": {
    "scrolled": true
   },
   "outputs": [
    {
     "name": "stdout",
     "output_type": "stream",
     "text": [
      " Volume in drive C has no label.\n",
      " Volume Serial Number is 9496-2F8E\n",
      "\n",
      " Directory of C:\\Users\\lenovo\\Desktop\\FSDS_Data\\ineuron _classes\n",
      "\n",
      "03/01/2022  11:21 PM    <DIR>          .\n",
      "03/01/2022  11:21 PM    <DIR>          ..\n",
      "02/26/2022  12:20 PM    <DIR>          .ipynb_checkpoints\n",
      "02/27/2022  10:10 AM             1,173 addresses.csv\n",
      "02/26/2022  11:22 AM             1,469 cassandra.ipynb\n",
      "02/26/2022  12:07 PM         1,868,632 chicago.csv\n",
      "02/27/2022  10:10 AM             1,589 contacts.csv\n",
      "02/27/2022  12:18 PM            81,551 data.csv\n",
      "02/27/2022  12:20 PM            34,355 data2.csv\n",
      "02/06/2022  01:06 PM             6,528 DB connection.ipynb\n",
      "03/01/2022  11:20 PM            33,688 Exception handling ,logging.ipynb\n",
      "02/27/2022  10:10 AM               277 holiday_schedules.csv\n",
      "01/29/2022  11:19 PM            24,433 iNeuron Live classes.ipynb\n",
      "02/11/2022  12:46 AM            36,854 Iterator.ipynb\n",
      "03/01/2022  12:45 AM    <DIR>          live classes_task\n",
      "02/27/2022  10:10 AM            18,015 locations.csv\n",
      "02/14/2022  10:25 PM           682,574 loop, conditions ,Function() ,List comprehension, iterator, lambda ,.ipynb\n",
      "02/27/2022  10:10 AM             1,610 mail_addresses.csv\n",
      "03/01/2022  11:21 PM                 0 Module1.py\n",
      "02/13/2022  11:54 AM            48,299 mongoDB.ipynb\n",
      "02/25/2022  11:50 PM             7,540 MongoDB_ working sheet.ipynb\n",
      "02/27/2022  10:50 AM            78,960 NBA.csv\n",
      "01/31/2022  03:30 PM            18,247 OOPS Concept.ipynb\n",
      "02/27/2022  10:10 AM             2,281 organizations.csv\n",
      "02/05/2022  11:13 PM            19,652 pactice.ipynb\n",
      "02/27/2022  10:58 PM           339,749 Pandas.ipynb\n",
      "02/27/2022  10:10 AM             2,092 phones.csv\n",
      "02/27/2022  10:10 AM                60 programs.csv\n",
      "02/27/2022  10:10 AM               350 regular_schedules.csv\n",
      "02/27/2022  10:10 AM            19,128 services.csv\n",
      "02/26/2022  11:58 AM             9,667 simple_data.csv.xlsx\n",
      "01/30/2022  12:04 AM            23,950 string list indexing.ipynb\n",
      "02/27/2022  10:10 AM            14,618 taxonomy.csv\n",
      "03/01/2022  11:16 PM                 0 test1.py\n",
      "01/30/2022  01:09 AM            18,696 Tuple set dec.ipynb\n",
      "02/01/2022  10:54 PM               576 Untitled.ipynb\n",
      "02/26/2022  12:20 PM                72 Untitled1.ipynb\n",
      "              33 File(s)      3,396,685 bytes\n",
      "               4 Dir(s)  119,472,365,568 bytes free\n"
     ]
    }
   ],
   "source": [
    "ls"
   ]
  },
  {
   "cell_type": "code",
   "execution_count": 6,
   "id": "461d9e66",
   "metadata": {
    "scrolled": true
   },
   "outputs": [
    {
     "data": {
      "text/plain": [
       "<_io.TextIOWrapper name='Module1.py' mode='w' encoding='cp1252'>"
      ]
     },
     "execution_count": 6,
     "metadata": {},
     "output_type": "execute_result"
    }
   ],
   "source": [
    "open(\"Module1.py\" ,'w')"
   ]
  },
  {
   "cell_type": "code",
   "execution_count": 8,
   "id": "d99b99f8",
   "metadata": {},
   "outputs": [],
   "source": [
    "import test1"
   ]
  },
  {
   "cell_type": "code",
   "execution_count": 14,
   "id": "36989c93",
   "metadata": {},
   "outputs": [
    {
     "data": {
      "text/plain": [
       "40"
      ]
     },
     "execution_count": 14,
     "metadata": {},
     "output_type": "execute_result"
    }
   ],
   "source": [
    "test1.test(10,30)"
   ]
  },
  {
   "cell_type": "code",
   "execution_count": null,
   "id": "15b24782",
   "metadata": {},
   "outputs": [],
   "source": []
  },
  {
   "cell_type": "code",
   "execution_count": null,
   "id": "74778c6d",
   "metadata": {},
   "outputs": [],
   "source": []
  },
  {
   "cell_type": "code",
   "execution_count": null,
   "id": "6b9bd9af",
   "metadata": {},
   "outputs": [],
   "source": []
  },
  {
   "cell_type": "code",
   "execution_count": null,
   "id": "47d4d20a",
   "metadata": {},
   "outputs": [],
   "source": []
  }
 ],
 "metadata": {
  "kernelspec": {
   "display_name": "Python 3",
   "language": "python",
   "name": "python3"
  },
  "language_info": {
   "codemirror_mode": {
    "name": "ipython",
    "version": 3
   },
   "file_extension": ".py",
   "mimetype": "text/x-python",
   "name": "python",
   "nbconvert_exporter": "python",
   "pygments_lexer": "ipython3",
   "version": "3.8.8"
  }
 },
 "nbformat": 4,
 "nbformat_minor": 5
}
