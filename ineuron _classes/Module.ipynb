{
 "cells": [
  {
   "cell_type": "code",
   "execution_count": 8,
   "id": "b7169674",
   "metadata": {},
   "outputs": [],
   "source": [
    "import os"
   ]
  },
  {
   "cell_type": "code",
   "execution_count": 12,
   "id": "b534afb7",
   "metadata": {},
   "outputs": [],
   "source": [
    "def test(a,b):\n",
    "    return a+b"
   ]
  },
  {
   "cell_type": "code",
   "execution_count": 13,
   "id": "930bfd94",
   "metadata": {},
   "outputs": [
    {
     "data": {
      "text/plain": [
       "'C:\\\\Users\\\\lenovo\\\\Desktop\\\\FSDS_Data\\\\ineuron _classes'"
      ]
     },
     "execution_count": 13,
     "metadata": {},
     "output_type": "execute_result"
    }
   ],
   "source": [
    "pwd()"
   ]
  },
  {
   "cell_type": "code",
   "execution_count": 12,
   "id": "58a0569f",
   "metadata": {},
   "outputs": [],
   "source": [
    "import test1"
   ]
  },
  {
   "cell_type": "code",
   "execution_count": 13,
   "id": "f3378234",
   "metadata": {},
   "outputs": [
    {
     "data": {
      "text/plain": [
       "40"
      ]
     },
     "execution_count": 13,
     "metadata": {},
     "output_type": "execute_result"
    }
   ],
   "source": [
    "test1.test(10,30)"
   ]
  },
  {
   "cell_type": "code",
   "execution_count": 15,
   "id": "b1c4f491",
   "metadata": {},
   "outputs": [
    {
     "name": "stdout",
     "output_type": "stream",
     "text": [
      "This is my written code\n"
     ]
    }
   ],
   "source": [
    "test1.test3()"
   ]
  },
  {
   "cell_type": "code",
   "execution_count": 17,
   "id": "a49424ad",
   "metadata": {},
   "outputs": [],
   "source": [
    "l = [2,3,4,6,7,]\n",
    "l.reverse()"
   ]
  },
  {
   "cell_type": "code",
   "execution_count": 18,
   "id": "349fa08f",
   "metadata": {
    "scrolled": true
   },
   "outputs": [
    {
     "data": {
      "text/plain": [
       "[7, 6, 4, 3, 2]"
      ]
     },
     "execution_count": 18,
     "metadata": {},
     "output_type": "execute_result"
    }
   ],
   "source": [
    "l"
   ]
  },
  {
   "cell_type": "code",
   "execution_count": 3,
   "id": "dcfd378c",
   "metadata": {},
   "outputs": [
    {
     "data": {
      "text/plain": [
       "<_io.TextIOWrapper name='my_module.py' mode='w' encoding='cp1252'>"
      ]
     },
     "execution_count": 3,
     "metadata": {},
     "output_type": "execute_result"
    }
   ],
   "source": [
    "open(\"my_module.py\",'w')"
   ]
  },
  {
   "cell_type": "code",
   "execution_count": 4,
   "id": "76a45a11",
   "metadata": {
    "scrolled": true
   },
   "outputs": [
    {
     "name": "stdout",
     "output_type": "stream",
     "text": [
      " Volume in drive C has no label.\n",
      " Volume Serial Number is 9496-2F8E\n",
      "\n",
      " Directory of C:\\Users\\lenovo\\Desktop\\FSDS_Data\\ineuron _classes\n",
      "\n",
      "03/03/2022  10:40 PM    <DIR>          .\n",
      "03/03/2022  10:40 PM    <DIR>          ..\n",
      "03/01/2022  11:29 PM    <DIR>          .ipynb_checkpoints\n",
      "03/01/2022  11:36 PM    <DIR>          __pycache__\n",
      "02/27/2022  10:10 AM             1,173 addresses.csv\n",
      "02/26/2022  11:22 AM             1,469 cassandra.ipynb\n",
      "02/26/2022  12:07 PM         1,868,632 chicago.csv\n",
      "02/27/2022  10:10 AM             1,589 contacts.csv\n",
      "02/27/2022  12:18 PM            81,551 data.csv\n",
      "02/27/2022  12:20 PM            34,355 data2.csv\n",
      "02/06/2022  01:06 PM             6,528 DB connection.ipynb\n",
      "03/01/2022  11:36 PM            35,058 Exception handling ,logging.ipynb\n",
      "02/27/2022  10:10 AM               277 holiday_schedules.csv\n",
      "01/29/2022  11:19 PM            24,433 iNeuron Live classes.ipynb\n",
      "02/11/2022  12:46 AM            36,854 Iterator.ipynb\n",
      "03/01/2022  12:45 AM    <DIR>          live classes_task\n",
      "02/27/2022  10:10 AM            18,015 locations.csv\n",
      "02/14/2022  10:25 PM           682,574 loop, conditions ,Function() ,List comprehension, iterator, lambda ,.ipynb\n",
      "02/27/2022  10:10 AM             1,610 mail_addresses.csv\n",
      "03/02/2022  12:11 AM             3,667 Module.ipynb\n",
      "03/01/2022  11:21 PM                 0 Module1.py\n",
      "02/13/2022  11:54 AM            48,299 mongoDB.ipynb\n",
      "02/25/2022  11:50 PM             7,540 MongoDB_ working sheet.ipynb\n",
      "03/03/2022  10:40 PM                 0 my_module.py\n",
      "02/27/2022  10:50 AM            78,960 NBA.csv\n",
      "01/31/2022  03:30 PM            18,247 OOPS Concept.ipynb\n",
      "02/27/2022  10:10 AM             2,281 organizations.csv\n",
      "02/05/2022  11:13 PM            19,652 pactice.ipynb\n",
      "02/27/2022  10:58 PM           339,749 Pandas.ipynb\n",
      "02/27/2022  10:10 AM             2,092 phones.csv\n",
      "02/27/2022  10:10 AM                60 programs.csv\n",
      "02/27/2022  10:10 AM               350 regular_schedules.csv\n",
      "02/27/2022  10:10 AM            19,128 services.csv\n",
      "02/26/2022  11:58 AM             9,667 simple_data.csv.xlsx\n",
      "01/30/2022  12:04 AM            23,950 string list indexing.ipynb\n",
      "02/27/2022  10:10 AM            14,618 taxonomy.csv\n",
      "03/01/2022  11:36 PM               170 test1.py\n",
      "01/30/2022  01:09 AM            18,696 Tuple set dec.ipynb\n",
      "02/01/2022  10:54 PM               576 Untitled.ipynb\n",
      "02/26/2022  12:20 PM                72 Untitled1.ipynb\n",
      "              35 File(s)      3,401,892 bytes\n",
      "               5 Dir(s)  119,190,740,992 bytes free\n"
     ]
    }
   ],
   "source": [
    "ls"
   ]
  },
  {
   "cell_type": "code",
   "execution_count": 7,
   "id": "be9e9a7f",
   "metadata": {},
   "outputs": [],
   "source": [
    "import Module1"
   ]
  },
  {
   "cell_type": "code",
   "execution_count": 9,
   "id": "bbc9981d",
   "metadata": {},
   "outputs": [
    {
     "data": {
      "text/plain": [
       "['data Science', 'Block Chain', 'robotics', 'Cloud']"
      ]
     },
     "execution_count": 9,
     "metadata": {},
     "output_type": "execute_result"
    }
   ],
   "source": [
    "Module1.get_courses()"
   ]
  },
  {
   "cell_type": "code",
   "execution_count": 11,
   "id": "6aad714f",
   "metadata": {},
   "outputs": [
    {
     "data": {
      "text/plain": [
       "'greeting fromm ineuron'"
      ]
     },
     "execution_count": 11,
     "metadata": {},
     "output_type": "execute_result"
    }
   ],
   "source": [
    "Module1.greeting()"
   ]
  },
  {
   "cell_type": "code",
   "execution_count": null,
   "id": "b290b983",
   "metadata": {},
   "outputs": [],
   "source": []
  },
  {
   "cell_type": "code",
   "execution_count": null,
   "id": "6e6a0e17",
   "metadata": {},
   "outputs": [],
   "source": []
  },
  {
   "cell_type": "code",
   "execution_count": null,
   "id": "a14d24a1",
   "metadata": {},
   "outputs": [],
   "source": []
  },
  {
   "cell_type": "code",
   "execution_count": null,
   "id": "b0ca04d8",
   "metadata": {},
   "outputs": [],
   "source": []
  }
 ],
 "metadata": {
  "kernelspec": {
   "display_name": "Python 3",
   "language": "python",
   "name": "python3"
  },
  "language_info": {
   "codemirror_mode": {
    "name": "ipython",
    "version": 3
   },
   "file_extension": ".py",
   "mimetype": "text/x-python",
   "name": "python",
   "nbconvert_exporter": "python",
   "pygments_lexer": "ipython3",
   "version": "3.8.8"
  }
 },
 "nbformat": 4,
 "nbformat_minor": 5
}
