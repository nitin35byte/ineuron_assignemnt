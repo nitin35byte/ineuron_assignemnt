{
 "cells": [
  {
   "cell_type": "markdown",
   "id": "33e59be7",
   "metadata": {},
   "source": [
    "# Advance Assignment-1"
   ]
  },
  {
   "cell_type": "code",
   "execution_count": null,
   "id": "ad4a5856",
   "metadata": {},
   "outputs": [],
   "source": [
    "1. What is the purpose of Python's OOP?\n",
    "Ans:\n",
    "object-oriented Programming (OOPs) is a programming paradigm that uses objects and classes in programming. \n",
    "It aims to implement real-world entities like inheritance, polymorphisms, encapsulation, etc."
   ]
  },
  {
   "cell_type": "code",
   "execution_count": null,
   "id": "ccb86749",
   "metadata": {},
   "outputs": [],
   "source": [
    "2. Where does an inheritance search look for an attribute?\n",
    "Ans:\n",
    "inheritance search is simply a search of the tree from bottom to top looking for the lowest occurrence of an attribute name."
   ]
  },
  {
   "cell_type": "code",
   "execution_count": null,
   "id": "b8847892",
   "metadata": {},
   "outputs": [],
   "source": [
    "3.How do you distinguish between a class object and an instance object?\n",
    "Ans:\n",
    "The class = the blue print. The Object is an actual thing that is built based on the 'blue print'\n",
    "An instance is a virtual copy (but not a real copy) of the object."
   ]
  },
  {
   "cell_type": "code",
   "execution_count": null,
   "id": "1fd3f9a1",
   "metadata": {},
   "outputs": [],
   "source": [
    "4.What makes the first argument in a class’s method function special?\n",
    "Ans:\n",
    "The first argument of every class method, including init, is always a reference to the current instance of the class.\n",
    "By convention, this argument is always named self"
   ]
  },
  {
   "cell_type": "code",
   "execution_count": null,
   "id": "3e681bf3",
   "metadata": {},
   "outputs": [],
   "source": [
    "5.What is the purpose of the __init__ method?\n",
    "Ans:\n",
    "The __init__() function is called automatically every time the class is being used to create a new object.\n",
    "The __init__ method lets the class initialize the object's attributes"
   ]
  },
  {
   "cell_type": "code",
   "execution_count": null,
   "id": "53c2f0c0",
   "metadata": {},
   "outputs": [],
   "source": [
    "def __init__(self, name, age):"
   ]
  },
  {
   "cell_type": "code",
   "execution_count": null,
   "id": "cdb1426f",
   "metadata": {},
   "outputs": [],
   "source": [
    "6.What is the process for creating a class instance?\n",
    "Ans:\n",
    "Instantiation: The 'new' key word is used to create the object.The 'new' keyword is followed by a\n",
    "call to a constructor. This call initializes the new object."
   ]
  },
  {
   "cell_type": "code",
   "execution_count": null,
   "id": "670d5f54",
   "metadata": {},
   "outputs": [],
   "source": [
    "7.What is the process for creating a class?\n",
    "Ans:\n",
    "To create a class, use the keyword class:"
   ]
  },
  {
   "cell_type": "code",
   "execution_count": 4,
   "id": "24448142",
   "metadata": {},
   "outputs": [],
   "source": [
    "class MyClass:\n",
    "  x = 5"
   ]
  },
  {
   "cell_type": "code",
   "execution_count": null,
   "id": "a988cb80",
   "metadata": {},
   "outputs": [],
   "source": [
    "8.How would you define the superclasses of a class?\n",
    "Ans:\n",
    "The class from which a class inherits is called the parent or superclass"
   ]
  },
  {
   "cell_type": "code",
   "execution_count": 5,
   "id": "0f3df7fa",
   "metadata": {},
   "outputs": [
    {
     "name": "stdout",
     "output_type": "stream",
     "text": [
      "Nitin False\n",
      "Nitin True\n"
     ]
    }
   ],
   "source": [
    "class Person(object):\n",
    "      \n",
    "    def __init__(self, name):\n",
    "        self.name = name\n",
    "  \n",
    "    def getName(self):\n",
    "        return self.name\n",
    "\n",
    "    def isEmployee(self):\n",
    "        return False\n",
    "  \n",
    "  \n",
    "class Employee(Person):\n",
    "  \n",
    "    def isEmployee(self):\n",
    "        return True\n",
    "  \n",
    "emp = Person(\"Nitin\") \n",
    "print(emp.getName(), emp.isEmployee())\n",
    "  \n",
    "emp = Employee(\"Nitin\") \n",
    "print(emp.getName(), emp.isEmployee())"
   ]
  },
  {
   "cell_type": "code",
   "execution_count": null,
   "id": "af9cb964",
   "metadata": {},
   "outputs": [],
   "source": []
  }
 ],
 "metadata": {
  "kernelspec": {
   "display_name": "Python 3",
   "language": "python",
   "name": "python3"
  },
  "language_info": {
   "codemirror_mode": {
    "name": "ipython",
    "version": 3
   },
   "file_extension": ".py",
   "mimetype": "text/x-python",
   "name": "python",
   "nbconvert_exporter": "python",
   "pygments_lexer": "ipython3",
   "version": "3.8.8"
  }
 },
 "nbformat": 4,
 "nbformat_minor": 5
}
