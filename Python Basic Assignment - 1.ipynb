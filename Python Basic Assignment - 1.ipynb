{
 "cells": [
  {
   "cell_type": "markdown",
   "id": "d4a87c9a",
   "metadata": {},
   "source": [
    "# Assignment-1"
   ]
  },
  {
   "cell_type": "code",
   "execution_count": null,
   "id": "2d47f257",
   "metadata": {},
   "outputs": [],
   "source": [
    "1. In the below elements which of them are values or an expression? eg:- values can be integer or string and expressions will be mathematical operators.\n",
    "\n",
    "*            : Expression(Mathematical operators)\n",
    "'hello'      : Value (String) \n",
    "-87.8        : Value (Float)\n",
    "-            : Expression(Mathematical operators)\n",
    "/            : Expression(Mathematical operators)\n",
    "6            : Value (Integer)"
   ]
  },
  {
   "cell_type": "code",
   "execution_count": null,
   "id": "fe56da4c",
   "metadata": {},
   "outputs": [],
   "source": [
    "2. What is the difference between string and variable?\n",
    "\n",
    "String:String is a one of the data type which collection of alphabets, words or other characters. (ex -abcsd)\n",
    "variable : Variable is a container which can store the value(data) and this data can be of int, float, str data-type."
   ]
  },
  {
   "cell_type": "code",
   "execution_count": null,
   "id": "66c629dc",
   "metadata": {},
   "outputs": [],
   "source": [
    "3.Describe three different data types.\n",
    "\n",
    " a.Int : Int datatype is used to repersent the integer values (eg. a = 123, b = -421)\n",
    "\n",
    " b.float : Float datatype is used to repersent the real numbers(floating point) (eg. c = 12.34, d = -3.69)\n",
    "\n",
    " c.string: String is used to repersent the sequence of characters. Also the characters can be numbers, special character, and alphabates. (eg. s1 = \"FSDS!\", s2 = \"<!@87847\")\n"
   ]
  },
  {
   "cell_type": "code",
   "execution_count": null,
   "id": "c4ac8d4f",
   "metadata": {},
   "outputs": [],
   "source": [
    "4. What is an expression made up of? What do all expressions do?\n",
    "\n",
    "Expression : An expression is a construct made up of variables, operators, and method invocations, which are constructed according to the syntax of the language, that evaluates to a single value.\n",
    "\n",
    "Expression can used to return some other type of value."
   ]
  },
  {
   "cell_type": "code",
   "execution_count": null,
   "id": "92c4bc69",
   "metadata": {},
   "outputs": [],
   "source": [
    "5. This assignment statements, like spam = 10. What is the difference between an expression and a statement?\n",
    "\n",
    "Assignment statement : It is the statement where some value or expression is assigned to a variable or constant.\n",
    "Difference : The difference is that expression itself is assigned to a variable or constant.\n",
    "\n",
    "For Eg: spam = 10 * i\n",
    "In the example \" spam = 10 i \" is a assignment statement whereas the \" 10 a \" is an expression.\n"
   ]
  },
  {
   "cell_type": "code",
   "execution_count": 3,
   "id": "602ec07b",
   "metadata": {},
   "outputs": [
    {
     "data": {
      "text/plain": [
       "23"
      ]
     },
     "execution_count": 3,
     "metadata": {},
     "output_type": "execute_result"
    }
   ],
   "source": [
    "6. After running the following code, what does the variable bacon contain?\n",
    "bacon = 22\n",
    "bacon + 1\n"
   ]
  },
  {
   "cell_type": "code",
   "execution_count": null,
   "id": "1bed83d7",
   "metadata": {},
   "outputs": [],
   "source": [
    "bacon will contain 22."
   ]
  },
  {
   "cell_type": "code",
   "execution_count": null,
   "id": "ae221427",
   "metadata": {},
   "outputs": [],
   "source": [
    "bacon = 22"
   ]
  },
  {
   "cell_type": "code",
   "execution_count": 4,
   "id": "b59724b3",
   "metadata": {},
   "outputs": [
    {
     "data": {
      "text/plain": [
       "23"
      ]
     },
     "execution_count": 4,
     "metadata": {},
     "output_type": "execute_result"
    }
   ],
   "source": [
    "bacon +1"
   ]
  },
  {
   "cell_type": "code",
   "execution_count": 5,
   "id": "4a33ba39",
   "metadata": {},
   "outputs": [
    {
     "name": "stdout",
     "output_type": "stream",
     "text": [
      "22\n"
     ]
    }
   ],
   "source": [
    "print(bacon)"
   ]
  },
  {
   "cell_type": "code",
   "execution_count": null,
   "id": "14540288",
   "metadata": {},
   "outputs": [],
   "source": [
    "7. What should the values of the following two terms be?\n",
    "'spam' + 'spamspam'\n",
    "'spam' * 3\n",
    "\n"
   ]
  },
  {
   "cell_type": "code",
   "execution_count": null,
   "id": "f5663331",
   "metadata": {},
   "outputs": [],
   "source": [
    "Ans:\n",
    "'spam' + 'spamspam' = 'spamspamspam'\n",
    "'spam' * 3 = 'spamspamspam'"
   ]
  },
  {
   "cell_type": "code",
   "execution_count": 6,
   "id": "0d32fbbf",
   "metadata": {},
   "outputs": [
    {
     "data": {
      "text/plain": [
       "'spamspamspam'"
      ]
     },
     "execution_count": 6,
     "metadata": {},
     "output_type": "execute_result"
    }
   ],
   "source": [
    "'spam' + 'spamspam'"
   ]
  },
  {
   "cell_type": "code",
   "execution_count": 8,
   "id": "169a7255",
   "metadata": {},
   "outputs": [
    {
     "data": {
      "text/plain": [
       "'spamspamspam'"
      ]
     },
     "execution_count": 8,
     "metadata": {},
     "output_type": "execute_result"
    }
   ],
   "source": [
    "'spam' * 3"
   ]
  },
  {
   "cell_type": "code",
   "execution_count": null,
   "id": "5f8e8a6c",
   "metadata": {},
   "outputs": [],
   "source": [
    "8. Why is eggs a valid variable name while 100 is invalid?\n",
    "\n",
    "Ans: Because the variable declartion in python is that the variable name must start with a alphabate or underscore '_'"
   ]
  },
  {
   "cell_type": "code",
   "execution_count": null,
   "id": "54c1e978",
   "metadata": {},
   "outputs": [],
   "source": [
    "9. What three functions can be used to get the integer, floating-point number, or string version of a value?\n",
    "\n",
    "Ans:\n",
    "for integer: int()\n",
    "for floating: float()\n",
    "for string : str()"
   ]
  },
  {
   "cell_type": "code",
   "execution_count": 9,
   "id": "63f5fdf9",
   "metadata": {},
   "outputs": [
    {
     "data": {
      "text/plain": [
       "444"
      ]
     },
     "execution_count": 9,
     "metadata": {},
     "output_type": "execute_result"
    }
   ],
   "source": [
    "int(444)"
   ]
  },
  {
   "cell_type": "code",
   "execution_count": 10,
   "id": "c826c219",
   "metadata": {},
   "outputs": [
    {
     "data": {
      "text/plain": [
       "12.4"
      ]
     },
     "execution_count": 10,
     "metadata": {},
     "output_type": "execute_result"
    }
   ],
   "source": [
    "float(12.4)"
   ]
  },
  {
   "cell_type": "code",
   "execution_count": 11,
   "id": "7b2f1671",
   "metadata": {},
   "outputs": [
    {
     "data": {
      "text/plain": [
       "'Nitin'"
      ]
     },
     "execution_count": 11,
     "metadata": {},
     "output_type": "execute_result"
    }
   ],
   "source": [
    "str(\"Nitin\")"
   ]
  },
  {
   "cell_type": "code",
   "execution_count": 12,
   "id": "c74c1d1e",
   "metadata": {},
   "outputs": [
    {
     "data": {
      "text/plain": [
       "'363'"
      ]
     },
     "execution_count": 12,
     "metadata": {},
     "output_type": "execute_result"
    }
   ],
   "source": [
    "str()"
   ]
  },
  {
   "cell_type": "code",
   "execution_count": null,
   "id": "1230156c",
   "metadata": {},
   "outputs": [],
   "source": [
    "10. Why does this expression cause an error? How can you fix it?\n",
    "'I have eaten ' + 99 + ' burritos.'\n",
    "\n",
    "Ans:concatenate operation between string and int is not possbile. So it will throw an error\n",
    "Fix: To fix this error we can typecast the int value using str(99)\n"
   ]
  },
  {
   "cell_type": "code",
   "execution_count": 13,
   "id": "b489943e",
   "metadata": {},
   "outputs": [
    {
     "ename": "TypeError",
     "evalue": "can only concatenate str (not \"int\") to str",
     "output_type": "error",
     "traceback": [
      "\u001b[1;31m---------------------------------------------------------------------------\u001b[0m",
      "\u001b[1;31mTypeError\u001b[0m                                 Traceback (most recent call last)",
      "\u001b[1;32m<ipython-input-13-d24137131a5c>\u001b[0m in \u001b[0;36m<module>\u001b[1;34m\u001b[0m\n\u001b[1;32m----> 1\u001b[1;33m \u001b[1;34m'I have eaten '\u001b[0m \u001b[1;33m+\u001b[0m \u001b[1;36m99\u001b[0m \u001b[1;33m+\u001b[0m \u001b[1;34m' burritos.'\u001b[0m\u001b[1;33m\u001b[0m\u001b[1;33m\u001b[0m\u001b[0m\n\u001b[0m",
      "\u001b[1;31mTypeError\u001b[0m: can only concatenate str (not \"int\") to str"
     ]
    }
   ],
   "source": [
    "'I have eaten ' + 99 + ' burritos.'"
   ]
  },
  {
   "cell_type": "code",
   "execution_count": 14,
   "id": "59b1f273",
   "metadata": {},
   "outputs": [
    {
     "data": {
      "text/plain": [
       "'I have eaten 99 burritos.'"
      ]
     },
     "execution_count": 14,
     "metadata": {},
     "output_type": "execute_result"
    }
   ],
   "source": [
    "'I have eaten ' + str(99) + ' burritos.'"
   ]
  }
 ],
 "metadata": {
  "kernelspec": {
   "display_name": "Python 3",
   "language": "python",
   "name": "python3"
  },
  "language_info": {
   "codemirror_mode": {
    "name": "ipython",
    "version": 3
   },
   "file_extension": ".py",
   "mimetype": "text/x-python",
   "name": "python",
   "nbconvert_exporter": "python",
   "pygments_lexer": "ipython3",
   "version": "3.8.8"
  }
 },
 "nbformat": 4,
 "nbformat_minor": 5
}
