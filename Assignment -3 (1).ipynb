{
 "cells": [
  {
   "cell_type": "code",
   "execution_count": null,
   "id": "70afeead",
   "metadata": {},
   "outputs": [],
   "source": [
    "1. Why are functions advantageous to have in your programs?\n",
    "\n",
    "Ans:\n",
    "Functions reduce the need for duplicate code.\n",
    "Advantages:\n",
    "\n",
    "Increase modularity\n",
    "Increase code reusibility\n",
    "Reduce amount of code"
   ]
  },
  {
   "cell_type": "code",
   "execution_count": null,
   "id": "0f3560d8",
   "metadata": {},
   "outputs": [],
   "source": [
    "2. When does the code in a function run: when it's specified or when it's called?\n",
    "Ans:\n",
    "When a function is \"called\" the program \"leaves\" the current section of code and begins to execute the first line inside the function"
   ]
  },
  {
   "cell_type": "code",
   "execution_count": null,
   "id": "8a6f683d",
   "metadata": {},
   "outputs": [],
   "source": [
    "3. What statement creates a function?\n",
    "Ans:\n",
    "The “def” keyword is a statement for defining a function.\n",
    "def function_name():"
   ]
  },
  {
   "cell_type": "code",
   "execution_count": 1,
   "id": "4a47ed78",
   "metadata": {},
   "outputs": [],
   "source": [
    "def function3():\n",
    "    pass"
   ]
  },
  {
   "cell_type": "code",
   "execution_count": null,
   "id": "431f977e",
   "metadata": {},
   "outputs": [],
   "source": [
    "4. What is the difference between a function and a function call?\n",
    "\n",
    "Ans:\n",
    "Function: Function is set of codes which produce some result. Function is useless unless it is invoked or called.\n",
    "Function Call: Function call is used to invoke or execute set of codes present inside the function.\n"
   ]
  },
  {
   "cell_type": "code",
   "execution_count": 3,
   "id": "6df036ed",
   "metadata": {},
   "outputs": [
    {
     "data": {
      "text/plain": [
       "'Inside the function 4'"
      ]
     },
     "execution_count": 3,
     "metadata": {},
     "output_type": "execute_result"
    }
   ],
   "source": [
    "def function4():  # Function\n",
    "    return \"ineuron FSDS 4\"\n",
    "\n",
    "function4()     # Function call\n",
    "'Inside the function 4'\n"
   ]
  },
  {
   "cell_type": "code",
   "execution_count": null,
   "id": "9558e57d",
   "metadata": {},
   "outputs": [],
   "source": [
    "5. How many global scopes are there in a Python program? How many local scopes?\n",
    "Ans:\n",
    "There are 1 global scopes and 1 local scope in the python program."
   ]
  },
  {
   "cell_type": "code",
   "execution_count": null,
   "id": "da56b3b2",
   "metadata": {},
   "outputs": [],
   "source": [
    "6. What happens to variables in a local scope when the function call returns?\n",
    "Ans:\n",
    "The local variables are destroyed when function call returns."
   ]
  },
  {
   "cell_type": "code",
   "execution_count": null,
   "id": "7cec95ad",
   "metadata": {},
   "outputs": [],
   "source": [
    "7. What is the concept of a return value? Is it possible to have a return value in an expression?\n",
    "Ans:\n",
    "Return value is value, varible or expression which a function can return.\n",
    "Yes function return value can be an expression\n",
    "\n"
   ]
  },
  {
   "cell_type": "code",
   "execution_count": 8,
   "id": "1effc62a",
   "metadata": {},
   "outputs": [
    {
     "data": {
      "text/plain": [
       "30"
      ]
     },
     "execution_count": 8,
     "metadata": {},
     "output_type": "execute_result"
    }
   ],
   "source": [
    "def function7(x,y):\n",
    "    return x+y   ## Returning the expression\n",
    "\n",
    "function7(10, 20)"
   ]
  },
  {
   "cell_type": "code",
   "execution_count": null,
   "id": "5abe561a",
   "metadata": {},
   "outputs": [],
   "source": [
    "8. If a function does not have a return statement, what is the return value of a call to that function?\n",
    " Ans:\n",
    " If a function does not have a return statement that means the function is not returning any values.In this case it will display \"NoneType\""
   ]
  },
  {
   "cell_type": "code",
   "execution_count": 31,
   "id": "a2f16185",
   "metadata": {},
   "outputs": [
    {
     "data": {
      "text/plain": [
       "NoneType"
      ]
     },
     "execution_count": 31,
     "metadata": {},
     "output_type": "execute_result"
    }
   ],
   "source": [
    "def function():\n",
    "    return\n",
    "    a = 90\n",
    "    b =7\n",
    "type(function())"
   ]
  },
  {
   "cell_type": "code",
   "execution_count": null,
   "id": "38a2c1bc",
   "metadata": {},
   "outputs": [],
   "source": [
    "9.How do you make a function variable refer to the global variable?\n",
    "ans :We can use global keyword to declare which variables are global."
   ]
  },
  {
   "cell_type": "code",
   "execution_count": 7,
   "id": "d1af864a",
   "metadata": {
    "scrolled": true
   },
   "outputs": [
    {
     "name": "stdout",
     "output_type": "stream",
     "text": [
      "0\n",
      "0\n"
     ]
    }
   ],
   "source": [
    "var  = 0\n",
    "def fun():\n",
    "    global l1\n",
    "    var1 = 45\n",
    "    \n",
    "print(var)\n",
    "fun()\n",
    "print(var)"
   ]
  },
  {
   "cell_type": "code",
   "execution_count": null,
   "id": "9c927030",
   "metadata": {},
   "outputs": [],
   "source": [
    "10. What is the data type of None?\n",
    "Ans:\n",
    "None is used to define a null value. It is not the same as an empty string. It is a data type of the class NoneType object"
   ]
  },
  {
   "cell_type": "code",
   "execution_count": null,
   "id": "abc47c39",
   "metadata": {},
   "outputs": [],
   "source": [
    "11. What does the sentence import areallyourpetsnamederic do?\n",
    "Ans:\n",
    "The statement \"import areallyourpetsnamederic\" will import the module or package areallyourpetsnamederic."
   ]
  },
  {
   "cell_type": "code",
   "execution_count": null,
   "id": "89093194",
   "metadata": {},
   "outputs": [],
   "source": [
    "12. If you had a bacon() feature in a spam module, what would you call it after importing spam?\n",
    "Ans:\n",
    "import spam\n",
    "spam.bacon()"
   ]
  },
  {
   "cell_type": "code",
   "execution_count": null,
   "id": "5932ce59",
   "metadata": {},
   "outputs": [],
   "source": [
    "13. What can you do to save a programme from crashing if it encounters an error?\n",
    "Ans:\n",
    "To save the program from crashing over a runtime error we can use the try and except statement."
   ]
  },
  {
   "cell_type": "code",
   "execution_count": 8,
   "id": "387113e6",
   "metadata": {},
   "outputs": [],
   "source": [
    "try:\n",
    "    pass\n",
    "except:\n",
    "    pass"
   ]
  },
  {
   "cell_type": "code",
   "execution_count": null,
   "id": "61e5ba02",
   "metadata": {},
   "outputs": [],
   "source": [
    "14. What is the purpose of the try clause? What is the purpose of the except clause?\n",
    "Ans:\n",
    "Together try and except block is used to save programme from crashing when an error is encountered.\n",
    "Try: Try block is used for any suspicious code which can throw a runtime error.\n",
    "Except: Except block is used to catch error if any encountered inside try block."
   ]
  },
  {
   "cell_type": "code",
   "execution_count": null,
   "id": "57abaad5",
   "metadata": {},
   "outputs": [],
   "source": []
  },
  {
   "cell_type": "code",
   "execution_count": null,
   "id": "9c54e94a",
   "metadata": {},
   "outputs": [],
   "source": []
  },
  {
   "cell_type": "code",
   "execution_count": null,
   "id": "28250485",
   "metadata": {},
   "outputs": [],
   "source": []
  }
 ],
 "metadata": {
  "kernelspec": {
   "display_name": "Python 3",
   "language": "python",
   "name": "python3"
  },
  "language_info": {
   "codemirror_mode": {
    "name": "ipython",
    "version": 3
   },
   "file_extension": ".py",
   "mimetype": "text/x-python",
   "name": "python",
   "nbconvert_exporter": "python",
   "pygments_lexer": "ipython3",
   "version": "3.8.8"
  }
 },
 "nbformat": 4,
 "nbformat_minor": 5
}
