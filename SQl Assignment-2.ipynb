{
 "cells": [
  {
   "cell_type": "markdown",
   "id": "3234f8a6",
   "metadata": {},
   "source": [
    "# Write an SQL query to print the first three characters of  FIRST_NAME from Workertable.\n",
    "\n",
    "\n"
   ]
  },
  {
   "cell_type": "code",
   "execution_count": null,
   "id": "8d10a725",
   "metadata": {},
   "outputs": [],
   "source": [
    "Sol:\n",
    "SELECT SUBSTRING(first_name,1,3) FROM employees;\n"
   ]
  },
  {
   "cell_type": "markdown",
   "id": "dd1a5db7",
   "metadata": {},
   "source": [
    "# Write an SQL query to find the position of the alphabet (‘a’) in the first name\n",
    "column ‘Amitabh’ from Worker table."
   ]
  },
  {
   "cell_type": "code",
   "execution_count": null,
   "id": "113cfad4",
   "metadata": {},
   "outputs": [],
   "source": [
    "Sol:\n",
    "Select INSTR(FIRST_NAME, BINARY'a') from Worker where FIRST_NAME = 'Bezalel';"
   ]
  },
  {
   "cell_type": "code",
   "execution_count": null,
   "id": "aa98aaf8",
   "metadata": {},
   "outputs": [],
   "source": [
    "Write an SQL query to print the name of employees having the highest salary in each\n",
    "department."
   ]
  },
  {
   "cell_type": "code",
   "execution_count": null,
   "id": "e87d7801",
   "metadata": {},
   "outputs": [],
   "source": [
    "Sol:\n",
    "SELECT DepartmentName, MAX(Salary) \n",
    "FROM worker e RIGHT JOIN Department d ON e.DepartmentId = d.DepartmentID \n",
    "GROUP BY DepartmentName\n"
   ]
  }
 ],
 "metadata": {
  "kernelspec": {
   "display_name": "Python 3",
   "language": "python",
   "name": "python3"
  },
  "language_info": {
   "codemirror_mode": {
    "name": "ipython",
    "version": 3
   },
   "file_extension": ".py",
   "mimetype": "text/x-python",
   "name": "python",
   "nbconvert_exporter": "python",
   "pygments_lexer": "ipython3",
   "version": "3.8.8"
  }
 },
 "nbformat": 4,
 "nbformat_minor": 5
}
