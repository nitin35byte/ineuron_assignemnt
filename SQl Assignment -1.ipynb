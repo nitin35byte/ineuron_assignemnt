{
 "cells": [
  {
   "cell_type": "markdown",
   "id": "c26b3c4a",
   "metadata": {},
   "source": [
    "# SQL _Assignemnt-1"
   ]
  },
  {
   "cell_type": "code",
   "execution_count": null,
   "id": "dd3191d0",
   "metadata": {},
   "outputs": [],
   "source": [
    "# Q-1. Write an SQL query to fetch “FIRST_NAME” from Worker table using the alias name as <WORKER_NAME>.\n",
    "select FIRST_NAME as WORKER_NAME from worker;"
   ]
  },
  {
   "cell_type": "code",
   "execution_count": null,
   "id": "0bd3cf9e",
   "metadata": {},
   "outputs": [],
   "source": [
    "# Q-2. Write an SQL query to fetch unique values of DEPARTMENT from Worker table.\n",
    "select distinct DEPARTMENT from WORKER;"
   ]
  },
  {
   "cell_type": "code",
   "execution_count": null,
   "id": "7230b646",
   "metadata": {},
   "outputs": [],
   "source": [
    "\n",
    "# Q-3. Write an SQL query to show the last 5 record from a table.\n",
    "(select * from WORKER order by FIRST_NAME desc limit 5) ORDER BY FIRST_NAME ASC;"
   ]
  },
  {
   "cell_type": "code",
   "execution_count": null,
   "id": "dbe850f3",
   "metadata": {},
   "outputs": [],
   "source": []
  }
 ],
 "metadata": {
  "kernelspec": {
   "display_name": "Python 3",
   "language": "python",
   "name": "python3"
  },
  "language_info": {
   "codemirror_mode": {
    "name": "ipython",
    "version": 3
   },
   "file_extension": ".py",
   "mimetype": "text/x-python",
   "name": "python",
   "nbconvert_exporter": "python",
   "pygments_lexer": "ipython3",
   "version": "3.8.8"
  }
 },
 "nbformat": 4,
 "nbformat_minor": 5
}
