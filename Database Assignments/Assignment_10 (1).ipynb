{
 "cells": [
  {
   "cell_type": "markdown",
   "id": "3d23db84",
   "metadata": {},
   "source": [
    "## Write an SQL query to determine the 5th highest salary without using TOP or limit method."
   ]
  },
  {
   "cell_type": "code",
   "execution_count": null,
   "id": "99a60b89",
   "metadata": {},
   "outputs": [],
   "source": [
    "Sol:\n",
    "    SELECT First_Name, Salary FROM worker e1 WHERE 5-1 = (SELECT COUNT(DISTINCT Salary) FROM worker e2 WHERE e2.Salary > e1.Salary"
   ]
  },
  {
   "cell_type": "markdown",
   "id": "bf634c24",
   "metadata": {},
   "source": [
    "### Write an SQL query to fetch the list of employees with the same salary."
   ]
  },
  {
   "cell_type": "code",
   "execution_count": null,
   "id": "19a4d60e",
   "metadata": {},
   "outputs": [],
   "source": [
    "Sol:\n",
    "    Select distinct W.First_Name, W.Salary from worker W, worker W1 where W.Salary = W1.Salary and W.First_Name != W1.First_Name"
   ]
  }
 ],
 "metadata": {
  "kernelspec": {
   "display_name": "Python 3",
   "language": "python",
   "name": "python3"
  },
  "language_info": {
   "codemirror_mode": {
    "name": "ipython",
    "version": 3
   },
   "file_extension": ".py",
   "mimetype": "text/x-python",
   "name": "python",
   "nbconvert_exporter": "python",
   "pygments_lexer": "ipython3",
   "version": "3.8.8"
  }
 },
 "nbformat": 4,
 "nbformat_minor": 5
}
