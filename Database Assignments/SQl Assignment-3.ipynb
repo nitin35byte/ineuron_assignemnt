{
 "cells": [
  {
   "cell_type": "code",
   "execution_count": 1,
   "id": "f6adb3cf",
   "metadata": {},
   "outputs": [],
   "source": [
    "import pyodbc\n",
    "import pandas as pd\n",
    "import numpy as np"
   ]
  },
  {
   "cell_type": "markdown",
   "id": "89ead255",
   "metadata": {},
   "source": [
    "### Write an SQL query to print the FIRST_NAME from Worker table after removing white spaces from the right side"
   ]
  },
  {
   "cell_type": "code",
   "execution_count": null,
   "id": "aedc2c00",
   "metadata": {},
   "outputs": [],
   "source": [
    "Sol:\n",
    "    Select rtrim(First_Name) from worker"
   ]
  },
  {
   "cell_type": "markdown",
   "id": "9c3d85dd",
   "metadata": {},
   "source": [
    "### Write an SQL query that fetches the unique values of DEPARTMENT from Worker table and prints its length."
   ]
  },
  {
   "cell_type": "code",
   "execution_count": null,
   "id": "aa23bdd1",
   "metadata": {},
   "outputs": [],
   "source": [
    "Sol:\n",
    "    SELECT DISTINCT Department, LEN(Department) AS Department_Name_Length FROM worker"
   ]
  },
  {
   "cell_type": "markdown",
   "id": "6dd05ef8",
   "metadata": {},
   "source": [
    "### Write an SQL query to fetch nth max salaries from a table."
   ]
  },
  {
   "cell_type": "code",
   "execution_count": null,
   "id": "e2580c8c",
   "metadata": {},
   "outputs": [],
   "source": [
    "Sol1:\n",
    "    SELECT TOP 1 salary FROM (SELECT DISTINCT TOP N salary FROM workerORDER BY salary DESC) AS temp ORDER BY salary\n",
    "\n",
    "Sol2:\n",
    "    Select max(Salary) as Salary from worker where Exists (Select TOP (3)[First_Name],[Salary] from worker order by [Salary] desc"
   ]
  }
 ],
 "metadata": {
  "kernelspec": {
   "display_name": "Python 3",
   "language": "python",
   "name": "python3"
  },
  "language_info": {
   "codemirror_mode": {
    "name": "ipython",
    "version": 3
   },
   "file_extension": ".py",
   "mimetype": "text/x-python",
   "name": "python",
   "nbconvert_exporter": "python",
   "pygments_lexer": "ipython3",
   "version": "3.8.8"
  }
 },
 "nbformat": 4,
 "nbformat_minor": 5
}
