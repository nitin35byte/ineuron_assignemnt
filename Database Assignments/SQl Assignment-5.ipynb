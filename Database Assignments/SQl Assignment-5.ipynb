{
 "cells": [
  {
   "cell_type": "markdown",
   "id": "bcdb3179",
   "metadata": {},
   "source": [
    "### Write an SQL query to print details of workers excluding first names, “Vipul” and “Satish” from Worker table."
   ]
  },
  {
   "cell_type": "code",
   "execution_count": null,
   "id": "481cc752",
   "metadata": {},
   "outputs": [],
   "source": [
    "Sol:\n",
    "    Select * from Worker where First_Name not in ('Vipul','Satish')"
   ]
  },
  {
   "cell_type": "markdown",
   "id": "b6097f9f",
   "metadata": {},
   "source": [
    "### Write an SQL query to print details of the Workers whose FIRST_NAME ends with ‘h’ and contains six alphabets"
   ]
  },
  {
   "cell_type": "code",
   "execution_count": null,
   "id": "8c8dbebb",
   "metadata": {},
   "outputs": [],
   "source": [
    "sol:\n",
    "    Select * from Worker where First_Name like '_____h';"
   ]
  },
  {
   "cell_type": "markdown",
   "id": "7675569f",
   "metadata": {},
   "source": [
    "### Write a query to validate Email of Employee"
   ]
  },
  {
   "cell_type": "code",
   "execution_count": null,
   "id": "93f4b41e",
   "metadata": {},
   "outputs": [],
   "source": [
    "Sol 1:\n",
    "    SELECT * FROM worker WHERE Email_id NOT LIKE '[0-9a-zA-Z]%@%.%'\"\n",
    "    \n",
    "Sol 2:\n",
    "    SELECT * FROM worker WHERE Email_id LIKE '%@gmail.com';"
   ]
  }
 ],
 "metadata": {
  "kernelspec": {
   "display_name": "Python 3",
   "language": "python",
   "name": "python3"
  },
  "language_info": {
   "codemirror_mode": {
    "name": "ipython",
    "version": 3
   },
   "file_extension": ".py",
   "mimetype": "text/x-python",
   "name": "python",
   "nbconvert_exporter": "python",
   "pygments_lexer": "ipython3",
   "version": "3.8.8"
  }
 },
 "nbformat": 4,
 "nbformat_minor": 5
}
