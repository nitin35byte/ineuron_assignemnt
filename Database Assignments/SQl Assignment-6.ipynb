{
 "cells": [
  {
   "cell_type": "markdown",
   "id": "9fc7a024",
   "metadata": {},
   "source": [
    "### Write an SQL query to print details of the Workers who have joined in Feb’2014."
   ]
  },
  {
   "cell_type": "code",
   "execution_count": null,
   "id": "7de2fecf",
   "metadata": {},
   "outputs": [],
   "source": [
    "Sol:\n",
    "    Select * from Worker where year(JOINING_DATE) = 2014 and month(JOINING_DATE) = 2;"
   ]
  },
  {
   "cell_type": "markdown",
   "id": "ac49907d",
   "metadata": {},
   "source": [
    "### Write an SQL query to fetch duplicate records having matching data in some fields of a table."
   ]
  },
  {
   "cell_type": "code",
   "execution_count": null,
   "id": "991bbbfe",
   "metadata": {},
   "outputs": [],
   "source": [
    "Sol:\n",
    "    SELECT Emp_no, COUNT(Emp_no) FROM worker GROUP BY Emp_no HAVING COUNT(Emp_no)>1;"
   ]
  },
  {
   "cell_type": "markdown",
   "id": "ea6d765e",
   "metadata": {},
   "source": [
    "### How to remove duplicate rows from worker table."
   ]
  },
  {
   "cell_type": "code",
   "execution_count": null,
   "id": "0cec29b6",
   "metadata": {},
   "outputs": [],
   "source": [
    " Ans.\n",
    "    Duplicate rows can be removed through DELETE FROM syntax"
   ]
  }
 ],
 "metadata": {
  "kernelspec": {
   "display_name": "Python 3",
   "language": "python",
   "name": "python3"
  },
  "language_info": {
   "codemirror_mode": {
    "name": "ipython",
    "version": 3
   },
   "file_extension": ".py",
   "mimetype": "text/x-python",
   "name": "python",
   "nbconvert_exporter": "python",
   "pygments_lexer": "ipython3",
   "version": "3.8.8"
  }
 },
 "nbformat": 4,
 "nbformat_minor": 5
}
