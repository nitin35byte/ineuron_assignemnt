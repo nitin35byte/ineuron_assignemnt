{
 "cells": [
  {
   "cell_type": "markdown",
   "id": "93124fdb",
   "metadata": {},
   "source": [
    "### Write an SQL query to show the top n (say 10) records of a table"
   ]
  },
  {
   "cell_type": "code",
   "execution_count": null,
   "id": "ad449d78",
   "metadata": {},
   "outputs": [],
   "source": [
    "Sol: \n",
    "    Select Top 10* from worker"
   ]
  },
  {
   "cell_type": "markdown",
   "id": "c27a996d",
   "metadata": {},
   "source": [
    "### Write an SQL query to determine the nth (say n=5) highest salary from a table."
   ]
  },
  {
   "cell_type": "code",
   "execution_count": null,
   "id": "9faa4abb",
   "metadata": {},
   "outputs": [],
   "source": [
    "Sol: \n",
    "    Select max(Salary) from worker where Exists (Select TOP (5) Salary from worker order by Salary desc)"
   ]
  }
 ],
 "metadata": {
  "kernelspec": {
   "display_name": "Python 3",
   "language": "python",
   "name": "python3"
  },
  "language_info": {
   "codemirror_mode": {
    "name": "ipython",
    "version": 3
   },
   "file_extension": ".py",
   "mimetype": "text/x-python",
   "name": "python",
   "nbconvert_exporter": "python",
   "pygments_lexer": "ipython3",
   "version": "3.8.8"
  }
 },
 "nbformat": 4,
 "nbformat_minor": 5
}
