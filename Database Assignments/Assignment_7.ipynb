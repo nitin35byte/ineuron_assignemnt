{
 "cells": [
  {
   "cell_type": "markdown",
   "id": "508b935e",
   "metadata": {},
   "source": [
    "### Write an SQL query to show only odd rows from a table."
   ]
  },
  {
   "cell_type": "code",
   "execution_count": null,
   "id": "1a27cba3",
   "metadata": {},
   "outputs": [],
   "source": [
    "sol:\n",
    "    select * from worker where Emp_no %2!=0"
   ]
  },
  {
   "cell_type": "markdown",
   "id": "e2bffc4a",
   "metadata": {},
   "source": [
    "### Write an SQL query to clone a new table from another table."
   ]
  },
  {
   "cell_type": "code",
   "execution_count": null,
   "id": "a3a28a16",
   "metadata": {},
   "outputs": [],
   "source": [
    "Step 1. CREATE TABLE 'worker 1'\n",
    "Step 2. CREATE TABLE `CLONE_TBL\n",
    "Step 3. INSERT INTO CLONE_TBL"
   ]
  }
 ],
 "metadata": {
  "kernelspec": {
   "display_name": "Python 3",
   "language": "python",
   "name": "python3"
  },
  "language_info": {
   "codemirror_mode": {
    "name": "ipython",
    "version": 3
   },
   "file_extension": ".py",
   "mimetype": "text/x-python",
   "name": "python",
   "nbconvert_exporter": "python",
   "pygments_lexer": "ipython3",
   "version": "3.8.8"
  }
 },
 "nbformat": 4,
 "nbformat_minor": 5
}
