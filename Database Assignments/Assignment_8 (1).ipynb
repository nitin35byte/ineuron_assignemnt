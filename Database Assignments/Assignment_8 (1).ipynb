{
 "cells": [
  {
   "cell_type": "markdown",
   "id": "b6d48382",
   "metadata": {},
   "source": [
    "### Write an SQL query to fetch intersecting records of two tables."
   ]
  },
  {
   "cell_type": "code",
   "execution_count": null,
   "id": "456dd5a2",
   "metadata": {},
   "outputs": [],
   "source": [
    "SELECT worker.Emp_no,worker.First_Name,worker_clone.Salary,worker_clone.Date_of_Joining FROM worker LEFT JOIN worker_clone on worker"
   ]
  },
  {
   "cell_type": "markdown",
   "id": "760368aa",
   "metadata": {},
   "source": [
    "### Write an SQL query to show records from one table that another table does not have."
   ]
  },
  {
   "cell_type": "code",
   "execution_count": null,
   "id": "d2d34649",
   "metadata": {},
   "outputs": [],
   "source": [
    "Sol:\n",
    "    SELECT t1.First_Name FROM worker t1 LEFT JOIN worker_clone t2 ON t2.First_Name = t1.First_Name WHERE t2.First_Name IS NULL"
   ]
  }
 ],
 "metadata": {
  "kernelspec": {
   "display_name": "Python 3",
   "language": "python",
   "name": "python3"
  },
  "language_info": {
   "codemirror_mode": {
    "name": "ipython",
    "version": 3
   },
   "file_extension": ".py",
   "mimetype": "text/x-python",
   "name": "python",
   "nbconvert_exporter": "python",
   "pygments_lexer": "ipython3",
   "version": "3.8.8"
  }
 },
 "nbformat": 4,
 "nbformat_minor": 5
}
