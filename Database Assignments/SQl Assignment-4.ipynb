{
 "cells": [
  {
   "cell_type": "code",
   "execution_count": 10,
   "id": "05d1381d",
   "metadata": {},
   "outputs": [],
   "source": [
    "import pyodbc\n",
    "import pandas as pd\n",
    "import numpy as np"
   ]
  },
  {
   "cell_type": "markdown",
   "id": "fafa220f",
   "metadata": {},
   "source": [
    "### Write an SQL query to print the FIRST_NAME from Worker table after replacing ‘a’ with ‘A’."
   ]
  },
  {
   "cell_type": "code",
   "execution_count": null,
   "id": "927da561",
   "metadata": {},
   "outputs": [],
   "source": [
    "Sol:\n",
    "    SELECT REPLACE(FIRST_NAME,'a','A') as First_Name  FROM worker"
   ]
  },
  {
   "cell_type": "markdown",
   "id": "8353e696",
   "metadata": {},
   "source": [
    "### Write an SQL query to print all Worker details from the Worker table order by FIRST_NAME Ascending and DEPARTMENT Descending."
   ]
  },
  {
   "cell_type": "code",
   "execution_count": null,
   "id": "0d1e3490",
   "metadata": {},
   "outputs": [],
   "source": [
    "Sol:\n",
    "    SELECT * FROM worker ORDER BY First_Name ASC, Department DESC"
   ]
  },
  {
   "cell_type": "markdown",
   "id": "6305d20d",
   "metadata": {},
   "source": [
    "### Write an SQL query to fetch the names of workers who earn the highest salary."
   ]
  },
  {
   "cell_type": "code",
   "execution_count": null,
   "id": "ae249379",
   "metadata": {},
   "outputs": [],
   "source": [
    "Sol:\n",
    "    SELECT First_Name, Salary from worker WHERE Salary=(SELECT max(Salary) from worker)"
   ]
  }
 ],
 "metadata": {
  "kernelspec": {
   "display_name": "Python 3",
   "language": "python",
   "name": "python3"
  },
  "language_info": {
   "codemirror_mode": {
    "name": "ipython",
    "version": 3
   },
   "file_extension": ".py",
   "mimetype": "text/x-python",
   "name": "python",
   "nbconvert_exporter": "python",
   "pygments_lexer": "ipython3",
   "version": "3.8.8"
  }
 },
 "nbformat": 4,
 "nbformat_minor": 5
}
